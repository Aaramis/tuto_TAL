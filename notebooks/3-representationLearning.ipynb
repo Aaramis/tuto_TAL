{
 "cells": [
  {
   "cell_type": "markdown",
   "metadata": {},
   "source": [
    "# NLP & representation learning : Neural Embeddings, Text Classification, Text Generation\n",
    "\n",
    "\n",
    "To use statistical classifiers with text, it is first necessary to vectorize the text. In the first practical session we explored the **bag of word** model. \n",
    "\n",
    "Modern **state of the art** methods uses  embeddings to vectorize the text before classification in order to avoid feature engineering.\n",
    "\n",
    "## Dataset\n",
    "https://github.com/vguigue/tuto_TAL/tree/main/notebooks/ressources\n",
    "\n",
    "## \"Modern\" NLP pipeline\n",
    "\n",
    "By opposition to the **bag of word** model, in the modern NLP pipeline everything is **embeddings**. Instead of encoding a text as a **sparse vector** of length $D$ (size of feature dictionnary) the goal is to encode the text in a meaningful dense vector of a small size $|e| <<< |D|$. \n",
    "\n",
    "\n",
    "The raw classification pipeline is then the following:\n",
    "\n",
    "```\n",
    "raw text ---|embedding table|-->  vectors --|Neural Net|--> class \n",
    "```\n",
    "\n",
    "\n",
    "### Using a  language model:\n",
    "\n",
    "How to tokenize the text and extract a feature dictionnary is still a manual task. To directly have meaningful embeddings, it is common to use a pre-trained language model such as `word2vec` which we explore in this practical.\n",
    "\n",
    "In this setting, the pipeline becomes the following:\n",
    "```\n",
    "      \n",
    "raw text ---|(pre-trained) Language Model|--> vectors --|classifier (or fine-tuning)|--> class \n",
    "```\n",
    "\n",
    "\n",
    "- #### Classic word embeddings\n",
    "\n",
    " - [Word2Vec](https://arxiv.org/abs/1301.3781)\n",
    " - [Glove](https://nlp.stanford.edu/projects/glove/)\n",
    "\n",
    "\n",
    "- #### bleeding edge language models techniques (only here for reference)\n",
    "\n",
    " - [UMLFIT](https://arxiv.org/abs/1801.06146)\n",
    " - [ELMO](https://arxiv.org/abs/1802.05365)\n",
    " - [GPT](https://blog.openai.com/language-unsupervised/)\n",
    " - [BERT](https://arxiv.org/abs/1810.04805)\n",
    "\n",
    "\n",
    "\n",
    "\n",
    "\n",
    "\n",
    "### Goal of this session:\n",
    "\n",
    "1. Train word embeddings on training dataset\n",
    "2. Tinker with the learnt embeddings and see learnt relations\n",
    "3. Tinker with pre-trained embeddings.\n",
    "4. Use those embeddings for classification\n",
    "5. Compare different embedding models\n",
    "6. Pytorch first look: learn to generate text.\n",
    "\n",
    "\n",
    "\n",
    "\n",
    "\n",
    "##  Loading data (same as in nlp 1)"
   ]
  },
  {
   "cell_type": "code",
   "execution_count": 22,
   "metadata": {},
   "outputs": [
    {
     "name": "stdout",
     "output_type": "stream",
     "text": [
      "Number of train reviews :  25000\n",
      "----> # of positive :  12500\n",
      "----> # of negative :  12500\n",
      "\n",
      "[\"The undoubted highlight of this movie is Peter O'Toole's performance. In turn wildly comical and terribly terribly tragic. Does anybody do it better than O'Toole? I don't think so. What a great face that man has!<br /><br />The story is an odd one and quite disturbing and emotionally intense in parts (especially toward the end) but it is also oddly touching and does succeed on many levels. However, I felt the film basically revolved around Peter O'Toole's luminous performance and I'm sure I wouldn't have enjoyed it even half as much if he hadn't been in it.\", 1]\n",
      "\n",
      "Number of test reviews :  25000\n",
      "----> # of positive :  12500\n",
      "----> # of negative :  12500\n",
      "\n",
      "['Although credit should have been given to Dr. Seuess for stealing the story-line of \"Horton Hatches The Egg\", this was a fine film. It touched both the emotions and the intellect. Due especially to the incredible performance of seven year old Justin Henry and a script that was sympathetic to each character (and each one\\'s predicament), the thought provoking elements linger long after the tear jerking ones are over. Overall, superior acting from a solid cast, excellent directing, and a very powerful script. The right touches of humor throughout help keep a \"heavy\" subject from becoming tedious or difficult to sit through. Lastly, this film stands the test of time and seems in no way dated, decades after it was released.', 1]\n",
      "\n"
     ]
    }
   ],
   "source": [
    "import json\n",
    "from collections import Counter\n",
    "\n",
    "#### /!\\ YOU NEED TO UNZIP dataset/json_pol.zip first /!\\\n",
    "\n",
    "\n",
    "# Loading json\n",
    "with open(\"ressources/json_pol\",encoding=\"utf-8\") as f:\n",
    "    data = f.readlines()\n",
    "    json_data = json.loads(data[0])\n",
    "    train = json_data[\"train\"]\n",
    "    test = json_data[\"test\"]\n",
    "    \n",
    "\n",
    "# Quick Check\n",
    "counter_train = Counter((x[1] for x in train))\n",
    "counter_test = Counter((x[1] for x in test))\n",
    "print(\"Number of train reviews : \", len(train))\n",
    "print(\"----> # of positive : \", counter_train[1])\n",
    "print(\"----> # of negative : \", counter_train[0])\n",
    "print(\"\")\n",
    "print(train[0])\n",
    "print(\"\")\n",
    "print(\"Number of test reviews : \",len(test))\n",
    "print(\"----> # of positive : \", counter_test[1])\n",
    "print(\"----> # of negative : \", counter_test[0])\n",
    "\n",
    "print(\"\")\n",
    "print(test[0])\n",
    "print(\"\")\n",
    "\n"
   ]
  },
  {
   "cell_type": "markdown",
   "metadata": {},
   "source": [
    "## Word2Vec: Quick Recap\n",
    "\n",
    "**[Word2Vec](https://arxiv.org/abs/1301.3781) is composed of two distinct language models (CBOW and SG), optimized to quickly learn word vectors**\n",
    "\n",
    "\n",
    "given a random text: `i'm taking the dog out for a walk`\n",
    "\n",
    "\n",
    "\n",
    "### (a) Continuous Bag of Word (CBOW)\n",
    "    -  predicts a word given a context\n",
    "    \n",
    "maximizing `p(dog | i'm taking the ___ out for a walk)`\n",
    "    \n",
    "### (b) Skip-Gram (SG)               \n",
    "    -  predicts a context given a word\n",
    "    \n",
    " maximizing `p(i'm taking the out for a walk | dog)`\n",
    "\n",
    "\n",
    "\n",
    "   "
   ]
  },
  {
   "cell_type": "markdown",
   "metadata": {},
   "source": [
    "## Step 1: train (or load) a language model (word2vec)\n",
    "\n",
    "Gensim has one of [Word2Vec](https://radimrehurek.com/gensim/models/word2vec.html) fastest implementation.\n",
    "\n",
    "\n",
    "### Train:"
   ]
  },
  {
   "cell_type": "code",
   "execution_count": 3,
   "metadata": {},
   "outputs": [
    {
     "name": "stdout",
     "output_type": "stream",
     "text": [
      "Collecting gensim\n",
      "  Downloading gensim-4.2.0-cp39-cp39-macosx_10_9_x86_64.whl (24.0 MB)\n",
      "\u001b[K     |████████████████████████████████| 24.0 MB 326 kB/s eta 0:00:01\n",
      "\u001b[?25hRequirement already satisfied: scipy>=0.18.1 in /Users/vguigue/opt/anaconda3/lib/python3.9/site-packages (from gensim) (1.7.1)\n",
      "Requirement already satisfied: numpy>=1.17.0 in /Users/vguigue/opt/anaconda3/lib/python3.9/site-packages (from gensim) (1.20.3)\n",
      "Collecting smart-open>=1.8.1\n",
      "  Downloading smart_open-6.2.0-py3-none-any.whl (58 kB)\n",
      "\u001b[K     |████████████████████████████████| 58 kB 34.1 MB/s eta 0:00:01\n",
      "\u001b[?25hInstalling collected packages: smart-open, gensim\n",
      "Successfully installed gensim-4.2.0 smart-open-6.2.0\n"
     ]
    }
   ],
   "source": [
    "# if gensim not installed yet\n",
    "# ! pip install gensim"
   ]
  },
  {
   "cell_type": "code",
   "execution_count": 12,
   "metadata": {},
   "outputs": [
    {
     "name": "stderr",
     "output_type": "stream",
     "text": [
      "2022-11-16 10:39:03,756 : INFO : collecting all words and their counts\n",
      "2022-11-16 10:39:03,757 : INFO : PROGRESS: at sentence #0, processed 0 words, keeping 0 word types\n",
      "2022-11-16 10:39:04,135 : INFO : PROGRESS: at sentence #10000, processed 2358544 words, keeping 155393 word types\n",
      "2022-11-16 10:39:04,540 : INFO : PROGRESS: at sentence #20000, processed 4675912 words, keeping 243050 word types\n",
      "2022-11-16 10:39:04,768 : INFO : collected 280617 word types from a corpus of 5844680 raw words and 25000 sentences\n",
      "2022-11-16 10:39:04,768 : INFO : Creating a fresh vocabulary\n",
      "2022-11-16 10:39:04,955 : INFO : Word2Vec lifecycle event {'msg': 'effective_min_count=5 retains 49345 unique words (17.58% of original 280617, drops 231272)', 'datetime': '2022-11-16T10:39:04.955213', 'gensim': '4.2.0', 'python': '3.9.7 (default, Sep 16 2021, 08:50:36) \\n[Clang 10.0.0 ]', 'platform': 'macOS-10.16-x86_64-i386-64bit', 'event': 'prepare_vocab'}\n",
      "2022-11-16 10:39:04,955 : INFO : Word2Vec lifecycle event {'msg': 'effective_min_count=5 leaves 5517507 word corpus (94.40% of original 5844680, drops 327173)', 'datetime': '2022-11-16T10:39:04.955819', 'gensim': '4.2.0', 'python': '3.9.7 (default, Sep 16 2021, 08:50:36) \\n[Clang 10.0.0 ]', 'platform': 'macOS-10.16-x86_64-i386-64bit', 'event': 'prepare_vocab'}\n",
      "2022-11-16 10:39:05,140 : INFO : deleting the raw counts dictionary of 280617 items\n",
      "2022-11-16 10:39:05,145 : INFO : sample=0.001 downsamples 43 most-common words\n",
      "2022-11-16 10:39:05,146 : INFO : Word2Vec lifecycle event {'msg': 'downsampling leaves estimated 4268608.194985565 word corpus (77.4%% of prior 5517507)', 'datetime': '2022-11-16T10:39:05.146183', 'gensim': '4.2.0', 'python': '3.9.7 (default, Sep 16 2021, 08:50:36) \\n[Clang 10.0.0 ]', 'platform': 'macOS-10.16-x86_64-i386-64bit', 'event': 'prepare_vocab'}\n",
      "2022-11-16 10:39:05,481 : INFO : estimated required memory for 49345 words and 100 dimensions: 64148500 bytes\n",
      "2022-11-16 10:39:05,482 : INFO : resetting layer weights\n",
      "2022-11-16 10:39:05,498 : INFO : Word2Vec lifecycle event {'update': False, 'trim_rule': 'None', 'datetime': '2022-11-16T10:39:05.498057', 'gensim': '4.2.0', 'python': '3.9.7 (default, Sep 16 2021, 08:50:36) \\n[Clang 10.0.0 ]', 'platform': 'macOS-10.16-x86_64-i386-64bit', 'event': 'build_vocab'}\n",
      "2022-11-16 10:39:05,498 : INFO : Word2Vec lifecycle event {'msg': 'training model with 3 workers on 49345 vocabulary and 100 features, using sg=1 hs=0 sample=0.001 negative=5 window=5 shrink_windows=True', 'datetime': '2022-11-16T10:39:05.498706', 'gensim': '4.2.0', 'python': '3.9.7 (default, Sep 16 2021, 08:50:36) \\n[Clang 10.0.0 ]', 'platform': 'macOS-10.16-x86_64-i386-64bit', 'event': 'train'}\n",
      "2022-11-16 10:39:06,504 : INFO : EPOCH 0 - PROGRESS: at 7.99% examples, 348993 words/s, in_qsize 6, out_qsize 0\n",
      "2022-11-16 10:39:07,529 : INFO : EPOCH 0 - PROGRESS: at 16.74% examples, 356114 words/s, in_qsize 5, out_qsize 0\n",
      "2022-11-16 10:39:08,536 : INFO : EPOCH 0 - PROGRESS: at 25.32% examples, 358025 words/s, in_qsize 5, out_qsize 0\n",
      "2022-11-16 10:39:09,544 : INFO : EPOCH 0 - PROGRESS: at 33.64% examples, 358874 words/s, in_qsize 5, out_qsize 0\n",
      "2022-11-16 10:39:10,546 : INFO : EPOCH 0 - PROGRESS: at 41.88% examples, 355813 words/s, in_qsize 5, out_qsize 0\n",
      "2022-11-16 10:39:11,554 : INFO : EPOCH 0 - PROGRESS: at 50.18% examples, 357017 words/s, in_qsize 5, out_qsize 0\n",
      "2022-11-16 10:39:12,562 : INFO : EPOCH 0 - PROGRESS: at 58.92% examples, 357853 words/s, in_qsize 5, out_qsize 0\n",
      "2022-11-16 10:39:13,565 : INFO : EPOCH 0 - PROGRESS: at 67.70% examples, 359634 words/s, in_qsize 5, out_qsize 0\n",
      "2022-11-16 10:39:14,580 : INFO : EPOCH 0 - PROGRESS: at 76.34% examples, 359197 words/s, in_qsize 5, out_qsize 0\n",
      "2022-11-16 10:39:15,594 : INFO : EPOCH 0 - PROGRESS: at 84.70% examples, 358315 words/s, in_qsize 5, out_qsize 0\n",
      "2022-11-16 10:39:16,598 : INFO : EPOCH 0 - PROGRESS: at 92.98% examples, 358406 words/s, in_qsize 5, out_qsize 0\n",
      "2022-11-16 10:39:17,374 : INFO : EPOCH 0: training on 5844680 raw words (4268349 effective words) took 11.9s, 359550 effective words/s\n",
      "2022-11-16 10:39:18,419 : INFO : EPOCH 1 - PROGRESS: at 7.99% examples, 335023 words/s, in_qsize 5, out_qsize 0\n",
      "2022-11-16 10:39:19,446 : INFO : EPOCH 1 - PROGRESS: at 16.60% examples, 345240 words/s, in_qsize 5, out_qsize 0\n",
      "2022-11-16 10:39:20,469 : INFO : EPOCH 1 - PROGRESS: at 25.16% examples, 348987 words/s, in_qsize 5, out_qsize 0\n",
      "2022-11-16 10:39:21,474 : INFO : EPOCH 1 - PROGRESS: at 31.75% examples, 333113 words/s, in_qsize 5, out_qsize 0\n",
      "2022-11-16 10:39:22,475 : INFO : EPOCH 1 - PROGRESS: at 40.18% examples, 338003 words/s, in_qsize 5, out_qsize 0\n",
      "2022-11-16 10:39:23,513 : INFO : EPOCH 1 - PROGRESS: at 48.66% examples, 341498 words/s, in_qsize 5, out_qsize 0\n",
      "2022-11-16 10:39:24,538 : INFO : EPOCH 1 - PROGRESS: at 57.70% examples, 345757 words/s, in_qsize 6, out_qsize 0\n",
      "2022-11-16 10:39:25,554 : INFO : EPOCH 1 - PROGRESS: at 66.28% examples, 347534 words/s, in_qsize 6, out_qsize 0\n",
      "2022-11-16 10:39:26,564 : INFO : EPOCH 1 - PROGRESS: at 75.16% examples, 349415 words/s, in_qsize 5, out_qsize 0\n",
      "2022-11-16 10:39:27,577 : INFO : EPOCH 1 - PROGRESS: at 83.86% examples, 350968 words/s, in_qsize 5, out_qsize 0\n",
      "2022-11-16 10:39:28,596 : INFO : EPOCH 1 - PROGRESS: at 92.36% examples, 351913 words/s, in_qsize 5, out_qsize 0\n",
      "2022-11-16 10:39:29,455 : INFO : EPOCH 1: training on 5844680 raw words (4269035 effective words) took 12.1s, 353417 effective words/s\n",
      "2022-11-16 10:39:30,459 : INFO : EPOCH 2 - PROGRESS: at 8.13% examples, 355812 words/s, in_qsize 5, out_qsize 0\n",
      "2022-11-16 10:39:31,462 : INFO : EPOCH 2 - PROGRESS: at 16.74% examples, 360128 words/s, in_qsize 6, out_qsize 0\n",
      "2022-11-16 10:39:32,469 : INFO : EPOCH 2 - PROGRESS: at 25.48% examples, 362845 words/s, in_qsize 5, out_qsize 0\n",
      "2022-11-16 10:39:33,471 : INFO : EPOCH 2 - PROGRESS: at 33.64% examples, 361306 words/s, in_qsize 5, out_qsize 0\n",
      "2022-11-16 10:39:34,489 : INFO : EPOCH 2 - PROGRESS: at 42.35% examples, 360878 words/s, in_qsize 5, out_qsize 0\n",
      "2022-11-16 10:39:35,510 : INFO : EPOCH 2 - PROGRESS: at 50.69% examples, 360555 words/s, in_qsize 5, out_qsize 0\n",
      "2022-11-16 10:39:36,510 : INFO : EPOCH 2 - PROGRESS: at 59.24% examples, 360293 words/s, in_qsize 5, out_qsize 0\n",
      "2022-11-16 10:39:37,524 : INFO : EPOCH 2 - PROGRESS: at 67.87% examples, 360354 words/s, in_qsize 5, out_qsize 0\n",
      "2022-11-16 10:39:38,533 : INFO : EPOCH 2 - PROGRESS: at 76.49% examples, 360069 words/s, in_qsize 5, out_qsize 0\n",
      "2022-11-16 10:39:39,566 : INFO : EPOCH 2 - PROGRESS: at 85.17% examples, 359791 words/s, in_qsize 5, out_qsize 0\n",
      "2022-11-16 10:39:40,584 : INFO : EPOCH 2 - PROGRESS: at 93.77% examples, 360047 words/s, in_qsize 5, out_qsize 0\n",
      "2022-11-16 10:39:41,296 : INFO : EPOCH 2: training on 5844680 raw words (4269044 effective words) took 11.8s, 360588 effective words/s\n",
      "2022-11-16 10:39:42,303 : INFO : EPOCH 3 - PROGRESS: at 7.99% examples, 347954 words/s, in_qsize 6, out_qsize 0\n",
      "2022-11-16 10:39:43,322 : INFO : EPOCH 3 - PROGRESS: at 16.74% examples, 356541 words/s, in_qsize 5, out_qsize 0\n",
      "2022-11-16 10:39:44,336 : INFO : EPOCH 3 - PROGRESS: at 25.32% examples, 357462 words/s, in_qsize 5, out_qsize 0\n",
      "2022-11-16 10:39:45,352 : INFO : EPOCH 3 - PROGRESS: at 33.64% examples, 357742 words/s, in_qsize 5, out_qsize 0\n",
      "2022-11-16 10:39:46,385 : INFO : EPOCH 3 - PROGRESS: at 42.35% examples, 356987 words/s, in_qsize 5, out_qsize 0\n",
      "2022-11-16 10:39:47,410 : INFO : EPOCH 3 - PROGRESS: at 50.69% examples, 357040 words/s, in_qsize 6, out_qsize 0\n",
      "2022-11-16 10:39:48,429 : INFO : EPOCH 3 - PROGRESS: at 59.40% examples, 357285 words/s, in_qsize 5, out_qsize 0\n",
      "2022-11-16 10:39:49,446 : INFO : EPOCH 3 - PROGRESS: at 68.04% examples, 357646 words/s, in_qsize 6, out_qsize 0\n",
      "2022-11-16 10:39:50,459 : INFO : EPOCH 3 - PROGRESS: at 76.34% examples, 355970 words/s, in_qsize 6, out_qsize 0\n",
      "2022-11-16 10:39:51,479 : INFO : EPOCH 3 - PROGRESS: at 85.01% examples, 356567 words/s, in_qsize 5, out_qsize 0\n",
      "2022-11-16 10:39:52,501 : INFO : EPOCH 3 - PROGRESS: at 93.60% examples, 356944 words/s, in_qsize 5, out_qsize 0\n",
      "2022-11-16 10:39:53,242 : INFO : EPOCH 3: training on 5844680 raw words (4268938 effective words) took 11.9s, 357408 effective words/s\n",
      "2022-11-16 10:39:54,273 : INFO : EPOCH 4 - PROGRESS: at 7.99% examples, 339745 words/s, in_qsize 5, out_qsize 0\n",
      "2022-11-16 10:39:55,279 : INFO : EPOCH 4 - PROGRESS: at 16.60% examples, 350997 words/s, in_qsize 5, out_qsize 0\n",
      "2022-11-16 10:39:56,294 : INFO : EPOCH 4 - PROGRESS: at 25.16% examples, 353731 words/s, in_qsize 5, out_qsize 0\n",
      "2022-11-16 10:39:57,302 : INFO : EPOCH 4 - PROGRESS: at 33.52% examples, 355701 words/s, in_qsize 6, out_qsize 0\n",
      "2022-11-16 10:39:58,320 : INFO : EPOCH 4 - PROGRESS: at 42.19% examples, 356433 words/s, in_qsize 5, out_qsize 0\n",
      "2022-11-16 10:39:59,335 : INFO : EPOCH 4 - PROGRESS: at 50.54% examples, 357147 words/s, in_qsize 5, out_qsize 0\n",
      "2022-11-16 10:40:00,353 : INFO : EPOCH 4 - PROGRESS: at 59.24% examples, 357452 words/s, in_qsize 5, out_qsize 0\n",
      "2022-11-16 10:40:01,376 : INFO : EPOCH 4 - PROGRESS: at 67.87% examples, 357478 words/s, in_qsize 5, out_qsize 0\n",
      "2022-11-16 10:40:02,409 : INFO : EPOCH 4 - PROGRESS: at 76.66% examples, 357368 words/s, in_qsize 6, out_qsize 0\n",
      "2022-11-16 10:40:03,439 : INFO : EPOCH 4 - PROGRESS: at 85.32% examples, 357473 words/s, in_qsize 6, out_qsize 0\n",
      "2022-11-16 10:40:04,474 : INFO : EPOCH 4 - PROGRESS: at 93.92% examples, 357374 words/s, in_qsize 5, out_qsize 0\n",
      "2022-11-16 10:40:05,160 : INFO : EPOCH 4: training on 5844680 raw words (4268691 effective words) took 11.9s, 358232 effective words/s\n",
      "2022-11-16 10:40:05,160 : INFO : Word2Vec lifecycle event {'msg': 'training on 29223400 raw words (21344057 effective words) took 59.7s, 357753 effective words/s', 'datetime': '2022-11-16T10:40:05.160929', 'gensim': '4.2.0', 'python': '3.9.7 (default, Sep 16 2021, 08:50:36) \\n[Clang 10.0.0 ]', 'platform': 'macOS-10.16-x86_64-i386-64bit', 'event': 'train'}\n",
      "2022-11-16 10:40:05,161 : INFO : Word2Vec lifecycle event {'params': 'Word2Vec<vocab=49345, vector_size=100, alpha=0.025>', 'datetime': '2022-11-16T10:40:05.161358', 'gensim': '4.2.0', 'python': '3.9.7 (default, Sep 16 2021, 08:50:36) \\n[Clang 10.0.0 ]', 'platform': 'macOS-10.16-x86_64-i386-64bit', 'event': 'created'}\n"
     ]
    }
   ],
   "source": [
    "import gensim\n",
    "import logging\n",
    "logging.basicConfig(format='%(asctime)s : %(levelname)s : %(message)s', level=logging.INFO)\n",
    "\n",
    "text = [t.split() for t,p in train]\n",
    "\n",
    "# the following configuration is the default configuration\n",
    "w2v = gensim.models.word2vec.Word2Vec(sentences=text,\n",
    "                                vector_size=100, window=5,               ### here we train a cbow model \n",
    "                                min_count=5,                      \n",
    "                                sample=0.001, workers=3,\n",
    "                                sg=1, hs=0, negative=5,        ### set sg to 1 to train a sg model\n",
    "                                cbow_mean=1, epochs=5)"
   ]
  },
  {
   "cell_type": "code",
   "execution_count": 17,
   "metadata": {},
   "outputs": [
    {
     "name": "stderr",
     "output_type": "stream",
     "text": [
      "2022-11-16 10:43:09,671 : INFO : loading Word2Vec object from W2v-movies.dat\n",
      "2022-11-16 10:43:09,692 : INFO : loading wv recursively from W2v-movies.dat.wv.* with mmap=None\n",
      "2022-11-16 10:43:09,692 : INFO : setting ignored attribute cum_table to None\n",
      "2022-11-16 10:43:10,019 : INFO : Word2Vec lifecycle event {'fname': 'W2v-movies.dat', 'datetime': '2022-11-16T10:43:10.019220', 'gensim': '4.2.0', 'python': '3.9.7 (default, Sep 16 2021, 08:50:36) \\n[Clang 10.0.0 ]', 'platform': 'macOS-10.16-x86_64-i386-64bit', 'event': 'loaded'}\n"
     ]
    }
   ],
   "source": [
    "# Worth it to save the previous embedding\n",
    "w2v.save(\"W2v-movies.dat\")\n",
    "\n",
    "# You will be able to reload them:\n",
    "# w2v = gensim.models.Word2Vec.load(\"W2v-movies.dat\")\n",
    "# and you can continue the learning process if needed"
   ]
  },
  {
   "cell_type": "markdown",
   "metadata": {},
   "source": [
    "### Load pre-trained embeddings:\n",
    "\n",
    "<span style=\"color:red\"> FOR LATER </span>\n",
    "\n",
    "1. Test the learnt embedding from above\n",
    "2. Come back at this point and switch to pre-trained embeddings"
   ]
  },
  {
   "cell_type": "code",
   "execution_count": 16,
   "metadata": {},
   "outputs": [
    {
     "name": "stderr",
     "output_type": "stream",
     "text": [
      "2022-11-16 10:42:45,701 : INFO : adding document #0 to Dictionary<0 unique tokens: []>\n",
      "2022-11-16 10:42:45,702 : INFO : built Dictionary<12 unique tokens: ['computer', 'human', 'interface', 'response', 'survey']...> from 9 documents (total 29 corpus positions)\n",
      "2022-11-16 10:42:45,702 : INFO : Dictionary lifecycle event {'msg': \"built Dictionary<12 unique tokens: ['computer', 'human', 'interface', 'response', 'survey']...> from 9 documents (total 29 corpus positions)\", 'datetime': '2022-11-16T10:42:45.702854', 'gensim': '4.2.0', 'python': '3.9.7 (default, Sep 16 2021, 08:50:36) \\n[Clang 10.0.0 ]', 'platform': 'macOS-10.16-x86_64-i386-64bit', 'event': 'created'}\n",
      "2022-11-16 10:42:45,761 : INFO : loading projection weights from /Users/vguigue/opt/anaconda3/lib/python3.9/site-packages/gensim/test/test_data/word2vec_pre_kv_c\n",
      "2022-11-16 10:42:45,778 : INFO : KeyedVectors lifecycle event {'msg': 'loaded (1750, 10) matrix of type float32 from /Users/vguigue/opt/anaconda3/lib/python3.9/site-packages/gensim/test/test_data/word2vec_pre_kv_c', 'binary': False, 'encoding': 'utf8', 'datetime': '2022-11-16T10:42:45.778315', 'gensim': '4.2.0', 'python': '3.9.7 (default, Sep 16 2021, 08:50:36) \\n[Clang 10.0.0 ]', 'platform': 'macOS-10.16-x86_64-i386-64bit', 'event': 'load_word2vec_format'}\n"
     ]
    }
   ],
   "source": [
    "# # It's for later\n",
    "# 1. Test the learnt embedding from above\n",
    "# 2. Come back at this point and switch to pre-trained embeddings\n",
    "\n",
    "\n",
    "# from gensim.models import KeyedVectors\n",
    "# from gensim.test.utils import datapath\n",
    "# w2v = KeyedVectors.load_word2vec_format(datapath('word2vec_pre_kv_c'), binary=False)  "
   ]
  },
  {
   "cell_type": "markdown",
   "metadata": {},
   "source": [
    "In Gensim, embeddings are loaded and can be used via the [\"KeyedVectors\"](https://radimrehurek.com/gensim/models/keyedvectors.html) class\n",
    "\n",
    "> Since trained word vectors are independent from the way they were trained (Word2Vec, FastText, WordRank, VarEmbed etc), they can be represented by a standalone structure, as implemented in this module.\n",
    "\n",
    ">The structure is called “KeyedVectors” and is essentially a mapping between entities and vectors. Each entity is identified by its string id, so this is a mapping between {str => 1D numpy array}.\n",
    "\n",
    ">The entity typically corresponds to a word (so the mapping maps words to 1D vectors), but for some models, they key can also correspond to a document, a graph node etc. To generalize over different use-cases, this module calls the keys entities. Each entity is always represented by its string id, no matter whether the entity is a word, a document or a graph node."
   ]
  },
  {
   "cell_type": "markdown",
   "metadata": {},
   "source": [
    "## STEP 2: Test learnt embeddings\n",
    "\n",
    "The word embedding space directly encodes similarities between words: the vector coding for the word \"great\" will be closer to the vector coding for \"good\" than to the one coding for \"bad\". Generally, [cosine similarity](https://en.wikipedia.org/wiki/Cosine_similarity) is the distance used when considering distance between vectors.\n",
    "\n",
    "KeyedVectors have a built in [similarity](https://radimrehurek.com/gensim/models /keyedvectors.html#gensim.models.keyedvectors.BaseKeyedVectors.similarity) method to compute the cosine similarity between words"
   ]
  },
  {
   "cell_type": "code",
   "execution_count": 18,
   "metadata": {
    "collapsed": true
   },
   "outputs": [
    {
     "name": "stdout",
     "output_type": "stream",
     "text": [
      "great and good: 0.76562315\n",
      "great and bad: 0.47680086\n"
     ]
    }
   ],
   "source": [
    "# is great really closer to good than to bad ?\n",
    "print(\"great and good:\",w2v.wv.similarity(\"great\",\"good\"))\n",
    "print(\"great and bad:\",w2v.wv.similarity(\"great\",\"bad\"))"
   ]
  },
  {
   "cell_type": "markdown",
   "metadata": {},
   "source": [
    "Since cosine distance encodes similarity, neighboring words are supposed to be similar. The [most_similar](https://radimrehurek.com/gensim/models/keyedvectors.html#gensim.models.keyedvectors.BaseKeyedVectors.most_similar) method returns the `topn` words given a query."
   ]
  },
  {
   "cell_type": "code",
   "execution_count": 19,
   "metadata": {
    "collapsed": true
   },
   "outputs": [
    {
     "data": {
      "text/plain": [
       "[('film', 0.9381433725357056),\n",
       " ('\"film\"', 0.8264074921607971),\n",
       " ('movie,', 0.7786000370979309),\n",
       " ('\"movie\"', 0.7723526954650879),\n",
       " ('flick', 0.7719370722770691)]"
      ]
     },
     "execution_count": 19,
     "metadata": {},
     "output_type": "execute_result"
    }
   ],
   "source": [
    "# The query can be as simple as a word, such as \"movie\"\n",
    "\n",
    "# Try changing the word\n",
    "w2v.wv.most_similar(\"movie\",topn=5) # 5 most similar words\n",
    "#w2v.wv.most_similar(\"awesome\",topn=5)\n",
    "#w2v.wv.most_similar(\"actor\",topn=5)"
   ]
  },
  {
   "cell_type": "markdown",
   "metadata": {},
   "source": [
    "But it can be a more complicated query\n",
    "Word embedding spaces tend to encode much more.\n",
    "\n",
    "The most famous exemple is: `vec(king) - vec(man) + vec(woman) => vec(queen)`"
   ]
  },
  {
   "cell_type": "code",
   "execution_count": 10,
   "metadata": {
    "collapsed": true
   },
   "outputs": [
    {
     "data": {
      "text/plain": [
       "[('awful', 0.7505475878715515),\n",
       " ('unbelievable', 0.6501696109771729),\n",
       " ('abysmal', 0.6330827474594116)]"
      ]
     },
     "execution_count": 10,
     "metadata": {},
     "output_type": "execute_result"
    }
   ],
   "source": [
    "# What is awesome - good + bad ?\n",
    "w2v.wv.most_similar(positive=[\"awesome\",\"bad\"],negative=[\"good\"],topn=3)  \n",
    "\n",
    "#w2v.wv.most_similar(positive=[\"actor\",\"woman\"],negative=[\"man\"],topn=3) # do the famous exemple works for actor ?\n",
    "\n",
    "\n",
    "# Try other things like plurals for exemple.\n"
   ]
  },
  {
   "cell_type": "markdown",
   "metadata": {},
   "source": [
    "To test learnt \"synctactic\" and \"semantic\" similarities, Mikolov et al. introduced a special dataset containing a wide variety of three way similarities."
   ]
  },
  {
   "cell_type": "code",
   "execution_count": 23,
   "metadata": {
    "collapsed": true
   },
   "outputs": [
    {
     "name": "stderr",
     "output_type": "stream",
     "text": [
      "2022-11-16 10:45:45,594 : INFO : Evaluating word analogies for top 300000 words in the model on resources/questions-words.txt\n",
      "2022-11-16 10:45:45,861 : INFO : capital-common-countries: 0.0% (0/156)\n",
      "2022-11-16 10:45:46,035 : INFO : capital-world: 0.0% (0/111)\n",
      "2022-11-16 10:45:46,062 : INFO : currency: 0.0% (0/18)\n",
      "2022-11-16 10:45:46,561 : INFO : city-in-state: 0.0% (0/301)\n",
      "2022-11-16 10:45:47,247 : INFO : family: 30.0% (126/420)\n",
      "2022-11-16 10:45:48,556 : INFO : gram1-adjective-to-adverb: 1.4% (12/870)\n",
      "2022-11-16 10:45:49,364 : INFO : gram2-opposite: 2.2% (12/552)\n",
      "2022-11-16 10:45:51,162 : INFO : gram3-comparative: 20.2% (240/1190)\n",
      "2022-11-16 10:45:52,355 : INFO : gram4-superlative: 9.7% (73/756)\n",
      "2022-11-16 10:45:53,582 : INFO : gram5-present-participle: 18.0% (146/812)\n",
      "2022-11-16 10:45:55,062 : INFO : gram6-nationality-adjective: 2.3% (22/967)\n",
      "2022-11-16 10:45:56,990 : INFO : gram7-past-tense: 20.9% (263/1260)\n",
      "2022-11-16 10:45:58,324 : INFO : gram8-plural: 8.7% (71/812)\n",
      "2022-11-16 10:45:59,306 : INFO : gram9-plural-verbs: 30.3% (197/650)\n",
      "2022-11-16 10:45:59,307 : INFO : Quadruplets with out-of-vocabulary words: 54.6%\n",
      "2022-11-16 10:45:59,307 : INFO : NB: analogies containing OOV words were skipped from evaluation! To change this behavior, use \"dummy4unknown=True\"\n",
      "2022-11-16 10:45:59,308 : INFO : Total accuracy: 13.1% (1162/8875)\n"
     ]
    }
   ],
   "source": [
    "out = w2v.wv.evaluate_word_analogies(\"ressources/questions-words.txt\",case_insensitive=True)  #original semantic syntactic dataset."
   ]
  },
  {
   "cell_type": "markdown",
   "metadata": {},
   "source": [
    "When training the w2v models on the review dataset, since it hasn't been learnt with a lot of data, it does not perform very well. \n"
   ]
  },
  {
   "cell_type": "markdown",
   "metadata": {},
   "source": [
    "## STEP 3:  sentiment classification\n",
    "\n",
    "In the previous practical session, we used a bag of word approach to transform text into vectors.\n",
    "Here, we propose to try to use word vectors (previously learnt or loaded).\n",
    "\n",
    "\n",
    "### <font color='green'> Since we have only word vectors and that sentences are made of multiple words, we need to aggregate them. </font>\n",
    "\n",
    "\n",
    "### (1) Vectorize reviews using word vectors:\n",
    "\n",
    "Word aggregation can be done in different ways:\n",
    "\n",
    "- Sum\n",
    "- Average\n",
    "- Min/feature\n",
    "- Max/feature\n",
    "\n",
    "#### a few pointers:\n",
    "\n",
    "- `w2v.wv.vocab` is a `set()` of the vocabulary (all existing words in your model)\n",
    "- `np.minimum(a,b) and np.maximum(a,b)` respectively return element-wise min/max "
   ]
  },
  {
   "cell_type": "code",
   "execution_count": null,
   "metadata": {
    "collapsed": true
   },
   "outputs": [],
   "source": [
    "import numpy as np\n",
    "# We first need to vectorize text:\n",
    "# First we propose to a sum of them\n",
    "\n",
    "\n",
    "def vectorize(text,mean=False):\n",
    "\"\"\"\n",
    "This function should vectorize one review\n",
    "\n",
    "input: str\n",
    "output: np.array(float)\n",
    "\"\"\"    \n",
    "    \n",
    "    #for word in text:\n",
    "        # do something\n",
    "            \n",
    "    return vec\n",
    "    \n",
    "\n",
    "classes = [pol for text,pol in train]\n",
    "X = [vectorize(text) for text,pol in train]\n",
    "X_test = [vectorize(text) for text,pol in test]\n",
    "true = [pol for text,pol in test]\n",
    "\n",
    "#let's see what a review vector looks like.\n",
    "print(X[0])"
   ]
  },
  {
   "cell_type": "markdown",
   "metadata": {},
   "source": [
    "### (2) Train a classifier \n",
    "as in the previous practical session, train a logistic regression to do sentiment classification with word vectors\n",
    "\n"
   ]
  },
  {
   "cell_type": "code",
   "execution_count": null,
   "metadata": {
    "collapsed": true
   },
   "outputs": [],
   "source": [
    "\n",
    "\n",
    "from sklearn.linear_model import LogisticRegression\n",
    "from sklearn.metrics import accuracy_score\n",
    "\n",
    "\n",
    "# Scikit Logistic Regression\n"
   ]
  },
  {
   "cell_type": "markdown",
   "metadata": {},
   "source": [
    "performance should be worst than with bag of word (~80%). Sum/Mean aggregation does not work well on long reviews (especially with many frequent words). This adds a lot of noise.\n",
    "\n",
    "## **Todo** :  Try answering the following questions:\n",
    "\n",
    "- Which word2vec model works best: skip-gram or cbow\n",
    "- Do pretrained vectors work best than those learnt on the train dataset ?\n"
   ]
  },
  {
   "cell_type": "markdown",
   "metadata": {},
   "source": [
    "\n",
    "**(Bonus)** To have a better accuracy, we could try two things:\n",
    "- Better aggregation methods (weight by tf-idf ?)\n",
    "- Another word vectorizing method such as [fasttext](https://radimrehurek.com/gensim/models/fasttext.html)\n",
    "- A document vectorizing method such as [Doc2Vec](https://radimrehurek.com/gensim/models/doc2vec.html)"
   ]
  },
  {
   "cell_type": "markdown",
   "metadata": {},
   "source": [
    "## --- Generate text with a recurrent neural network (Pytorch) ---\n",
    "### (Mostly Read & Run)\n",
    "\n",
    "The goal is to replicate the (famous) experiment from [Karpathy's blog](http://karpathy.github.io/2015/05/21/rnn-effectiveness/)\n",
    "\n",
    "To learn to generate text, we train a recurrent neural network to do the following task:\n",
    "\n",
    "Given a \"chunk\" of text: `this is random text`\n",
    "\n",
    "the goal of the network is to predict each character in **`his is random text` ** sequentially given the following sequential input **`this is random tex`**:\n",
    "\n"
   ]
  },
  {
   "cell_type": "raw",
   "metadata": {},
   "source": [
    "Input ->  Output\n",
    "--------------\n",
    "T    ->    H\n",
    "H    ->    I\n",
    "I    ->    S\n",
    "S    ->    \" \"\n",
    "\" \"  ->    I\n",
    "I    ->    S\n",
    "S    ->    \" \"\n",
    "[...]\n"
   ]
  },
  {
   "cell_type": "markdown",
   "metadata": {},
   "source": [
    "\n",
    "## Load text (dataset/input.txt)\n",
    "\n",
    "Before building training batch, we load the full text in RAM"
   ]
  },
  {
   "cell_type": "code",
   "execution_count": null,
   "metadata": {
    "collapsed": true
   },
   "outputs": [],
   "source": [
    "import unidecode\n",
    "import string\n",
    "import random\n",
    "import re\n",
    "import torch\n",
    "import torch.nn as nn\n",
    "\n",
    "all_characters = string.printable\n",
    "n_characters = len(all_characters)\n",
    "\n",
    "file = unidecode.unidecode(open('dataset/input.txt').read()) #clean text => only ascii\n",
    "file_len = len(file)\n",
    "print('file_len =', file_len)\n"
   ]
  },
  {
   "cell_type": "markdown",
   "metadata": {},
   "source": [
    "## 2: Helper functions:\n",
    "\n",
    "We have a text and we want to feed batch of chunks to a neural network:\n",
    "\n",
    "one chunk  A,B,C,D,E\n",
    "[input] A,B,C,D -> B,C,D,E [output]\n",
    "\n",
    "Note: we will use an embedding layer instead of a one-hot encoding scheme.\n",
    "\n",
    "for this, we have 3 functions:\n",
    "\n",
    "- One to get a random str chunk of size `chunk_len` : `random_chunk` \n",
    "- One to turn a chunk into a tensor of size `(1,chunk_len)` coding for each characters : `char_tensor`\n",
    "- One to return random input and output chunks of size `(batch_size,chunk_len)` : `random_training_set`\n",
    "\n",
    "\n"
   ]
  },
  {
   "cell_type": "code",
   "execution_count": null,
   "metadata": {
    "collapsed": true
   },
   "outputs": [],
   "source": [
    "import time, math\n",
    "\n",
    "\n",
    "#Get a piece of text\n",
    "def random_chunk(chunk_len):\n",
    "    start_index = random.randint(0, file_len - chunk_len)\n",
    "    end_index = start_index + chunk_len + 1\n",
    "    return file[start_index:end_index]\n",
    "\n",
    "\n",
    "# Turn string into list of longs\n",
    "def char_tensor(string):\n",
    "    tensor = torch.zeros(1,len(string)).long()\n",
    "    for c in range(len(string)):\n",
    "        tensor[0,c] = all_characters.index(string[c])\n",
    "    return tensor\n",
    "\n",
    "\n",
    "#Turn a piece of text in train/test\n",
    "def random_training_set(chunk_len=200, batch_size=8):\n",
    "    chunks = [random_chunk(chunk_len) for _ in range(batch_size)]\n",
    "    inp = torch.cat([char_tensor(chunk[:-1]) for chunk in chunks],dim=0)\n",
    "    target = torch.cat([char_tensor(chunk[1:]) for chunk in chunks],dim=0)\n",
    "    \n",
    "    return inp, target\n",
    "\n",
    "print(random_training_set(10,4))  ## should return 8 chunks of 10 letters. "
   ]
  },
  {
   "cell_type": "markdown",
   "metadata": {},
   "source": [
    "## The actual RNN model (only thing to complete):\n",
    "\n",
    "It should be composed of three distinct modules:\n",
    "\n",
    "- an [embedding layer](https://pytorch.org/docs/stable/nn.html#embedding) (n_characters, hidden_size)\n",
    "\n",
    "```\n",
    "nn.Embedding(len_dic,size_vec)\n",
    "```\n",
    "- a [recurrent](https://pytorch.org/docs/stable/nn.html#recurrent-layers) layer (hidden_size, hidden_size)\n",
    "```\n",
    "nn.RNN(in_size,out_size) or nn.GRU() or nn.LSTM() => rnn_cell parameter\n",
    "```\n",
    "- a [prediction](https://pytorch.org/docs/stable/nn.html#linear) layer (hidden_size, output_size)\n",
    "\n",
    "```\n",
    "nn.Linear(in_size,out_size)\n",
    "```\n",
    "=> Complete the `init` function code"
   ]
  },
  {
   "cell_type": "code",
   "execution_count": null,
   "metadata": {
    "collapsed": true
   },
   "outputs": [],
   "source": [
    "import torch.nn.functional as f\n",
    "\n",
    "class RNN(nn.Module):\n",
    "    \n",
    "    def __init__(self, n_char, hidden_size, output_size, n_layers=1,rnn_cell=nn.RNN):\n",
    "        \"\"\"\n",
    "        Create the network\n",
    "        \"\"\"\n",
    "        super(RNN, self).__init__()\n",
    "        \n",
    "        self.n_char = n_char\n",
    "        self.hidden_size = hidden_size\n",
    "        self.output_size = output_size\n",
    "        self.n_layers = n_layers\n",
    "        \n",
    "        #  (batch,chunk_len) -> (batch, chunk_len, hidden_size)  \n",
    "        self.embed = ####\n",
    "        \n",
    "        # (batch, chunk_len, hidden_size)  -> (batch, chunk_len, hidden_size)  \n",
    "        self.rnn = ####\n",
    "        \n",
    "        #(batch, chunk_len, hidden_size) -> (batch, chunk_len, output_size)  \n",
    "        self.predict = ####\n",
    "    \n",
    "    def forward(self, input):\n",
    "        \"\"\"\n",
    "        batched forward: input is (batch > 1,chunk_len)\n",
    "        \"\"\"\n",
    "        input = self.embed(input)\n",
    "        output,_  = self.rnn(input)\n",
    "        output = self.predict(f.tanh(output))\n",
    "        return output\n",
    "    \n",
    "    def forward_seq(self, input,hidden=None):\n",
    "        \"\"\"\n",
    "        not batched forward: input is  (1,chunk_len)\n",
    "        \"\"\"\n",
    "        input = self.embed(input)\n",
    "        output,hidden  = self.rnn(input.unsqueeze(0),hidden)\n",
    "        output = self.predict(f.tanh(output))\n",
    "        return output,hidden\n"
   ]
  },
  {
   "cell_type": "markdown",
   "metadata": {
    "collapsed": true
   },
   "source": [
    "## Text generation function\n",
    "\n",
    "Sample text from the model"
   ]
  },
  {
   "cell_type": "code",
   "execution_count": null,
   "metadata": {
    "collapsed": true
   },
   "outputs": [],
   "source": [
    "def generate(model,prime_str='A', predict_len=100, temperature=0.8):\n",
    "    prime_input = char_tensor(prime_str).squeeze(0)\n",
    "    hidden = None\n",
    "    predicted = prime_str+\"\"\n",
    "    # Use priming string to \"build up\" hidden state\n",
    "\n",
    "    for p in range(len(prime_str)-1):\n",
    "        _,hidden = model.forward_seq(prime_input[p].unsqueeze(0),hidden)\n",
    "            \n",
    "    #print(hidden.size())\n",
    "    for p in range(predict_len):\n",
    "        output, hidden = model.forward_seq(prime_input[-1].unsqueeze(0), hidden)\n",
    "                # Sample from the network as a multinomial distribution\n",
    "        output_dist = output.data.view(-1).div(temperature).exp()\n",
    "        #print(output_dist)\n",
    "        top_i = torch.multinomial(output_dist, 1)[0]\n",
    "        #print(top_i)\n",
    "        # Add predicted character to string and use as next input\n",
    "        predicted_char = all_characters[top_i]\n",
    "        predicted += predicted_char\n",
    "        prime_input = torch.cat([prime_input,char_tensor(predicted_char).squeeze(0)])\n",
    "\n",
    "    return predicted\n",
    "\n"
   ]
  },
  {
   "cell_type": "markdown",
   "metadata": {
    "collapsed": true
   },
   "source": [
    "## Training loop for net"
   ]
  },
  {
   "cell_type": "code",
   "execution_count": null,
   "metadata": {
    "collapsed": true
   },
   "outputs": [],
   "source": [
    "def time_since(since):\n",
    "    s = time.time() - since\n",
    "    m = math.floor(s / 60)\n",
    "    s -= m * 60\n",
    "    return '%dm %ds' % (m, s)\n",
    "\n",
    "###Parameters\n",
    "n_epochs = 20000\n",
    "print_every = 100\n",
    "plot_every = 10\n",
    "hidden_size = 100\n",
    "n_layers = 5\n",
    "lr = 0.005\n",
    "batch_size = 16\n",
    "chunk_len = 80\n",
    "\n",
    "####\n",
    "\n",
    "model = RNN(n_characters, hidden_size, n_characters, n_layers) #create model\n",
    "model_optimizer = torch.optim.Adam(model.parameters(), lr=lr) #create Adam optimizer\n",
    "criterion = nn.CrossEntropyLoss() #chose criterion\n",
    "\n",
    "start = time.time()\n",
    "all_losses = []\n",
    "loss_avg = 0\n",
    "\n",
    "\n",
    "def train(inp, target):\n",
    "    \"\"\"\n",
    "    Train sequence for one chunk:\n",
    "    \"\"\"\n",
    "    #reset gradients\n",
    "    model_optimizer.zero_grad() \n",
    "    \n",
    "    # predict output\n",
    "    output = model(inp)\n",
    "    \n",
    "    #compute loss\n",
    "    loss =  criterion(output.view(batch_size*chunk_len,-1), target.view(-1)) \n",
    "\n",
    "    #compute gradients and backpropagate\n",
    "    loss.backward() \n",
    "    model_optimizer.step() \n",
    "\n",
    "    return loss.data.item() \n",
    "\n",
    "\n",
    "\n",
    "for epoch in range(1, n_epochs + 1):\n",
    "    loss = train(*random_training_set(chunk_len,batch_size))  #train on one chunk \n",
    "    loss_avg += loss\n",
    "\n",
    "    if epoch % print_every == 0:\n",
    "        print('[%s (%d %d%%) %.4f]' % (time_since(start), epoch, epoch / n_epochs * 100, loss))\n",
    "        print(generate(model,'Wh', 100), '\\n')\n",
    "       \n",
    "\n",
    "\n",
    "    if epoch % plot_every == 0:\n",
    "        all_losses.append(loss_avg / plot_every)\n",
    "        loss_avg = 0\n"
   ]
  },
  {
   "cell_type": "markdown",
   "metadata": {},
   "source": [
    "## Visualize loss "
   ]
  },
  {
   "cell_type": "code",
   "execution_count": null,
   "metadata": {
    "collapsed": true
   },
   "outputs": [],
   "source": [
    "import matplotlib.pyplot as plt\n",
    "import matplotlib.ticker as ticker\n",
    "%matplotlib inline\n",
    "\n",
    "plt.figure()\n",
    "plt.plot(all_losses)"
   ]
  },
  {
   "cell_type": "markdown",
   "metadata": {},
   "source": [
    "## Try different temperatures\n",
    "\n",
    "Changing the distribution sharpness has an impact on character sampling:\n",
    "\n",
    "more or less probable things are sampled"
   ]
  },
  {
   "cell_type": "code",
   "execution_count": null,
   "metadata": {
    "collapsed": true
   },
   "outputs": [],
   "source": [
    "print(generate(model,'T', 200, temperature=1))\n",
    "print(\"----\")\n",
    "print(generate(model,'Th', 200, temperature=0.8))\n",
    "print(\"----\")\n",
    "\n",
    "print(generate(model,'Th', 200, temperature=0.5))\n",
    "print(\"----\")\n",
    "\n",
    "print(generate(model,'Th', 200, temperature=0.3))\n",
    "print(\"----\")\n",
    "\n",
    "print(generate(model,'Th', 200, temperature=0.1))"
   ]
  },
  {
   "cell_type": "markdown",
   "metadata": {},
   "source": [
    "### Improving this code:\n",
    "\n",
    "(a) Tinker with parameters:\n",
    "\n",
    "- Is it really necessary to have 100 dims character embeddings\n",
    "- Chunk length can be gradually increased\n",
    "- Try changing RNN cell type (GRUs - LSTMs)\n",
    "\n",
    "(b) Add GPU support to go faster\n"
   ]
  },
  {
   "cell_type": "markdown",
   "metadata": {},
   "source": [
    "## ------ End of practical\n",
    "\n",
    "#### Legacy loading code"
   ]
  },
  {
   "cell_type": "code",
   "execution_count": null,
   "metadata": {
    "collapsed": true
   },
   "outputs": [],
   "source": [
    "import glob\n",
    "from os.path import split as pathsplit\n",
    "\n",
    "dir_train = \"dataset/aclImdb/train/\"\n",
    "dir_test = \"dataset/aclImdb/test/\"\n",
    "\n",
    "train_files = glob.glob(dir_train+'pos/*.txt') + glob.glob(dir_train+'neg/*.txt')\n",
    "test_files = glob.glob(dir_test+'pos/*.txt') + glob.glob(dir_test+'neg/*.txt')\n",
    "\n",
    "\n",
    "def get_polarity(f):\n",
    "    \"\"\"\n",
    "    Extracts polarity from filename:\n",
    "    0 is negative (< 5)\n",
    "    1 is positive (> 5)\n",
    "    \"\"\"\n",
    "    _,name = pathsplit(f)\n",
    "    if int(name.split('_')[1].split('.')[0]) < 5:\n",
    "        return 0\n",
    "    else:\n",
    "        return 1\n",
    "\n",
    "\n",
    "def open_one(f):\n",
    "    \n",
    "    polarity = get_polarity(f)\n",
    "    \n",
    "    with open(f,\"r\") as review:\n",
    "        text = \" \".join(review.readlines()).strip()\n",
    "    \n",
    "    return (text,polarity)\n",
    "\n",
    "print(open_one(train_files[0]))\n",
    "\n",
    "train = [open_one(x) for x in train_files] #contains (text,pol) couples\n",
    "test = [open_one(x) for x in test_files]   #contains (text,pol) couples\n"
   ]
  }
 ],
 "metadata": {
  "kernelspec": {
   "display_name": "Python 3.9.7 ('base')",
   "language": "python",
   "name": "python3"
  },
  "language_info": {
   "codemirror_mode": {
    "name": "ipython",
    "version": 3
   },
   "file_extension": ".py",
   "mimetype": "text/x-python",
   "name": "python",
   "nbconvert_exporter": "python",
   "pygments_lexer": "ipython3",
   "version": "3.9.7"
  },
  "vscode": {
   "interpreter": {
    "hash": "902a52bcf4503a473db011f1937bdfe17613b08622219712e0110e48c4958c23"
   }
  }
 },
 "nbformat": 4,
 "nbformat_minor": 2
}
