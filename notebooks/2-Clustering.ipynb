{
 "cells": [
  {
   "cell_type": "markdown",
   "metadata": {},
   "source": [
    "# Exploration des techniques de clustering\n",
    "\n",
    "Le but de ce tp est de faire face à la problématique: \n",
    "<center style=\"color:red\" >  Voici XXX documents -bruts, non étiquetés-... Comment les valoriser? Les exploiter? Les comprendre? Les résumer? </center>\n",
    "\n",
    "Nous avons vu dans les séances précédentes comment représenter les données textuelles sous forme de sacs de mots:\n",
    "$$X = \n",
    "\t\\begin{matrix} \n",
    "\t & \\textbf{t}_j \\\\\n",
    "\t & \\downarrow \\\\\n",
    "\t\\textbf{d}_i \\rightarrow &\n",
    "\t\\begin{pmatrix} \n",
    "\tx_{1,1} & \\dots & x_{1,D} \\\\\n",
    "\t\\vdots & \\ddots & \\vdots \\\\\n",
    "\tx_{N,1} & \\dots & x_{N,D} \\\\\n",
    "\t\\end{pmatrix}\n",
    "\t\\end{matrix}\n",
    "\t$$\n",
    "\n",
    "A partir de cette représentation, les questions qui se posent sont les suivantes:\n",
    "1. Quel algorithme de clustiering choisir?\n",
    "    - K-means, LSA, pLSA, LDA\n",
    "1. Quels résultats attendre?\n",
    "    - qualité, bruit, exploitabilité immédiate etc...\n",
    "1. Quelles analyses qualitatives effectuer pour comprendre les groupes?\n",
    "1. Comment boucler, itérer pour améliorer la qualité du processus?\n",
    "\n",
    "\n",
    "> <span style=\"color:magenta\" > La tâche est difficile, dans ce TP, on part d'un **jeu de données étiquetées** afin de pouvoir appliquer des métriques quantitatives sur les résultats obtenus. </span>\n"
   ]
  },
  {
   "cell_type": "code",
   "execution_count": 1,
   "metadata": {},
   "outputs": [],
   "source": [
    "import numpy as np\n",
    "import matplotlib.pyplot as plt\n",
    "\n",
    "import codecs\n",
    "import re\n",
    "import os.path\n",
    "import sklearn"
   ]
  },
  {
   "cell_type": "markdown",
   "metadata": {},
   "source": [
    "## Chargement des données\n",
    "\n"
   ]
  },
  {
   "cell_type": "code",
   "execution_count": 2,
   "metadata": {},
   "outputs": [],
   "source": [
    "from sklearn.datasets import fetch_20newsgroups\n",
    "newsgroups_train = fetch_20newsgroups(subset='train')"
   ]
  },
  {
   "cell_type": "code",
   "execution_count": 3,
   "metadata": {},
   "outputs": [
    {
     "name": "stdout",
     "output_type": "stream",
     "text": [
      "(11314, 130107)\n",
      "157.9958458546933\n"
     ]
    }
   ],
   "source": [
    "# conversion BoW + tf-idf\n",
    "\n",
    "from sklearn.feature_extraction.text import TfidfVectorizer\n",
    "vectorizer = TfidfVectorizer() # TfidfVectorizer(max_features=500)\n",
    "vectors = vectorizer.fit_transform(newsgroups_train.data)\n",
    "print(vectors.shape)\n",
    "\n",
    "# mesure de la sparsité = 157 mots actif par document sur 130000 !!\n",
    "print(vectors.nnz / float(vectors.shape[0]))"
   ]
  },
  {
   "cell_type": "code",
   "execution_count": 8,
   "metadata": {},
   "outputs": [
    {
     "name": "stdout",
     "output_type": "stream",
     "text": [
      "[(49310, 'dualpage'), (95668, 'premices'), (103654, 'rw7h'), (16379, '5w1'), (67521, 'insistence'), (63215, 'hildjj'), (63632, 'hoc_'), (78016, 'm4n'), (20975, '8ekm'), (128919, 'z75pnq')]\n"
     ]
    }
   ],
   "source": [
    "# retrouver les mots  : get feature name donne le mot i \n",
    "print([(i,vectorizer.get_feature_names()[i]) \\\n",
    "       for i in np.random.randint(vectors.shape[1], size=10)])"
   ]
  },
  {
   "cell_type": "code",
   "execution_count": 10,
   "metadata": {},
   "outputs": [
    {
     "name": "stdout",
     "output_type": "stream",
     "text": [
      "[ 7  4  4  1 14 16 13  3  2  4]\n",
      "['rec.autos', 'comp.sys.mac.hardware', 'comp.sys.mac.hardware', 'comp.graphics', 'sci.space', 'talk.politics.guns', 'sci.med', 'comp.sys.ibm.pc.hardware', 'comp.os.ms-windows.misc', 'comp.sys.mac.hardware']\n",
      "['alt.atheism', 'comp.graphics', 'comp.os.ms-windows.misc', 'comp.sys.ibm.pc.hardware', 'comp.sys.mac.hardware', 'comp.windows.x', 'misc.forsale', 'rec.autos', 'rec.motorcycles', 'rec.sport.baseball']\n"
     ]
    }
   ],
   "source": [
    "# gestion des étiquettes (pour l'évaluation seulemnet en non-supervisé)\n",
    "Y = newsgroups_train.target # on prend en Y tout les classes des elts\n",
    "print(Y[:10]) # numérique\n",
    "print([newsgroups_train.target_names[i] for i in Y[:10]]) # vraie classe, on va prendre le nom correspondant à la clé de Y dans la liste des target _name\n",
    "print(newsgroups_train.target_names[:10])\n"
   ]
  },
  {
   "cell_type": "markdown",
   "metadata": {},
   "source": [
    "# Tests préliminaires\n",
    "\n",
    "Commençons par le commencement: tout problème non-supervisé (ou presque) doit être analysé en premier lieu avec les $k$-means!\n"
   ]
  },
  {
   "cell_type": "code",
   "execution_count": 11,
   "metadata": {},
   "outputs": [],
   "source": [
    "from sklearn.cluster import KMeans\n",
    "# Algo => risque de prendre du temps si le vocabulaire n'a pas été réduit !!\n",
    "# Note: on dirait que l'algo transforme les données en dense vector=> catastrophe pour nous !!!\n",
    "# => limitation du nombre d'itération arbitraire + limitation du vocabulaire\n",
    "\n",
    "kmeans = KMeans(n_clusters=20, random_state=0, max_iter=10).fit(vectors)"
   ]
  },
  {
   "cell_type": "code",
   "execution_count": 12,
   "metadata": {},
   "outputs": [
    {
     "name": "stdout",
     "output_type": "stream",
     "text": [
      "KMeans(max_iter=10, n_clusters=20, random_state=0)\n"
     ]
    }
   ],
   "source": [
    "print(kmeans)"
   ]
  },
  {
   "cell_type": "code",
   "execution_count": 78,
   "metadata": {},
   "outputs": [
    {
     "name": "stdout",
     "output_type": "stream",
     "text": [
      "[['0d', 'bxn', 'wm', '2tm', '3t', '1t', 'bhj', 'giz', '75u', '34u', '2di', '0t', 'pl', '145', '1d9', 'a86', 'g9v', 'b8f', 'max', 'ax'], ['for', 'not', 'this', 'have', 'they', 'be', 'as', 'firearms', 'it', 'are', 'is', 'and', 'guns', 'in', 'that', 'you', 'of', 'to', 'gun', 'the'], ['or', 'is', 'sale', 'nntp', 'host', 'com', 'posting', 'thanks', 'organization', 'in', 'lines', 'subject', 'university', 'and', 'from', 'of', 'to', 'for', 'the', 'edu'], ['and', 'in', 'internet', 'to', 'he', 'mule', '30332', 'gt0523e', 'atlanta', 'of', 'go', 'technology', 'edu', 'gtd597a', 'institute', 'hrivnak', 'the', 'georgia', 'prism', 'gatech'], ['not', 'we', 'sgi', 'objective', 'it', 'edu', 'livesey', 'caltech', 'morality', 'and', 'in', 'you', 'god', 'sandvik', 'of', 'keith', 'to', 'is', 'that', 'the'], ['season', 'his', 'for', 'it', 'year', 'ca', 'hockey', 'edu', 'they', 'was', 'is', 'that', 'game', 'team', 'of', 'and', 'in', 'to', 'he', 'the'], ['for', 'government', 'will', 'they', 'this', 'in', 'escrow', 'it', 'keys', 'be', 'that', 'is', 'and', 'chip', 'of', 'encryption', 'clipper', 'to', 'key', 'the'], ['that', 'in', 'disk', 'of', 'for', 'isa', 'mac', 'it', 'with', 'hard', 'is', 'drives', 'bus', 'and', 'to', 'controller', 'drive', 'the', 'ide', 'scsi'], ['alphalpha', 'encryption', 'chaos', 'tcp', 'crypto', 'utexas', 'herndon', 'to', 'systems', 'corporation', 'clipper', 'the', 'alfalfa', 'com', 'pro', 'walker', 'angmar', 'cosmo', 'amanda', 'intercon'], ['nntp', 'host', 'from', 'on', 'you', 'that', 'it', 'is', 'of', 'in', 'and', 'to', 'pa', 'pittsburgh', 'edu', 'mellon', 'carnegie', 'the', 'andrew', 'cmu'], ['university', 'you', 'cis', 'ryan', 'article', 'have', 'that', 'for', 'is', 'it', 'and', 'of', 'in', 'to', 'edu', 'the', 'acs', 'state', 'magnus', 'ohio'], ['ak296', 'daker', 'rutgers', '706', '542', 'kaldis', 'of', 'programs', 'michael', 'ysu', 'yfn', 'aisun3', 'edu', 'the', 'athens', 'mcovingt', 'covington', 'georgia', 'ai', 'uga'], ['pittsburgh', 'of', 'edu', 'to', 'surrender', 'it', 'intellect', 'skepticism', 'shameful', 'chastity', 'cadre', 'n3jxp', 'dsl', 'is', 'cs', 'the', 'pitt', 'gordon', 'banks', 'geb'], ['edu', 'on', 'have', 'with', 'this', 'you', 'that', 'dos', 'for', 'files', 'in', 'file', 'of', 'it', 'is', 'and', 'window', 'to', 'windows', 'the'], ['monitor', 'that', 'on', 'drivers', 'with', 'freenet', 'in', 'for', 'of', 'mouse', 'is', 'it', 'video', 'and', 'cwru', 'to', 'cleveland', 'edu', 'card', 'the'], ['was', 'have', 'this', 'article', 'on', 'writes', 're', 'from', 'for', 'that', 'you', 'it', 'is', 'and', 'com', 'edu', 'in', 'of', 'to', 'the'], ['god', 'he', 'for', 'was', 'this', 'they', 'be', 'we', 'as', 'are', 'not', 'it', 'you', 'in', 'is', 'that', 'and', 'to', 'of', 'the'], ['as', 'with', 'was', 'have', 'edu', 'not', 'be', 'are', 'this', 'on', 'for', 'you', 'it', 'that', 'is', 'in', 'and', 'of', 'to', 'the'], ['petch', 'that', 'in', 'it', 'communication', 'is', 'rit', 'and', 'of', 'br', 'services', 'to', 'guest', '241', '9760', '408', 'com', 'isc', 'the', 'netcom'], ['that', 'on', 'higgins', 'howland', 'for', 'kelvin', 'is', 'gsfc', 'jsc', 'baalke', 'larc', 'and', 'in', 'of', 'to', 'jpl', 'space', 'the', 'gov', 'nasa']]\n"
     ]
    }
   ],
   "source": [
    "# analyse\n",
    "\n",
    "# recupération des proto:\n",
    "# cluster = kmeans.cluster_centers_\n",
    "# cluster_order = np.sort(cluster)\n",
    "# cluster_order = [end_cluster[-10:] for end_cluster in cluster_order]\n",
    "# print(cluster_order)\n",
    "# print(cluster_order)\n",
    "# mots les plus importants par cluster => TODO\n",
    "# max_cluster = [max(cluster) for cluster in kmeans.cluster_centers_]\n",
    "# print([cluster.index(test[0]) for test in cluster_order])\n",
    "# index_max_cluster = [np.argsort(cluster)[-20:] for cluster in kmeans.cluster_centers_]\n",
    "# print(index_max_cluster)\n",
    "lst_max_word = [[vectorizer.get_feature_names()[j] for j in i] for i in [np.argsort(cluster)[-20:] for cluster in kmeans.cluster_centers_]] # vraie classe, on va prendre le nom correspondant à la clé de Y dans la liste des target _name\n",
    "print(lst_max_word)\n",
    "# for test in kmeans.cluster_centers_:\n",
    "#     print(max(test))\n",
    "# version print / version word cloud"
   ]
  },
  {
   "cell_type": "markdown",
   "metadata": {},
   "source": [
    "### Limites\n",
    "\n",
    "- Limites liées à la description\n",
    "    - trop de mots\n",
    "    - trop de mots fréquents qui déroutent l'algorithme\n",
    "    - ...\n",
    "- Limites liées à l'algorithme\n",
    "    - distance euclidienne absurde\n",
    "\n",
    "Les limites algorithmiques vont être résolues en changeant d'algorithme... Les limites de représentation des données seront résolues par votre capacité en ingénierie.\n",
    "\n",
    "\n",
    "Algorithmes à tester:\n",
    "- LSA\n",
    "https://scikit-learn.org/stable/modules/generated/sklearn.decomposition.TruncatedSVD.html#sklearn.decomposition.TruncatedSVD\n",
    "- LDA\n",
    "https://scikit-learn.org/stable/modules/generated/sklearn.decomposition.LatentDirichletAllocation.html\n",
    "\n",
    "**Note:** pour des tests rapides, il est plus simple de rester dans le cadre de scikit-learn... Néanmoins, dans un milieu industriel, il faudrait exploiter des outils plus efficaces comme ceux présents dans la librairie ```gensim```. Si vous vous sentez à l'aise avec la donnée textuelles, allez directement vers ces outils:\n",
    "https://radimrehurek.com/gensim/models/ldamodel.html"
   ]
  },
  {
   "cell_type": "code",
   "execution_count": 17,
   "metadata": {},
   "outputs": [],
   "source": [
    "#   LSA\n",
    "from sklearn.decomposition import TruncatedSVD\n",
    "# Algo => risque de prendre du temps si le vocabulaire n'a pas été réduit !!\n",
    "# Note: on dirait que l'algo transforme les données en dense vector=> catastrophe pour nous !!!\n",
    "# => limitation du nombre d'itération arbitraire + limitation du vocabulaire\n",
    "\n",
    "truncatedsvd = TruncatedSVD(n_components=20, n_iter=10, random_state=None).fit(vectors)"
   ]
  },
  {
   "cell_type": "code",
   "execution_count": 85,
   "metadata": {},
   "outputs": [
    {
     "name": "stderr",
     "output_type": "stream",
     "text": [
      "/home/gardette/anaconda3/lib/python3.9/site-packages/sklearn/utils/deprecation.py:87: FutureWarning: Function get_feature_names is deprecated; get_feature_names is deprecated in 1.0 and will be removed in 1.2. Please use get_feature_names_out instead.\n",
      "  warnings.warn(msg, category=FutureWarning)\n"
     ]
    },
    {
     "name": "stdout",
     "output_type": "stream",
     "text": [
      "[['was', 'they', 'as', 'have', 'on', 'are', 'this', 'not', 'be', 'edu', 'for', 'you', 'it', 'that', 'is', 'in', 'and', 'of', 'to', 'the'], ['bible', 'jews', 'armenian', 'by', 'as', 'not', 'who', 'their', 'they', 'jesus', 'people', 'were', 'was', 'his', 'we', 'of', 'that', 'he', 'god', 'the'], ['be', 'morality', 'keith', 'can', 'jesus', 'don', 'people', 'if', 'what', 'are', 'to', 'do', 'we', 'not', 'it', 'your', 'is', 'that', 'god', 'you'], ['this', 'window', 'the', 'can', 'it', 'data', 'government', 'escrow', 'keys', 'scsi', 'be', 'windows', 'use', 'system', 'clipper', 'encryption', 'is', 'chip', 'to', 'key'], ['cwru', 'israeli', 'clipper', 'writes', 'ohio', 'key', 'caltech', 'government', 'keith', 'encryption', 'state', 'article', 'israel', 'gordon', 'banks', 'geb', 'pitt', 'cs', 'of', 'edu'], ['gordon', 'thanks', 'science', 'christ', 'faith', 'cs', 'christians', 'christian', 'card', 'dos', 'drive', 'bible', 'university', 'jesus', 'scsi', 'windows', 'edu', 'is', 'of', 'god'], ['science', 'soon', 'key', 'surrender', 'intellect', 'skepticism', 'shameful', 'he', 'chastity', 'n3jxp', 'dsl', 'cadre', 'pittsburgh', 'is', 'it', 'cs', 'gordon', 'banks', 'geb', 'pitt'], ['we', 'sandvik', 'nasa', 'will', 'him', 'uk', 'keys', 'access', 'netcom', 'be', 'escrow', 'his', 'jesus', 'com', 'chip', 'encryption', 'clipper', 'key', 'god', 'he'], ['sgi', 'inc', 'sun', 'netcom', 'stratus', 'god', 'ibm', 'article', 'nasa', 'in', 'kent', 'apple', 'hp', 'was', 'banks', 'pitt', 'gordon', 'geb', 'sandvik', 'com'], ['is', 'drives', 'bus', 'cwru', 'that', 'controller', 'livesey', 'key', 'sgi', 'chip', 'sandvik', 'apple', 'com', 'caltech', 'edu', 'keith', 'ide', 'the', 'drive', 'scsi'], ['schneider', 'that', 'team', 'cco', 'solntze', 'wpd', 'ca', 'objective', 'morality', 'sgi', 'livesey', 'toronto', 'henry', 'gov', 'the', 'space', 'is', 'caltech', 'keith', 'nasa'], ['bus', 'acs', 'access', 'we', 'jpl', 'edu', 'hard', 'drives', 'magnus', 'alaska', 'controller', 'state', 'henry', 'ohio', 'ide', 'space', 'gov', 'drive', 'nasa', 'scsi'], ['cs', 'game', 'players', 'sale', 'com', 'hockey', 'drive', 'your', 'in', '00', 'will', 'team', 'and', 'for', 'ide', 'are', 'you', 'of', 'ca', 'scsi'], ['serdar', 'they', 'argic', 'armenia', 'schneider', 'jon', 'he', 'cco', 'wpd', 'solntze', 'morality', 'armenians', 'turkish', 'sgi', 'livesey', 'armenian', 'and', 'we', 'caltech', 'keith'], ['to', 'it', 'jewish', 'arabs', 'jake', 'lebanese', 'cwru', 'ca', 'is', 'that', 'was', 'his', 'freenet', 'arab', 'windows', 'cleveland', 'jews', 'he', 'israeli', 'israel'], ['ca', 'be', 'than', '10', 'new', 'gun', 'com', 'and', 'or', 'of', '00', 'sale', 'car', 'are', 'for', 'is', 'acs', 'magnus', 'state', 'ohio'], ['kent', 'online', 'will', 'apple', 'card', 'net', 'to', 'edu', 'pat', 'com', 'gary', 'sandvik', 'dare', 'windows', 'cunixb', 'digex', 'gld', 'access', 'cc', 'columbia'], ['digex', 'windows', 'will', 'the', 'god', 'and', 'kent', 'state', 'acs', 'your', 'apple', 'access', 'magnus', 'nasa', 'freenet', 'cwru', 'sandvik', 'cleveland', 'ohio', 'you'], ['and', 'bike', 'my', 'god', 'ac', '__', 'sandvik', 'ca', 'nasa', 'gov', '___', 'gary', 'uk', 'dare', 'we', 'cunixb', 'to', 'cc', 'gld', 'columbia'], ['cleveland', 'cwru', 'and', 'bureau', 'cheers', 'private', 'activities', 'tourist', 'cookamunga', 'toronto', 'ac', 'alink', 'ksand', 'henry', 'uk', 'they', 'newton', 'kent', 'apple', 'sandvik']]\n"
     ]
    }
   ],
   "source": [
    "# components = truncatedsvd.components_\n",
    "index_max_cluster = [np.argsort(cluster)[-20:] for cluster in truncatedsvd.components_]\n",
    "lst_max_word_LSA = [[vectorizer.get_feature_names()[j] for j in i] for i in index_max_cluster] # vraie classe, on va prendre le nom correspondant à la clé de Y dans la liste des target _name\n",
    "print(lst_max_word_LSA)"
   ]
  },
  {
   "cell_type": "code",
   "execution_count": 86,
   "metadata": {},
   "outputs": [],
   "source": [
    "# LDA\n",
    "from sklearn.decomposition import LatentDirichletAllocation\n",
    "\n",
    "latent = LatentDirichletAllocation(n_components=20,max_iter=10,random_state=None).fit(vectors)"
   ]
  },
  {
   "cell_type": "code",
   "execution_count": 90,
   "metadata": {},
   "outputs": [
    {
     "name": "stderr",
     "output_type": "stream",
     "text": [
      "/home/gardette/anaconda3/lib/python3.9/site-packages/sklearn/utils/deprecation.py:87: FutureWarning: Function get_feature_names is deprecated; get_feature_names is deprecated in 1.0 and will be removed in 1.2. Please use get_feature_names_out instead.\n",
      "  warnings.warn(msg, category=FutureWarning)\n"
     ]
    },
    {
     "name": "stdout",
     "output_type": "stream",
     "text": [
      "[['gehrels', 'r5', 'aberystwyth', '124', 'azw', 'haston', 'tempest', 'ghetto', 'aber', 'gazans', 'waii', 'wg2', 'libxmu', 'xmu', 'klinger', 'gec', '1964', 'raider', 'theporch', 'lib'], ['tellabs', 'canseco', 'balltown', 'su', 'ipser', 'blakey', 'cisco', 'alec', 'ohmite', 'chiu', 'scl', 'skybridge', 'ricardo', 'macadam', 'welty', 'jcj', 'belton', 'ozonehole', 'johnh', 'mpce'], ['mr2', 'altima', 'lick', 'vpnet', 'norway', 'bj', 'joslin', 'sigurdsson', 'steinn', 'dominance', 'cain', 'parsli', 'sabbath', 'steinly', 'topaz', 'bears', 'pooh', 'thomasp', 'uio', 'halat'], ['with', 'from', 'not', 'are', 'have', 'be', 'com', 'on', 'this', 'for', 'you', 'edu', 'it', 'that', 'is', 'in', 'and', 'of', 'to', 'the'], ['ma90jjw', 'numlock', '_______________________________', 'vcd', 'klossner', '581', 'ailin', 'adjective', 'wv', 'koppenhoefer', 'cramm', 'kkopp', 'nevada', 'stramer', 'supergas', 'frip', 'naftaly', 'downs', 'dazixco', 'nstramer'], ['notebooks', 'waking', 'ualberta', 'cfs', 'sphughes', 'shaun', 'crd', 'blah', 'senner', 'optiplan', 'bm', 'reimert', 'hcf', 'pablo', 'baube', 'econ', 'flb', 'fls', 'zionism', 'tgv'], ['gnv', 'villages', 'ifas', 'jayne', 'nysernet', 'sera', 'hernlem', 'lebanon', 'ufl', 'zuma', 'manes', 'lebanese', 'behanna', 'turks', 'armenia', 'serdar', 'argic', 'turkish', 'armenians', 'armenian'], ['kjenks', 'cci', 'carlos', 'rtsg', 'gothamcity', 'colnet', 'kodak', 'vanderby', 'erlangen', 'cdac', 'vanderbyl', 'cmhnet', 'muskingum', 'gvg', 'valley', 'grass', 'cns', 'gvg47', 'svoboda', 'petch'], ['workspace', 'photography', 'stafford', 'curtin', 'cybernet', 'nodak', 'bauer', 'nuet_ke', 'jr0930', 'iscp', 'tufts', 'fraering', 'krillean', 'cacs', 'pgf', 'breaker', 'qazi', 'babb', 'ksu', 'handheld'], ['n4tmi', '7415', 'gwu', '30602', 'metzger', '542', '706', 'beck', 'pmetzger', 'shearson', 'aisun3', 'athens', 'georgia', 'inf', 'dresden', 'ai', 'covington', 'mcovingt', 'uga', 'ax'], ['philips', 'kuleuven', 'ndis', 'chicogo', 'det', 'spd', 'curves', 'maine', 'oeinck', 'starbase', 'bezier', 'idbsu', 'liberalizer', 'luriem', 'lurie', 'liv', 'gozer', 'betz', 'louisville', 'liverpool'], ['rolla', 'phill', 'viamar', 'hal9k', 'kmembry', 'projector', 'nyeda', 'mancus', 'maccs', 'jimf', 'desonia', '1280x1024', 'radford', 'unisql', 'eau', 'diablo', 'claire', 'proton', 'centaur', 'mcmaster'], ['ahl', 'snichols', 'jhunix', 'sfu', 'gainey', 'sherri', 'parr', 'dma', 'hcf', 'jays', 'baerga', 'eskimo', 'dal', 'nichols', 'rauser', 'eliot', 'convex', 'laurentian', 'maynard', 'alomar'], ['wallacen', 'interceptor', '8514', 'virgilio', 'tharp', 'davet', 'velasco', 'ssa', 'alavi', 'rr', 'cds', 'bgardner', 'blaine', 'gardner', 'spdcc', 'pgf5', 'khan0095', 'garfiel', 'gmi', 'dyer'], ['spam', 'ukma', 'pimentel', 'qmw', 'pp3903a', 'uranium', 'sumax', 'maine', 'keithley', 'sprocket', 'eridan', 'askew', 'adelaide', 'coolant', 'bellini', 'wiretapping', 'isreal', 'cbrooks', 'xsizehints', 'ferguson'], ['js1', 'eeam', 'hochreiter', 'ming', 'wolverine', 'goodbye', 'brake', 'su', 'jiann', 'hulk', 'hb9nby', 'michel', 'isis', 'henderson', '2600', 'ganter', 'gritz', 'rainer', 'elin', 'nmm'], ['darkman', 'dang', 'citri', 'rind', 'baden', 'rupin', 'wfu', 'inqmind', 'an030', 'horne', 'broward', 'unixg', 'youngstown', 'bison', 'crohn', 'ubc', 'ysu', 'yfn', 'ak296', 'daker'], ['wireframe', 'brians', '922', 'militello', 'sun4_411', 'lm', 'noyes', 'hilmi', 'dgi', 'jennise', 'spider', 'tesla', 'munizb', 'rwtms2', 'maler', 'noye', 'vera', 'yalcin', 'onur', 'bmug'], ['ghostscript', 'ubvmsb', 'mks', 'isi', 'wcs', 'tsa', 'csuchico', 'ecst', 'wip', 'biochem', 'plants', 'opel', 'relays', 'cellar', 'lis', 'alexia', 'towers', 'cobb', 'amanda', 'intercon'], ['egalon', 'almanac', 'c650', 'cruel', 'kth', 'nada', 'angmar', 'cosmo', 'livni', 'bony', 'bony1', 'feustel', 'hulman', 'beauchaine', 'bobbe', 'wpd', 'solntze', 'ico', 'livesey', 'jake']]\n"
     ]
    }
   ],
   "source": [
    "np.shape(latent.components_)\n",
    "index_max_cluster_LDA = [np.argsort(components)[-20:] for components in latent.components_]\n",
    "lst_max_word_LDA = [[vectorizer.get_feature_names()[j] for j in i] for i in index_max_cluster_LDA] # vraie classe, on va prendre le nom correspondant à la clé de Y dans la liste des target _name\n",
    "print(lst_max_word_LDA)"
   ]
  },
  {
   "cell_type": "code",
   "execution_count": 99,
   "metadata": {},
   "outputs": [
    {
     "name": "stdout",
     "output_type": "stream",
     "text": [
      "11314\n"
     ]
    }
   ],
   "source": [
    "import pyLDAvis\n",
    "pyLDAvis.enable_notebook()\n",
    "import json\n",
    "\n",
    "\n",
    "newsgroups = fetch_20newsgroups(remove=('headers', 'footers', 'quotes'))\n",
    "docs_raw = newsgroups.data\n",
    "print(len(docs_raw))\n",
    "\n",
    "\n",
    "# prepare_viz = pyLDAvis(latent.components_)\n",
    "# latent_json = json.load(latent)\n",
    "# pyLDAvis.display(latent)"
   ]
  },
  {
   "cell_type": "code",
   "execution_count": 105,
   "metadata": {},
   "outputs": [
    {
     "name": "stdout",
     "output_type": "stream",
     "text": [
      "(11314, 9144)\n"
     ]
    }
   ],
   "source": [
    "from sklearn.feature_extraction.text import CountVectorizer, TfidfVectorizer\n",
    "\n",
    "tf_vectorizer = CountVectorizer(strip_accents = 'unicode',\n",
    "                                stop_words = 'english',\n",
    "                                lowercase = True,\n",
    "                                token_pattern = r'\\b[a-zA-Z]{3,}\\b',\n",
    "                                max_df = 0.5, \n",
    "                                min_df = 10)\n",
    "dtm_tf = tf_vectorizer.fit_transform(docs_raw)\n",
    "print(dtm_tf.shape)"
   ]
  },
  {
   "cell_type": "code",
   "execution_count": 108,
   "metadata": {},
   "outputs": [
    {
     "name": "stderr",
     "output_type": "stream",
     "text": [
      "/home/gardette/anaconda3/lib/python3.9/site-packages/sklearn/utils/deprecation.py:87: FutureWarning: Function get_feature_names is deprecated; get_feature_names is deprecated in 1.0 and will be removed in 1.2. Please use get_feature_names_out instead.\n",
      "  warnings.warn(msg, category=FutureWarning)\n",
      "/home/gardette/anaconda3/lib/python3.9/site-packages/pyLDAvis/_prepare.py:246: FutureWarning: In a future version of pandas all arguments of DataFrame.drop except for the argument 'labels' will be keyword-only.\n",
      "  default_term_info = default_term_info.sort_values(\n",
      "/home/gardette/anaconda3/lib/python3.9/site-packages/past/builtins/misc.py:45: DeprecationWarning: the imp module is deprecated in favour of importlib; see the module's documentation for alternative uses\n",
      "  from imp import reload\n",
      "/home/gardette/anaconda3/lib/python3.9/site-packages/past/builtins/misc.py:45: DeprecationWarning: the imp module is deprecated in favour of importlib; see the module's documentation for alternative uses\n",
      "  from imp import reload\n",
      "/home/gardette/anaconda3/lib/python3.9/site-packages/past/builtins/misc.py:45: DeprecationWarning: the imp module is deprecated in favour of importlib; see the module's documentation for alternative uses\n",
      "  from imp import reload\n",
      "/home/gardette/anaconda3/lib/python3.9/site-packages/past/builtins/misc.py:45: DeprecationWarning: the imp module is deprecated in favour of importlib; see the module's documentation for alternative uses\n",
      "  from imp import reload\n",
      "/home/gardette/anaconda3/lib/python3.9/site-packages/past/builtins/misc.py:45: DeprecationWarning: the imp module is deprecated in favour of importlib; see the module's documentation for alternative uses\n",
      "  from imp import reload\n",
      "/home/gardette/anaconda3/lib/python3.9/site-packages/past/builtins/misc.py:45: DeprecationWarning: the imp module is deprecated in favour of importlib; see the module's documentation for alternative uses\n",
      "  from imp import reload\n",
      "/home/gardette/anaconda3/lib/python3.9/site-packages/past/builtins/misc.py:45: DeprecationWarning: the imp module is deprecated in favour of importlib; see the module's documentation for alternative uses\n",
      "  from imp import reload\n",
      "/home/gardette/anaconda3/lib/python3.9/site-packages/past/builtins/misc.py:45: DeprecationWarning: the imp module is deprecated in favour of importlib; see the module's documentation for alternative uses\n",
      "  from imp import reload\n",
      "/home/gardette/anaconda3/lib/python3.9/site-packages/joblib/backports.py:36: DeprecationWarning: distutils Version classes are deprecated. Use packaging.version instead.\n",
      "  if LooseVersion(np.__version__) < '1.13':\n",
      "/home/gardette/anaconda3/lib/python3.9/site-packages/setuptools/_distutils/version.py:351: DeprecationWarning: distutils Version classes are deprecated. Use packaging.version instead.\n",
      "  other = LooseVersion(other)\n",
      "/home/gardette/anaconda3/lib/python3.9/site-packages/joblib/backports.py:36: DeprecationWarning: distutils Version classes are deprecated. Use packaging.version instead.\n",
      "  if LooseVersion(np.__version__) < '1.13':\n",
      "/home/gardette/anaconda3/lib/python3.9/site-packages/joblib/backports.py:36: DeprecationWarning: distutils Version classes are deprecated. Use packaging.version instead.\n",
      "  if LooseVersion(np.__version__) < '1.13':\n",
      "/home/gardette/anaconda3/lib/python3.9/site-packages/setuptools/_distutils/version.py:351: DeprecationWarning: distutils Version classes are deprecated. Use packaging.version instead.\n",
      "  other = LooseVersion(other)\n",
      "/home/gardette/anaconda3/lib/python3.9/site-packages/setuptools/_distutils/version.py:351: DeprecationWarning: distutils Version classes are deprecated. Use packaging.version instead.\n",
      "  other = LooseVersion(other)\n",
      "/home/gardette/anaconda3/lib/python3.9/site-packages/joblib/backports.py:36: DeprecationWarning: distutils Version classes are deprecated. Use packaging.version instead.\n",
      "  if LooseVersion(np.__version__) < '1.13':\n",
      "/home/gardette/anaconda3/lib/python3.9/site-packages/setuptools/_distutils/version.py:351: DeprecationWarning: distutils Version classes are deprecated. Use packaging.version instead.\n",
      "  other = LooseVersion(other)\n",
      "/home/gardette/anaconda3/lib/python3.9/site-packages/joblib/backports.py:36: DeprecationWarning: distutils Version classes are deprecated. Use packaging.version instead.\n",
      "  if LooseVersion(np.__version__) < '1.13':\n",
      "/home/gardette/anaconda3/lib/python3.9/site-packages/setuptools/_distutils/version.py:351: DeprecationWarning: distutils Version classes are deprecated. Use packaging.version instead.\n",
      "  other = LooseVersion(other)\n",
      "/home/gardette/anaconda3/lib/python3.9/site-packages/joblib/backports.py:36: DeprecationWarning: distutils Version classes are deprecated. Use packaging.version instead.\n",
      "  if LooseVersion(np.__version__) < '1.13':\n",
      "/home/gardette/anaconda3/lib/python3.9/site-packages/setuptools/_distutils/version.py:351: DeprecationWarning: distutils Version classes are deprecated. Use packaging.version instead.\n",
      "  other = LooseVersion(other)\n",
      "/home/gardette/anaconda3/lib/python3.9/site-packages/joblib/backports.py:36: DeprecationWarning: distutils Version classes are deprecated. Use packaging.version instead.\n",
      "  if LooseVersion(np.__version__) < '1.13':\n",
      "/home/gardette/anaconda3/lib/python3.9/site-packages/setuptools/_distutils/version.py:351: DeprecationWarning: distutils Version classes are deprecated. Use packaging.version instead.\n",
      "  other = LooseVersion(other)\n",
      "/home/gardette/anaconda3/lib/python3.9/site-packages/joblib/backports.py:36: DeprecationWarning: distutils Version classes are deprecated. Use packaging.version instead.\n",
      "  if LooseVersion(np.__version__) < '1.13':\n",
      "/home/gardette/anaconda3/lib/python3.9/site-packages/setuptools/_distutils/version.py:351: DeprecationWarning: distutils Version classes are deprecated. Use packaging.version instead.\n",
      "  other = LooseVersion(other)\n",
      "/home/gardette/anaconda3/lib/python3.9/site-packages/joblib/backports.py:36: DeprecationWarning: distutils Version classes are deprecated. Use packaging.version instead.\n",
      "  if LooseVersion(np.__version__) < '1.13':\n",
      "/home/gardette/anaconda3/lib/python3.9/site-packages/setuptools/_distutils/version.py:351: DeprecationWarning: distutils Version classes are deprecated. Use packaging.version instead.\n",
      "  other = LooseVersion(other)\n",
      "/home/gardette/anaconda3/lib/python3.9/site-packages/joblib/backports.py:36: DeprecationWarning: distutils Version classes are deprecated. Use packaging.version instead.\n",
      "  if LooseVersion(np.__version__) < '1.13':\n",
      "/home/gardette/anaconda3/lib/python3.9/site-packages/setuptools/_distutils/version.py:351: DeprecationWarning: distutils Version classes are deprecated. Use packaging.version instead.\n",
      "  other = LooseVersion(other)\n",
      "/home/gardette/anaconda3/lib/python3.9/site-packages/joblib/backports.py:36: DeprecationWarning: distutils Version classes are deprecated. Use packaging.version instead.\n",
      "  if LooseVersion(np.__version__) < '1.13':\n",
      "/home/gardette/anaconda3/lib/python3.9/site-packages/setuptools/_distutils/version.py:351: DeprecationWarning: distutils Version classes are deprecated. Use packaging.version instead.\n",
      "  other = LooseVersion(other)\n",
      "/home/gardette/anaconda3/lib/python3.9/site-packages/joblib/backports.py:36: DeprecationWarning: distutils Version classes are deprecated. Use packaging.version instead.\n",
      "  if LooseVersion(np.__version__) < '1.13':\n",
      "/home/gardette/anaconda3/lib/python3.9/site-packages/setuptools/_distutils/version.py:351: DeprecationWarning: distutils Version classes are deprecated. Use packaging.version instead.\n",
      "  other = LooseVersion(other)\n",
      "/home/gardette/anaconda3/lib/python3.9/site-packages/joblib/backports.py:36: DeprecationWarning: distutils Version classes are deprecated. Use packaging.version instead.\n",
      "  if LooseVersion(np.__version__) < '1.13':\n",
      "/home/gardette/anaconda3/lib/python3.9/site-packages/setuptools/_distutils/version.py:351: DeprecationWarning: distutils Version classes are deprecated. Use packaging.version instead.\n",
      "  other = LooseVersion(other)\n",
      "/home/gardette/anaconda3/lib/python3.9/site-packages/joblib/backports.py:36: DeprecationWarning: distutils Version classes are deprecated. Use packaging.version instead.\n",
      "  if LooseVersion(np.__version__) < '1.13':\n",
      "/home/gardette/anaconda3/lib/python3.9/site-packages/setuptools/_distutils/version.py:351: DeprecationWarning: distutils Version classes are deprecated. Use packaging.version instead.\n",
      "  other = LooseVersion(other)\n",
      "/home/gardette/anaconda3/lib/python3.9/site-packages/joblib/backports.py:36: DeprecationWarning: distutils Version classes are deprecated. Use packaging.version instead.\n",
      "  if LooseVersion(np.__version__) < '1.13':\n",
      "/home/gardette/anaconda3/lib/python3.9/site-packages/setuptools/_distutils/version.py:351: DeprecationWarning: distutils Version classes are deprecated. Use packaging.version instead.\n",
      "  other = LooseVersion(other)\n",
      "/home/gardette/anaconda3/lib/python3.9/site-packages/joblib/backports.py:36: DeprecationWarning: distutils Version classes are deprecated. Use packaging.version instead.\n",
      "  if LooseVersion(np.__version__) < '1.13':\n",
      "/home/gardette/anaconda3/lib/python3.9/site-packages/setuptools/_distutils/version.py:351: DeprecationWarning: distutils Version classes are deprecated. Use packaging.version instead.\n",
      "  other = LooseVersion(other)\n",
      "/home/gardette/anaconda3/lib/python3.9/site-packages/joblib/backports.py:36: DeprecationWarning: distutils Version classes are deprecated. Use packaging.version instead.\n",
      "  if LooseVersion(np.__version__) < '1.13':\n",
      "/home/gardette/anaconda3/lib/python3.9/site-packages/setuptools/_distutils/version.py:351: DeprecationWarning: distutils Version classes are deprecated. Use packaging.version instead.\n",
      "  other = LooseVersion(other)\n",
      "/home/gardette/anaconda3/lib/python3.9/site-packages/joblib/backports.py:36: DeprecationWarning: distutils Version classes are deprecated. Use packaging.version instead.\n",
      "  if LooseVersion(np.__version__) < '1.13':\n",
      "/home/gardette/anaconda3/lib/python3.9/site-packages/setuptools/_distutils/version.py:351: DeprecationWarning: distutils Version classes are deprecated. Use packaging.version instead.\n",
      "  other = LooseVersion(other)\n",
      "/home/gardette/anaconda3/lib/python3.9/site-packages/joblib/backports.py:36: DeprecationWarning: distutils Version classes are deprecated. Use packaging.version instead.\n",
      "  if LooseVersion(np.__version__) < '1.13':\n",
      "/home/gardette/anaconda3/lib/python3.9/site-packages/setuptools/_distutils/version.py:351: DeprecationWarning: distutils Version classes are deprecated. Use packaging.version instead.\n",
      "  other = LooseVersion(other)\n",
      "/home/gardette/anaconda3/lib/python3.9/site-packages/joblib/backports.py:36: DeprecationWarning: distutils Version classes are deprecated. Use packaging.version instead.\n",
      "  if LooseVersion(np.__version__) < '1.13':\n",
      "/home/gardette/anaconda3/lib/python3.9/site-packages/setuptools/_distutils/version.py:351: DeprecationWarning: distutils Version classes are deprecated. Use packaging.version instead.\n",
      "  other = LooseVersion(other)\n",
      "/home/gardette/anaconda3/lib/python3.9/site-packages/joblib/backports.py:36: DeprecationWarning: distutils Version classes are deprecated. Use packaging.version instead.\n",
      "  if LooseVersion(np.__version__) < '1.13':\n",
      "/home/gardette/anaconda3/lib/python3.9/site-packages/setuptools/_distutils/version.py:351: DeprecationWarning: distutils Version classes are deprecated. Use packaging.version instead.\n",
      "  other = LooseVersion(other)\n",
      "/home/gardette/anaconda3/lib/python3.9/site-packages/joblib/backports.py:36: DeprecationWarning: distutils Version classes are deprecated. Use packaging.version instead.\n",
      "  if LooseVersion(np.__version__) < '1.13':\n",
      "/home/gardette/anaconda3/lib/python3.9/site-packages/setuptools/_distutils/version.py:351: DeprecationWarning: distutils Version classes are deprecated. Use packaging.version instead.\n",
      "  other = LooseVersion(other)\n"
     ]
    },
    {
     "data": {
      "text/html": [
       "\n",
       "<link rel=\"stylesheet\" type=\"text/css\" href=\"https://cdn.jsdelivr.net/gh/bmabey/pyLDAvis@3.3.1/pyLDAvis/js/ldavis.v1.0.0.css\">\n",
       "\n",
       "\n",
       "<div id=\"ldavis_el5061471403551874357761840137962\"></div>\n",
       "<script type=\"text/javascript\">\n",
       "\n",
       "var ldavis_el5061471403551874357761840137962_data = {\"mdsDat\": {\"x\": [0.30822762099361767, 0.02253445891292801, -0.07387748185117872, -0.032396705028496224, 0.021260632310089345, 0.009190571804217387, -0.007749278711618158, -0.027316322975339632, -0.04725970959683223, 0.0033196574098099427, 0.01434336566109046, -0.01772841777942868, -0.04431917206447244, -0.0317926185413011, -0.013078479644999242, -0.022226320736662374, -0.01783072712437537, -0.02881175290331042, -0.009724775517483651, -0.004764544616254588], \"y\": [0.2848401807631141, -0.09067977873510202, -0.05342070529025925, 0.04207441810665484, -0.03470467616611957, -0.02635459073194232, 0.017427658135028345, -0.037973305357607685, 0.0022147943190728363, 0.0050116776002802205, -0.004818404214718159, 0.005593411081856181, -0.014075205718905451, 0.007775571365896715, -0.03071177916760684, -0.007462933507469899, -0.020671594540396646, -0.016561896825442356, -0.016151604015780703, -0.01135123710055233], \"topics\": [1, 2, 3, 4, 5, 6, 7, 8, 9, 10, 11, 12, 13, 14, 15, 16, 17, 18, 19, 20], \"cluster\": [1, 1, 1, 1, 1, 1, 1, 1, 1, 1, 1, 1, 1, 1, 1, 1, 1, 1, 1, 1], \"Freq\": [72.16706914130897, 3.0589357187685287, 2.6254349980270244, 2.0138143067247904, 1.6966409260408388, 1.4230721832826188, 1.4189864222785735, 1.4022852529006873, 1.399679811370906, 1.3261544370312346, 1.3224157094338242, 1.298751840736135, 1.2905513063372613, 1.2619349452353408, 1.1278692268199768, 1.0889525157603397, 1.0458940441637774, 1.033027549541764, 1.015381455261221, 0.9831482089761798]}, \"tinfo\": {\"Term\": [\"the\", \"to\", \"of\", \"and\", \"in\", \"is\", \"that\", \"it\", \"edu\", \"you\", \"for\", \"this\", \"on\", \"com\", \"be\", \"have\", \"are\", \"not\", \"from\", \"with\", \"as\", \"georgia\", \"was\", \"they\", \"or\", \"if\", \"ai\", \"but\", \"turkish\", \"can\", \"the\", \"to\", \"of\", \"and\", \"in\", \"is\", \"that\", \"it\", \"edu\", \"you\", \"for\", \"this\", \"on\", \"com\", \"be\", \"have\", \"are\", \"not\", \"from\", \"with\", \"as\", \"was\", \"they\", \"or\", \"if\", \"but\", \"can\", \"my\", \"re\", \"at\", \"manes\", \"hernlem\", \"zuma\", \"sera\", \"nysernet\", \"lebanese\", \"jayne\", \"ifas\", \"argic\", \"gnv\", \"sdpa\", \"azerbaijan\", \"linknet\", \"magpie\", \"psilink\", \"urartu\", \"hasan\", \"kulikauskas\", \"armenian\", \"adl\", \"liar\", \"1920\", \"villages\", \"serdar\", \"armenians\", \"mozumder\", \"absolutes\", \"snm6394\", \"astein\", \"dbd\", \"lebanon\", \"behanna\", \"ufl\", \"journalism\", \"turks\", \"turkish\", \"armenia\", \"sabbath\", \"genocide\", \"alomar\", \"rauser\", \"eliot\", \"baerga\", \"parr\", \"eskimo\", \"sherri\", \"gainey\", \"snichols\", \"maynard\", \"mbeaving\", \"enzo\", \"maven\", \"nichols\", \"ahl\", \"needles\", \"obp\", \"glutamate\", \"laurentian\", \"3com\", \"rri\", \"jartsu\", \"hamer\", \"gloves\", \"mule\", \"helmets\", \"karn\", \"dougb\", \"gt0523e\", \"jays\", \"jhunix\", \"dal\", \"hcf\", \"dma\", \"bone\", \"ug\", \"convex\", \"pegasus\", \"superstition\", \"gilmour\", \"umanitoba\", \"sfu\", \"kadie\", \"uoregon\", \"ico\", \"bobbe\", \"beauchaine\", \"bony1\", \"livni\", \"cosmo\", \"jake\", \"feustel\", \"bony\", \"egalon\", \"almanac\", \"fourd\", \"rickert\", \"nada\", \"slee01\", \"srl\", \"hemul\", \"tdawson\", \"nathaniel\", \"angmar\", \"rmt6r\", \"thigpen\", \"alfalfa\", \"asphaug\", \"herringshaw\", \"queens\", \"sank\", \"cruel\", \"glang\", \"chimps\", \"68040\", \"hulman\", \"c650\", \"solntze\", \"livesey\", \"wpd\", \"kth\", \"magellan\", \"nextwork\", \"risc\", \"ati\", \"fpu\", \"qazi\", \"pgf\", \"krillean\", \"jr0930\", \"nuet_ke\", \"cybernet\", \"curtin\", \"bauer\", \"kirlian\", \"iscp\", \"srl02\", \"fraering\", \"babb\", \"handheld\", \"workspace\", \"sol1\", \"fau\", \"markz\", \"paulson\", \"memes\", \"1778\", \"1708\", \"chatham\", \"englishman\", \"rethinking\", \"nuetzman\", \"cacs\", \"ulm\", \"1777\", \"guyd\", \"unlv\", \"drieux\", \"graphite\", \"breaker\", \"payne\", \"freaks\", \"ksu\", \"nodak\", \"tufts\", \"stafford\", \"metrics\", \"hubcap\", \"nicho\", \"winona\", \"photography\", \"cobb\", \"alexia\", \"lis\", \"relays\", \"intercon\", \"opel\", \"tsa\", \"mks\", \"0705\", \"biochem\", \"wcs\", \"herndon\", \"roush\", \"bchm\", \"towers\", \"penev\", \"fierkelab\", \"msoe\", \"kin\", \"acidophilous\", \"ecst\", \"csuchico\", \"sanjay\", \"llama\", \"narlochn\", \"uiboise\", \"manta\", \"jas\", \"jagielski\", \"jagubox\", \"amanda\", \"ghostscript\", \"psyrobtw\", \"949\", \"plants\", \"wip\", \"cellar\", \"isi\", \"anchor\", \"ubvmsb\", \"cka52397\", \"steam\", \"thrush\", \"convex\", \"gvg47\", \"petch\", \"muskingum\", \"cns\", \"svoboda\", \"vanderbyl\", \"erlangen\", \"vanderby\", \"colnet\", \"kjenks\", \"shakala\", \"sears\", \"stampfli\", \"sturges\", \"alizard\", \"infj\", \"aucun\", \"ceux\", \"suraj\", \"moolit\", \"scs8\", \"suis\", \"tweekco\", \"comme\", \"rap115\", \"gm2\", \"lizard\", \"serum\", \"mywinobj\", \"cmhnet\", \"gothamcity\", \"cdac\", \"gvg\", \"kodak\", \"cci\", \"grass\", \"valley\", \"carlos\", \"rtsg\", \"maine\", \"onur\", \"yalcin\", \"vera\", \"noye\", \"bmug\", \"maler\", \"munizb\", \"rwtms2\", \"dgi\", \"jennise\", \"hilmi\", \"noyes\", \"sun4_411\", \"lm\", \"burrill\", \"main_win\", \"spider\", \"azerbadjan\", \"tittle\", \"margoli\", \"brians\", \"militello\", \"bemben\", \"rbemben\", \"timewarp\", \"jburrill\", \"yoo\", \"smoker\", \"krumins\", \"detail_win\", \"tesla\", \"wireframe\", \"922\", \"td\", \"byu\", \"imag\", \"su\", \"ericsson\", \"claire\", \"radford\", \"desonia\", \"hal9k\", \"centaur\", \"boesel\", \"cboesel\", \"maccs\", \"mancus\", \"dse\", \"diablo\", \"dsg4\", \"patently\", \"membry\", \"absurdities\", \"eau\", \"wpafb\", \"mmatusev\", \"1280x1024\", \"midelfort\", \"usgs\", \"cs3sd3ae\", \"rolla\", \"rjck\", \"matusevich\", \"ckincy\", \"kincy\", \"kyanko\", \"proton\", \"bertrand\", \"mcmaster\", \"phill\", \"unisql\", \"kmembry\", \"jimf\", \"projector\", \"nyeda\", \"mydisplay\", \"viamar\", \"vak12ed\", \"cnsvax\", \"nye\", \"liberalizer\", \"luriem\", \"oeinck\", \"bezier\", \"spd\", \"starbase\", \"chicogo\", \"liv\", \"ndis\", \"gozer\", \"husak\", \"dewinter\", \"liris\", \"liverpool\", \"farzin\", \"lurie\", \"tew\", \"s414\", \"thia\", \"kuleuven\", \"1371\", \"ferdinand\", \"waterland\", \"wlink\", \"prl\", \"ameres\", \"1026\", \"wimvh\", \"insurrection\", \"dong\", \"idbsu\", \"mont\", \"md5\", \"louisville\", \"betz\", \"kdka\", \"curves\", \"det\", \"040\", \"maine\", \"allegheny\", \"philips\", \"lippard\", \"teenagers\", \"alleg\", \"ak296\", \"daker\", \"inqmind\", \"youngstown\", \"wfu\", \"rupin\", \"bison\", \"baden\", \"crohn\", \"darkman\", \"an030\", \"___________________the\", \"champion_________________\", \"vida\", \"unixg\", \"citri\", \"hagenjd\", \"mdavcr\", \"hagen\", \"horne\", \"toontown\", \"b62182\", \"kephart\", \"dang\", \"heuvel\", \"catt\", \"immunizations\", \"williamson\", \"fragante\", \"broward\", \"avi\", \"ubc\", \"tut\", \"rind\", \"immunization\", \"yfn\", \"ysu\", \"ariel\", \"prk\", \"ozonehole\", \"belton\", \"welty\", \"johnh\", \"skybridge\", \"scl\", \"ohmite\", \"jcj\", \"blakey\", \"cisco\", \"balltown\", \"wb8foz\", \"jackatak\", \"carlosn\", \"niederstrasser\", \"ricardo\", \"swii\", \"strider\", \"chiao\", \"tung\", \"bcsc02\", \"mpce\", \"neuharth\", \"tellabs\", \"emmen\", \"kde\", \"cabot\", \"polonius\", \"cj195\", \"amoss\", \"alec\", \"chiu\", \"macadam\", \"redelfs\", \"canseco\", \"68000\", \"ipser\", \"cma\", \"quicktime\", \"su\", \"raider\", \"carlos\", \"pmetzger\", \"dresden\", \"metzger\", \"30602\", \"7415\", \"n4tmi\", \"0358\", \"542\", \"louray\", \"inf\", \"gt1091a\", \"irzr17\", \"706\", \"snark\", \"laissez\", \"andre_beck\", \"ax\", \"shearson\", \"alphacdc\", \"scicom\", \"beck\", \"bham\", \"ibm3090\", \"panayiotakis\", \"kaan\", \"timucin\", \"pitzer\", \"wats\", \"hfsi\", \"gwu\", \"mcovingt\", \"covington\", \"aisun3\", \"s2\", \"uga\", \"athens\", \"ai\", \"georgia\", \"convex\", \"halat\", \"thomasp\", \"pooh\", \"topaz\", \"steinly\", \"parsli\", \"uio\", \"sigurdsson\", \"steinn\", \"salaris\", \"landis\", \"handedness\", \"wixer\", \"cem\", \"gloster\", \"inode\", \"lick\", \"fenholt\", \"hell_2\", \"teleport\", \"cain\", \"surt\", \"apoylis\", \"altima\", \"splitfires\", \"cmm\", \"kuiper\", \"jono\", \"ogden\", \"kraken\", \"dominance\", \"joslin\", \"bj\", \"bears\", \"vpnet\", \"cogsci\", \"mr2\", \"sabbath\", \"norway\", \"paradox\", \"jac2y\", \"ifi\", \"klinger\", \"theporch\", \"wg2\", \"xmu\", \"libxmu\", \"haston\", \"gec\", \"waii\", \"gazans\", \"se05\", \"iitmax\", \"bowers\", \"jorg\", \"fhg\", \"macinteresteds\", \"galki\", \"xmosaic\", \"misisipi\", \"aberystwyth\", \"igd\", \"prutchi\", \"raider\", \"ak954\", \"albion\", \"1964\", \"marconi\", \"aches\", \"jigang\", \"thatch\", \"dla\", \"iit\", \"azw\", \"ghetto\", \"paj\", \"toppoint\", \"124\", \"aber\", \"acker\", \"144\", \"lib\", \"tempest\", \"r5\", \"gehrels\", \"cec1\", \"remus\", \"nstramer\", \"naftaly\", \"frip\", \"stramer\", \"supergas\", \"downs\", \"cramm\", \"kkopp\", \"koppenhoefer\", \"ailin\", \"klossner\", \"dazixco\", \"ma90jjw\", \"nilay\", \"nilayp\", \"patel\", \"adjective\", \"boote\", \"ttt\", \"shaman\", \"brouillette\", \"ucf1vm\", \"_______________________________\", \"9972\", \"jj\", \"cda90038\", \"woodruff\", \"80301\", \"nunnery\", \"rj3s\", \"nevada\", \"6101\", \"581\", \"rb\", \"wv\", \"violet\", \"fd\", \"vcd\", \"lamont\", \"numlock\", \"ferguson\", \"cbrooks\", \"xsizehints\", \"bellini\", \"coolant\", \"askew\", \"eridan\", \"wiretapping\", \"sprocket\", \"sumax\", \"pp3903a\", \"ukma\", \"chuvashia\", \"er1\", \"isrealis\", \"mwalker\", \"jaskew\", \"jeruseleum\", \"isreal\", \"jle\", \"pimentel\", \"centrifuge\", \"seattleu\", \"jerusaleum\", \"225707pp3903a\", \"barbecuing\", \"rubenstein\", \"carcinogens\", \"terrorize\", \"p_c\", \"keithley\", \"adelaide\", \"claebaur\", \"caste\", \"spam\", \"qmw\", \"716\", \"uranium\", \"ton\", \"maine\", \"steph\", \"su\", \"garfiel\", \"gmi\", \"khan0095\", \"pgf5\", \"blaine\", \"bgardner\", \"alavi\", \"ssa\", \"davet\", \"tharp\", \"virgilio\", \"wallacen\", \"m2c\", \"hismanal\", \"velasco\", \"ima\", \"erythromycin\", \"rayssd\", \"razi\", \"rgasch\", \"rr\", \"gasch\", \"gardner\", \"751\", \"astemizole\", \"jeeves\", \"8514\", \"anello\", \"vbv\", \"spigot\", \"interceptor\", \"cds\", \"unity\", \"dyer\", \"spdcc\", \"accelerators\", \"dsd\", \"tgv\", \"flb\", \"baube\", \"pablo\", \"reimert\", \"fls\", \"optiplan\", \"shaun\", \"sphughes\", \"lamar\", \"senner\", \"bm\", \"spacewalk\", \"iglesias\", \"whitsebd\", \"cfs\", \"karadzic\", \"notebooks\", \"waking\", \"hjort\", \"gt4661a\", \"etdesg\", \"forged\", \"lee139\", \"ehud\", \"fibromyalgia\", \"tba\", \"dls128\", \"mmb\", \"accutane\", \"crd\", \"sfsu\", \"sfsuvax1\", \"uafhp\", \"zionism\", \"feserve\", \"marshatt\", \"econ\", \"skinner\", \"hcf\", \"ualberta\", \"blah\", \"jhunix\", \"hulman\", \"nmm\", \"elin\", \"gritz\", \"ganter\", \"hb9nby\", \"jiann\", \"hochreiter\", \"eeam\", \"js1\", \"rainer\", \"mscs\", \"farid\", \"2600\", \"89100\", \"rrmadiso\", \"michel\", \"weizmann\", \"christic\", \"clubbing\", \"crnsu1\", \"in2p3\", \"arthur_noguerola\", \"wolverine\", \"hulk\", \"comarow\", \"hodapp\", \"whatta\", \"studsys\", \"henderson\", \"insitute\", \"hj\", \"populist\", \"goodbye\", \"ming\", \"isis\", \"brake\", \"su\", \"kurt\"], \"Freq\": [974.0, 542.0, 494.0, 416.0, 381.0, 360.0, 338.0, 314.0, 288.0, 283.0, 260.0, 204.0, 204.0, 204.0, 197.0, 195.0, 194.0, 191.0, 190.0, 178.0, 172.0, 11.0, 165.0, 163.0, 162.0, 160.0, 9.0, 152.0, 9.0, 143.0, 974.5614301099166, 542.4861849493005, 493.8491190394191, 416.72766694143405, 381.747474602986, 360.7276223478015, 338.2103977478964, 314.00976745454113, 288.57665832721955, 283.53682770435825, 260.47164546009793, 204.630710950224, 204.0207001914638, 203.9602864580572, 197.7445727693632, 195.0378034982679, 193.9290571669412, 191.75008833716578, 190.74489407869262, 178.77934090937694, 172.32305526887322, 164.90592991683104, 162.85075281967713, 162.1318269615912, 160.80334897958565, 152.51697817496202, 143.42873606508434, 142.46010754343595, 134.81130457320435, 134.34247670296236, 2.161900553669769, 1.963337218806915, 2.0137973518588215, 1.7949955333459857, 1.7611243976250839, 2.401929570978227, 1.6517566839692572, 1.6340476292921495, 3.1494768924248575, 1.624471455839614, 1.561136273357445, 1.4513960920226046, 1.4167274117950848, 1.4167274117950848, 1.4010843522468706, 1.3430582224457073, 1.2615893475887758, 1.2518567614830483, 4.991890153836178, 1.3461626228931176, 1.6173289886419127, 1.3295965576933202, 1.6314594726267224, 3.0456551020636264, 4.639013531475098, 1.4162844565368864, 1.1535048114668294, 1.0253381765237133, 1.0210043525777952, 1.007260431408197, 1.9717447716695873, 2.5377356895762917, 1.9993115007960571, 1.3778250562833079, 2.6376764596270257, 4.319642853570639, 2.6843235241984833, 1.4735914288174872, 1.4168927861223894, 2.2005705152206314, 1.5318946643328186, 1.554657024429237, 1.3765033413701186, 1.1879872092579722, 1.429692190853446, 1.1419643450234869, 1.1179383345218652, 0.983047626795831, 2.1554662517906977, 0.8609550405542034, 0.8152330579336577, 0.8051137725617517, 1.5032521991638752, 0.9808616536575373, 0.7701676590333002, 0.8617612185245962, 0.8238462445356737, 1.8419135540040044, 0.7211718765268357, 0.7187737130091952, 0.7156894554669035, 0.704500240161221, 0.7532899283471957, 0.6987987585440769, 0.8413673635914447, 0.6835344840768667, 0.6748302814606362, 0.6747128932307754, 1.3558522572197793, 1.082105892781931, 1.4732400300410615, 1.2684361499220527, 1.2521430153890685, 0.8913372910464299, 0.970207596700769, 1.6793828248693938, 0.9696134056933512, 0.9402102363045051, 0.8981767052332554, 0.9703532295515971, 1.0991731543718621, 0.8643500450196074, 0.8726863989368286, 1.7477064188628213, 1.4506764685926312, 1.4309110270680325, 1.3038490883685343, 1.2336359592780306, 1.164224875855259, 2.4860480671264757, 1.3397969073766496, 1.292604079348133, 0.9796063341081107, 1.0244780012407868, 0.9384571106869944, 0.8611166337175351, 1.1143903096731465, 0.6883122700614428, 0.8129475552699067, 0.6145234980868114, 0.6112321559369145, 0.5886712930501953, 1.1309627387294787, 0.5390561123885249, 0.5390561123885249, 0.6221854917508709, 0.5286329170390409, 0.5056925257123044, 0.5590739417808482, 0.5695781398885905, 1.0782778749860753, 0.4776144880390376, 0.515332529295222, 0.6358004062050482, 1.3743100124165786, 1.063349105607819, 1.7269785943460614, 2.3404369249690027, 1.6845165708263072, 1.0844982778600527, 0.6211507100877173, 0.7154736612490123, 0.8404014281347696, 0.7212457004649399, 0.7451970620595355, 0.6833712947725642, 0.6543061359612315, 0.5751952721786501, 0.5135077114879723, 0.5063757852536308, 0.4781298380325278, 0.4739514595357074, 0.49184611134151296, 0.4173377262048149, 0.5158089239728715, 0.3930618009714698, 0.570822716438955, 0.6889537710045817, 1.1909726669808909, 0.41926395755819595, 0.3898359312232578, 0.35073824379067986, 0.3431041599043472, 0.39145588638705653, 0.3282064073801701, 0.324773155039509, 0.3193025876781432, 0.3193025876781432, 0.3193025876781432, 0.3193025876781432, 0.31840538986368566, 0.6165606670362866, 0.3473277542585043, 0.3162635888015382, 0.37660756195401945, 0.38259153162608195, 0.40141005869538476, 0.3472047094939522, 0.6826471719444923, 0.34364222386278676, 0.3534921162270038, 0.7833257371898877, 0.4839387807850764, 0.5633683207727336, 0.4602748706915697, 0.3852402974598352, 0.3584641485685952, 0.40301882850858295, 0.4014148324510182, 0.43694928301336267, 1.098994211554394, 0.5377932542828978, 0.5222901884104252, 0.4828682757684719, 1.7401775004179738, 0.407301897106846, 0.3576224095821558, 0.3321175130086807, 0.3179871078308753, 0.37782262122040705, 0.3543332187012249, 0.2937294811632847, 0.2810818164402749, 0.2787272682857576, 0.5568194761430514, 0.2720108704790703, 0.2666521604264488, 0.26071221841865005, 0.3036938450863645, 0.2560289791770236, 0.35973125828405694, 0.35973125828405694, 0.27906966967795827, 0.26412233135291324, 0.23374780211795412, 0.22783351184707196, 0.29301510245844065, 0.2594868320509614, 0.22049188263891978, 0.22049188263891978, 1.4448742659901725, 0.32975714888339636, 0.31837586171199733, 0.3013825342835012, 0.38180311897610714, 0.3680659071262233, 0.4977221060744369, 0.35065768833199634, 0.2920660664398165, 0.33015967528369794, 0.2990644542058859, 0.32545724319276775, 0.2884819010981075, 0.30688139534492387, 0.557943556744596, 0.9166513764166524, 0.46910535702657025, 0.539870227994151, 0.6096900998894695, 0.36771893218367135, 0.3502460236478253, 0.3421553300680085, 0.3401899327079865, 0.31826906569565255, 0.3097120359791413, 0.29143227150369944, 0.28744690182773175, 0.28395820099342667, 0.28018045682376297, 0.27003840969449205, 0.2635282788147875, 0.2635282788147875, 0.2611295473264214, 0.25744009578758353, 0.2516855334202226, 0.2700271573398494, 0.2492222106000854, 0.2607434689888198, 0.2683038447899327, 0.23343674851608212, 0.21700985840184817, 0.25114116253822755, 0.2120811844720845, 0.38590732369597847, 0.3313117578128805, 0.36253946036491463, 0.4882405159151948, 0.3409619396222259, 0.31939331541944577, 0.5113482646461557, 0.49700034775489516, 0.3278026712550208, 0.3289074339092537, 0.26753391045295793, 0.3733644795476063, 0.3733644795476063, 0.3606165866260581, 0.34598811131416934, 0.6353631746428156, 0.30739103305514537, 0.30206989311834037, 0.30206989311834037, 0.2734396373318486, 0.2734396373318486, 0.2676046001883609, 0.25225367833392837, 0.24631391112672596, 0.25123746758753424, 0.22658239426513097, 0.2135035582081142, 0.2808852884422902, 0.2087764415639636, 0.21910508204139947, 0.20340636261936038, 0.2332963168201093, 0.24033572814480705, 0.18716115462974653, 0.18716115462974653, 0.18716115462974653, 0.1857821638994435, 0.20836709594237524, 0.2228252917550536, 0.19211463800832626, 0.1697762923510132, 0.28420185962522626, 0.2280080361024861, 0.2334206206909222, 0.21157881734033235, 0.22709548118889, 0.22743838611969935, 0.2166453087006425, 0.21036239961207306, 0.5638309899231455, 0.47297089793611446, 0.4129529377715476, 0.3574424180073813, 0.5946926336063528, 0.32525130688494813, 0.32525130688494813, 0.39855949686420183, 0.39525627948630754, 0.2904614441654835, 0.5406654827667503, 0.27397542636580047, 0.29248004173615644, 0.26290271784426333, 0.26621562881325295, 0.5375398451859488, 0.2533880430058477, 0.2502204501508663, 0.46069508801844367, 0.24152229459119398, 0.2864542062937589, 0.2397265308416946, 0.33787408450110257, 0.22871525649081295, 0.2180721754555107, 0.24495545924185066, 0.24495545924185066, 0.21147384005141087, 0.5726872711810841, 0.24983511445191683, 0.6148302622832658, 0.3472717022384615, 0.48024739614430917, 0.381434307727762, 0.41108509983547886, 0.38253068795056167, 0.3833750385688045, 0.30377333606555346, 0.3492337918331354, 0.29529642507412585, 0.30174753372010005, 0.2751970272223764, 0.4469587773463286, 0.4469587773463286, 0.3526315533388584, 0.3940701660759199, 0.3231238160125713, 0.3657307721410292, 0.3217029191181072, 0.46896258006330843, 0.31623569629466025, 0.4802916480871657, 0.27577285482094754, 0.2699895227236069, 0.266333494585338, 0.5405785070287351, 0.25413889791965416, 0.4636633599962253, 0.25377389293002295, 0.24694274619269357, 0.23956531505293022, 0.30740844630546404, 0.21699074088479645, 0.20923600385941368, 0.19883778628069165, 0.19883778628069165, 0.2898268275412573, 0.1938533930955182, 0.19244064407173336, 0.19073041030299212, 0.18979983729814107, 0.2354376459830145, 0.4438381888452873, 0.2729279660998837, 0.24652978469716882, 0.5199606134107257, 0.49607554752594063, 0.2239476131546181, 0.3350976675561045, 0.3223186123746391, 0.29908694617012505, 0.34761249867080946, 0.2949070031990553, 0.3037251514870878, 0.27121296941258777, 0.2571091848979066, 0.2553626839429777, 0.7774486358528276, 0.7774486358528276, 0.4430326049062875, 0.49988885308645736, 0.3773400612680505, 0.36557579684483676, 0.531213324951229, 0.36089606473266733, 0.5642133530607107, 0.34571784839671155, 0.456831478905343, 0.3295687432179729, 0.3295687432179729, 0.31093316636282275, 0.49465559403287496, 0.35280408733315316, 0.24725588362891746, 0.2472256679880072, 0.24428383432973177, 0.4863572935557587, 0.22593592119421999, 0.22307008043312757, 0.22307008043312757, 0.34948135065992075, 0.22236582294391496, 0.2851334592133649, 0.24543156910541983, 0.23999691298431736, 0.21252624301147935, 0.48722020644508796, 0.32419603087096477, 0.6575604469147862, 0.3225409339945909, 0.35677685108362883, 0.2486467226449861, 0.7700750748168906, 0.72193826408431, 0.25969087051089723, 0.25179648527275245, 0.3460005103359999, 0.3385786876748062, 0.30287840248441766, 0.3576603586594271, 0.2907517331144621, 0.2876294039079317, 0.26435001256379165, 0.33470845923954823, 0.2392233972425126, 0.2526070811262924, 0.22620796827550604, 0.22448516743390026, 0.2232683575345185, 0.2189908313901237, 0.2189908313901237, 0.2925065385334368, 0.20495256319289798, 0.22217391955488777, 0.2023086820742843, 0.2023086820742843, 0.20177243514226095, 0.4680380666474684, 0.19811245186558088, 0.22545682887089352, 0.19395327281969096, 0.19395327281969096, 0.1938591455017255, 0.188290435787363, 0.21495080033760347, 0.1781155095251873, 0.2620029685739032, 0.2728931610686789, 0.3001759063207161, 0.21236398162465658, 0.22598152797882043, 0.21858550051531372, 0.2390225074159474, 0.20880406230383508, 0.22439806181087163, 0.23603446855190877, 0.22031342050431896, 0.21987458633515367, 0.6696068597329551, 1.0203800834544094, 0.5466297099524347, 0.5443258688969861, 0.527838496209534, 0.5258071279583695, 0.5235515133232025, 0.6053923658198537, 0.5183528441381291, 0.8379476269048672, 0.42659095671700703, 0.4264870241330017, 0.6074060657976106, 0.4039272217705515, 0.3958273804643433, 0.3901936685801914, 1.771983486537711, 0.6817051886499709, 0.3278382029151086, 0.3278382029151086, 0.6142407261207048, 0.3035038424419082, 0.3035038424419082, 0.34572549231822597, 0.3181294261163473, 0.27936270691824255, 0.2734764596493071, 0.2853680504177798, 0.30499284369019025, 0.528525784840704, 1.0528453129949196, 1.0505084376973413, 0.7032921648184479, 0.4520432019085479, 1.0847685076016713, 0.7584597936595484, 1.0223027400867961, 0.7890531285914607, 0.42660369466765224, 1.4140941318700122, 0.6028023600604862, 0.5386824706007265, 0.47516307916862704, 0.4718101964230878, 0.41383232297645245, 0.7180200073041422, 0.30167758906866526, 0.30167758906866526, 0.24879815707053565, 0.22877413957304918, 0.23792059898401233, 0.2172879795138867, 0.20342517152355455, 0.20244231032438814, 0.2204738958728423, 0.26342527234079083, 0.18978574539239618, 0.18469181688928799, 0.1837623107278629, 0.4068651982538371, 0.2226998885067385, 0.17827513969485995, 0.2528231267670013, 0.1732895614777345, 0.17233863111277478, 0.2434882529813917, 0.1631039684104132, 0.1631039684104132, 0.1585065050719004, 0.35871049559618745, 0.2960598846833572, 0.28667493456078674, 0.5066100549391144, 0.2688854478610035, 0.24600758899054354, 0.2506966053160578, 0.4492055203162391, 0.28570899068928407, 0.2484664928415613, 0.2179871857495376, 0.2252574411849206, 0.3208921456940553, 0.4028729222547056, 0.2791044597507354, 0.2837320347624005, 0.2803807159061913, 0.2396025315258228, 0.3647398628915809, 0.2755928939518235, 0.2655216967893169, 0.20476934635841298, 0.20335351906451252, 0.20299338819516138, 0.19765764136816147, 0.18978747771208973, 0.18909718436840675, 0.1836256777016596, 0.181076008579928, 0.1708888545457545, 0.22116973674229068, 0.18647716755235866, 0.18874071495679423, 0.3883717613588549, 0.15694546518412086, 0.15694546518412086, 0.388070116770996, 0.14441794976289213, 0.1411379684575178, 0.13992841802577996, 0.13969083136468172, 0.1389374802913643, 0.18736993748387146, 0.22322084370512138, 0.24980712765768717, 0.18696435521925683, 0.1750207382118331, 0.22157361847663268, 0.26509830077121166, 0.2045364644064399, 0.2139644075378018, 0.41311349086990945, 0.24942524233552849, 0.21896064916544652, 0.2178929240686726, 0.1942052918685765, 0.19109835324327748, 0.3386031563091311, 0.3021360707266756, 0.24514668296263592, 0.23901389595962644, 0.23901389595962644, 0.32083910574656443, 0.2092327231728809, 0.2092327231728809, 0.2092327231728809, 0.18207188185144424, 0.17762723004924655, 0.3221227149941656, 0.14550462961789606, 0.1444299018154527, 0.1444299018154527, 0.1444299018154527, 0.18354488871886784, 0.13383138409707446, 0.13373621229822247, 0.13197608108966646, 0.1239359831270908, 0.12239065602447281, 0.15301955200375034, 0.10981138643504464, 0.13098186937466652, 0.10770753795248844, 0.10770753795248844, 0.10826953454557904, 0.09856235533840621, 0.09856235533840621, 0.21631347792426656, 0.10728722576799933, 0.179976054906283, 0.12142717419208193, 0.19830269061931322, 0.1383529049058386, 0.13015218236314602, 0.16248419578213022, 0.13683042161710074, 0.14606635155126255, 0.33541301701405696, 0.24871630533583977, 0.2620957447488661, 0.2036733771737668, 0.20117326904670582, 0.18479402367179826, 0.17594933109587943, 0.2255933146221206, 0.16539969224656448, 0.14436758273811226, 0.1407940162345815, 0.13828882994963468, 0.13382227232711136, 0.13382227232711136, 0.13328780174329463, 0.1319339167548765, 0.12867641548986844, 0.12803231341687496, 0.2284059350770704, 0.12521704577516934, 0.13906724774651258, 0.1194082786495007, 0.11805447398328962, 0.1173963902675625, 0.11716486085986441, 0.11457110264700418, 0.10752580583902786, 0.1312067385129225, 0.11564597396612865, 0.1061448666087248, 0.1474369982364202, 0.19301416668499521, 0.12725227002386474, 0.13223482994229552, 0.1361020212849662, 0.1399051735756462, 0.13191399838147827, 0.14415188922068115, 0.133232456451258, 0.1461832952050227, 0.13156646779552106, 0.13135509814191776, 0.38416042997098276, 0.4038279477405569, 0.36656621496105063, 0.3665547433164361, 0.3060554969028824, 0.3022617856888396, 0.22992812598435686, 0.22638745745779998, 0.22165040245491893, 0.22165040245491893, 0.216465639130152, 0.20844295464962065, 0.20712319727807296, 0.19969887703062061, 0.22210230671191736, 0.20580629008953097, 0.19104991312830938, 0.20577758966411672, 0.18083230184259896, 0.19550462849584904, 0.23087397733531811, 0.17319766143967627, 0.31966984263036435, 0.17741243626306283, 0.15738614214237556, 0.19336333675306322, 0.21618167678368194, 0.1493008601497078, 0.14970164108971862, 0.13739287383867133, 0.2138311072881447, 0.29771576993505244, 0.2048095362515879, 0.5383441543953152, 0.33615918083854524, 0.200791793730854, 0.19834970078391478, 0.41716986076834167, 0.24863176800030864, 0.21921624590721525, 0.21779918508637366, 0.20821203583279363, 0.2775722267952385, 0.17237118172780175, 0.16232662288259692, 0.16232662288259692, 0.14622580945289435, 0.16640638866551988, 0.19382899217397598, 0.1471543282636428, 0.128745689046185, 0.12868645794415443, 0.15896067295471272, 0.12522702399092067, 0.1499295738051235, 0.15126440616925657, 0.1142947651331255, 0.11352419380567036, 0.11226939274267965, 0.14317220308914885, 0.12641741751694788, 0.1092397483340174, 0.12062681808661573, 0.1081580435517968, 0.10743623455812316, 0.10663875544504009, 0.1014357248711653, 0.16378092022467672, 0.1497523208984808, 0.1497523208984808, 0.13255514515081065, 0.28686959025301234, 0.12907765192798681, 0.12907765192798681, 0.24379456769359578, 0.13403730654412835, 0.2090955514129298, 0.15613227463097373, 0.16637351040389842, 0.1423094641763398, 0.13803832071582947, 0.3083181977698033, 0.2815824004045923, 0.275371922151833, 0.19777075124482849, 0.1500945951702973, 0.14627640598894764, 0.13284928995234532, 0.13062911535784383, 0.12936842829035425, 0.2796577422651534, 0.1244261998982175, 0.12542001648711415, 0.18265120798841128, 0.12008138783912892, 0.11833412576144851, 0.15849843953665785, 0.11822491442340516, 0.11813678414734667, 0.11657200215033701, 0.11276081618142962, 0.11276081618142962, 0.1191327043980844, 0.13543367499899067, 0.14702137547483307, 0.10735367105521476, 0.10382434347672308, 0.1014349831524548, 0.10125702642680111, 0.17321668763170114, 0.11385515169721641, 0.12181044566300317, 0.11956838600554826, 0.1361766459347397, 0.13340329697266481, 0.16476516243579392, 0.14165522421764876, 0.1419226270886896, 0.12398354012470784], \"Total\": [974.0, 542.0, 494.0, 416.0, 381.0, 360.0, 338.0, 314.0, 288.0, 283.0, 260.0, 204.0, 204.0, 204.0, 197.0, 195.0, 194.0, 191.0, 190.0, 178.0, 172.0, 11.0, 165.0, 163.0, 162.0, 160.0, 9.0, 152.0, 9.0, 143.0, 974.7434371275468, 542.6681919697343, 494.03112606972934, 416.9096739590782, 381.92948162065755, 360.9096293654138, 338.3924047654732, 314.1917744721633, 288.7586653585537, 283.7188347219548, 260.65365247778624, 204.81271796783483, 204.20270720910557, 204.1422934758451, 197.92657978695365, 195.2198105158927, 194.1110641845651, 191.9320953547529, 190.9269011036597, 178.96134792703967, 172.50506281682874, 165.08793693445688, 163.03275983726138, 162.31383397924617, 160.98535599719932, 152.69898519257956, 143.61074308273322, 142.64211456110004, 134.99331159090278, 134.52448372062557, 2.369354162341966, 2.1707908268881457, 2.2387509184865664, 2.0024491412426233, 1.9685780060308966, 2.7017405205071134, 1.8592102929687944, 1.841501238857536, 3.549779418908541, 1.83194406058899, 1.7685898818925572, 1.6588497025875628, 1.6241810207465956, 1.6241810207465956, 1.6085379643671422, 1.5505118311104396, 1.4690429561605582, 1.4593103711828106, 5.8253245945200165, 1.5768177283756049, 1.898393417004333, 1.5639551240166012, 1.921639467895607, 3.5902019289519607, 5.478303385512449, 1.6815387516903917, 1.376115977238326, 1.2327917976573526, 1.2284579609847799, 1.2147140506098968, 2.381984339094388, 3.079424916782224, 2.544293004145412, 1.7095068991298559, 4.274566992185663, 9.005279750258236, 5.727925611438517, 2.217063987824927, 6.315910511244557, 2.409636510225578, 1.7409606562656734, 1.7792056948848856, 1.5855693333832295, 1.3970532040890031, 1.684009700829664, 1.3510303392744931, 1.3270043287245734, 1.192113620722543, 2.658214108933764, 1.070021036809666, 1.0242990515998693, 1.0141797681415545, 1.8995658504489985, 1.242009195948693, 0.9792336517893384, 1.0995308760060802, 1.0577040346956708, 2.3654800758510848, 0.9302378706875909, 0.9278397480222841, 0.9247554476785588, 0.9135662329714747, 0.9768863808017056, 0.9078647555509036, 1.0980886557085088, 0.8926008525051099, 0.8838962768070503, 0.8837788864557343, 1.7762316226987203, 1.4262254835714003, 1.9601016446365744, 1.7440160294607903, 1.789085285555498, 1.2190185483912903, 1.3567731812471517, 2.8874350193197333, 1.4184080583997003, 1.3602440958587234, 1.3304958078772267, 1.581790772490695, 2.3061179387464605, 1.3057856625341855, 1.37925160511073, 1.959321732733987, 1.6622916804991514, 1.6425262389076258, 1.515464298081955, 1.4452511689432308, 1.375840083706442, 2.953685094223799, 1.6038845492102318, 1.554943045665624, 1.1912215434894486, 1.2501433052113766, 1.1500723198620393, 1.0727318428895845, 1.415322782581422, 0.8999274838599741, 1.076262952393622, 0.8261387066696435, 0.8228473674936044, 0.8002870558329547, 1.5546541427152016, 0.7506713321853321, 0.7506713321853321, 0.8692589461011252, 0.7402481272532032, 0.7173077376930818, 0.7950084512962466, 0.8117031689763007, 1.5542809514689726, 0.6892297037338198, 0.7501593204729264, 0.9279106732316774, 2.045057503264559, 1.6070598726949794, 2.781234134480343, 3.9029733671614717, 2.966772470712222, 1.7508846888606735, 0.9567239079643113, 1.256855527894089, 4.036174217213933, 2.352338531833536, 5.7280293260343695, 0.8964565138250098, 0.8673918680538306, 0.8132256876271337, 0.7265929305946431, 0.7194610051456585, 0.6912150611725834, 0.6870366991322012, 0.7293177630305235, 0.6304229463852612, 0.7800975608771871, 0.6061470199243423, 0.8819564065036584, 1.074229322011758, 1.8813938911425576, 0.665807337341745, 0.6245606789444997, 0.5638234681262507, 0.5561893802019231, 0.6392344215403191, 0.5412916324844933, 0.5378668537944374, 0.5323878080735598, 0.5323878080735598, 0.5323878080735598, 0.5323878080735598, 0.5314906109425562, 1.0364831261741778, 0.5891052948463911, 0.5392240627613566, 0.6450359704770601, 0.6570602098703875, 0.7055582304328355, 0.5948841872561017, 1.518503703258909, 0.5907022926683378, 0.6158056605078756, 2.066343977855543, 0.9963544823323309, 1.3347896053204278, 1.1830117444202404, 0.786466592145651, 0.6473777353777563, 1.0287213589008506, 1.0139209133928262, 2.2905051947120967, 1.3331731289301918, 0.7522732376762685, 0.7636746977371008, 0.7400890037671687, 2.737198359086826, 0.641471763991069, 0.5721023923788985, 0.5465974941042053, 0.5324670894516115, 0.637110266940432, 0.6135045718002743, 0.5092336274915856, 0.49556180359266727, 0.49320725509424457, 0.9936180808433398, 0.48649085386045055, 0.48113214765796325, 0.47519220213485824, 0.5562833097381732, 0.4705089599396056, 0.6843312203563984, 0.6843312203563985, 0.5320310598899373, 0.5036978769194914, 0.44822778520445666, 0.44232201107808267, 0.5754526668285628, 0.510398482399314, 0.43497186463104337, 0.43497186463104337, 2.950676512884266, 0.6837510003641539, 0.6625563227259422, 0.6402886897454281, 0.9178216429047562, 0.8941394110303583, 1.697658524490789, 0.9290618009006872, 0.6423754237491939, 1.0072935367966775, 0.7535901853804671, 1.7910854972318189, 0.7629065956460382, 2.8874350193197333, 0.7724422307819864, 1.3250811382380527, 0.6836040332471325, 0.7868438733253911, 0.9341393907992602, 0.5913665806745588, 0.5647446988047667, 0.5566540336464094, 0.554688607453646, 0.5327677601022184, 0.5242107094571808, 0.507248817643839, 0.5019455764620075, 0.49845687595796756, 0.4946791304341448, 0.4845370877857742, 0.47802695276404567, 0.47802695276404567, 0.47562822098126634, 0.4719476390568355, 0.4661842079005964, 0.5005813637012573, 0.4637208846914694, 0.4859065871875475, 0.5081240047970091, 0.4479354233998866, 0.4315085322141895, 0.5040362234069716, 0.4265798577002481, 0.777030830088235, 0.6872333792938823, 0.7645206242145491, 1.2806538468011825, 0.825091875978048, 0.7967355078865085, 3.1949237544024256, 3.3131866286371565, 1.14375537023494, 1.3316094340348719, 2.1330687377158606, 0.5879506599884021, 0.5879506599884021, 0.5753314302763815, 0.5605742923938096, 1.0684011672119809, 0.5219772144300419, 0.5166560730328537, 0.5166560730328537, 0.48802581687374597, 0.48802581687374597, 0.48219078110264557, 0.46696521874116975, 0.460900090376107, 0.4760171165255543, 0.4411703581900957, 0.4280897374267302, 0.5640442165842257, 0.42336262323812274, 0.44633613336065536, 0.41799254605903874, 0.48085153174812695, 0.5152576454350176, 0.4017473379472215, 0.4017473379472215, 0.4017473379472215, 0.40036835467205567, 0.45754463828526537, 0.4942032478905606, 0.4289652999228101, 0.3843624715903912, 0.6993674935756571, 0.558462291923888, 0.62850877307779, 0.6918501274705536, 1.0143156535932765, 1.048129579712062, 1.6116719547245941, 1.9262471526200657, 0.8246709820561041, 0.736629094459238, 0.6498011731422116, 0.5829352217105179, 0.979926156303162, 0.5398568813987945, 0.5398568813987945, 0.6711832192400402, 0.6778817960076511, 0.5050670222373966, 0.9582051479193928, 0.4885810015101308, 0.5249996651063993, 0.4775082922420116, 0.48419164770231327, 0.979733843481886, 0.46799361725219174, 0.4648260242747743, 0.8577972952092097, 0.45612786960601764, 0.5413110319429693, 0.4543321092054209, 0.6493693114140492, 0.44332083096518105, 0.43267774960273364, 0.49101681322301116, 0.49101681322301116, 0.4260794145350492, 1.167187344278407, 0.5125666188607989, 1.3399588244895775, 0.7355744194532603, 1.0627475108014535, 0.8203152343781087, 0.9714400568803181, 0.9148600086012797, 1.5055858631133072, 0.8438919552708497, 1.2489987466728172, 0.8924837328050313, 2.5341161619151547, 2.466890025067211, 0.6619569715035816, 0.6619569715035816, 0.5676297454907311, 0.6438983532939283, 0.5383587952016186, 0.6174854801489954, 0.5556542751082101, 0.8122502742771457, 0.5585532000399576, 0.8531507806495456, 0.49077104834041324, 0.4849877147733155, 0.48133168655826597, 0.9813297501805338, 0.4691370898079834, 0.8579979253892328, 0.473757626098437, 0.46194093912065415, 0.45456350783915805, 0.6096276531172756, 0.43198893610570127, 0.4242341960215741, 0.41383597859656956, 0.41383597859656956, 0.6032746981806866, 0.4088515851632792, 0.40743884228793614, 0.40572860226931495, 0.4048976141612455, 0.5044731120541375, 0.9941251838600486, 0.6098946793932304, 0.5458226325532879, 1.5111691078394718, 1.468094447254271, 0.49752761249272076, 1.011607287602509, 1.1583322211190472, 1.0733404825778714, 2.1330687377158606, 1.3408185200376084, 3.4271450782885684, 1.3173389971882765, 1.0975524551209275, 3.175855175998939, 0.9924747103473845, 0.9924747103473845, 0.6580586709594437, 0.7825900792506136, 0.5923661639101601, 0.5806018598254121, 0.8464306379564416, 0.5759417442002547, 0.9116122268763471, 0.5607439120467809, 0.7429852175726415, 0.5445948061398607, 0.5445948061398607, 0.5264300574789458, 0.8677236403350278, 0.6194208150506926, 0.46228194795151284, 0.46225173167354394, 0.46066557703544303, 0.9191297186330468, 0.4409619850527708, 0.43809614914306927, 0.43809614914306927, 0.6873684990883531, 0.43739188524460665, 0.5610908227668716, 0.48858864609561625, 0.4781643743837071, 0.42755230562373797, 0.9841510195221541, 0.6764291146973346, 1.6868913125196947, 0.7127764075547899, 0.8390854163177675, 0.5117734431629345, 4.593186146700309, 5.500095043967749, 0.6452430223334142, 0.7175367874223697, 0.5611516283664301, 0.5537298056838674, 0.5180295236459183, 0.6187117377993385, 0.5059028507966468, 0.5027805912988625, 0.4795011305277372, 0.6181217869760005, 0.45437451524570754, 0.49063012322208055, 0.4413590900651634, 0.43963628533101445, 0.43842674824885275, 0.43414194993010524, 0.43414194993010524, 0.5971861073169993, 0.42010368102822315, 0.45561315701276295, 0.417460820391938, 0.417460820391938, 0.41692355244129303, 0.9709189112810098, 0.4132635709424514, 0.47429290314609357, 0.40910439294604056, 0.40910439294604056, 0.4090102678571495, 0.40344156424369276, 0.46777255068697593, 0.3932666280343123, 0.5802673353006121, 0.6312374237170207, 0.7386277753762885, 0.48113941282275374, 0.5649453064288712, 0.5846688010075289, 0.83141190957484, 0.5147828107405032, 0.888970130538902, 1.6116719547245941, 0.9030512253148855, 1.14375537023494, 0.8848091374066468, 1.3602634885295963, 0.7618319959744101, 0.7595281133376983, 0.7430543770071968, 0.7410093723883566, 0.7463957699734395, 0.86379320707593, 0.764644801718104, 1.2526017329813715, 0.6417932022622272, 0.6416892704259795, 0.9151928890015234, 0.6191294698324548, 0.6110296254128561, 0.6053959311813618, 2.8678590039903953, 1.1073949677323598, 0.5430404483371896, 0.5430404483371896, 1.0277449034919806, 0.5187060871091872, 0.5187060871091872, 0.5920415695041493, 0.5532376246147521, 0.49456495271454115, 0.48867870599756724, 0.5171196486398292, 0.5554373126467415, 0.9629537300598587, 2.235653536438875, 2.4891569248305565, 2.0144197390136958, 1.1269305463852295, 6.341584964202823, 4.271548940143056, 9.343703902315347, 11.861241781063445, 2.8874350193197333, 1.6294436883331957, 0.8181519181844303, 0.7540351683204631, 0.6905126603574314, 0.6871597523544272, 0.6291818821310251, 1.1801649670606515, 0.517027145288033, 0.517027145288033, 0.4641477130931765, 0.44412369470656465, 0.4649982605143868, 0.4348074730303769, 0.4188756274032324, 0.41779186605200597, 0.46212327072109594, 0.555887525705376, 0.40513530286813026, 0.40004137481066837, 0.3991118689797444, 0.8849887118747919, 0.4861125732873298, 0.39362469467085937, 0.5654103133048698, 0.3886391173700976, 0.38768818942242644, 0.554357406835238, 0.378453539719207, 0.378453539719207, 0.37385606346986144, 0.8615461960383737, 0.7143162445008022, 0.6925447527074168, 1.3276228936243857, 0.659962615362983, 0.599131523301274, 0.6866605250535877, 2.217063987824927, 1.0616492330781842, 0.817854543327105, 0.6242553379147578, 3.8989915952445995, 0.5370040594184591, 0.7088747926177469, 0.49521636881498765, 0.5148113912503701, 0.5261654340705141, 0.4557144417161678, 0.6996883115698768, 0.5369200853161604, 0.5427066967918603, 0.4208812554709802, 0.4194654421805104, 0.4226720098164122, 0.4137695545603144, 0.40589938871588166, 0.40520909417187667, 0.3997375940524831, 0.3971879194967167, 0.3870007640541449, 0.5049416047419957, 0.43054018181774917, 0.43584141623591904, 0.9030512253148855, 0.37305738916183756, 0.37305738916183756, 0.9272459600329409, 0.3605298606337338, 0.3572498788885601, 0.3560403274416917, 0.35580274056525785, 0.35662786709346705, 0.48109527112548817, 0.5913579838733044, 0.6986156544485191, 0.5016735091920891, 0.4668398977196383, 0.6468570843201046, 1.0431277555483962, 0.6359519970004937, 0.718162132098255, 4.478091290904892, 1.283191525700073, 1.045176756734246, 1.3814016687604365, 0.8887835300863467, 0.7354201104705256, 0.5549284241870375, 0.564944870861131, 0.4614719510705422, 0.45533916412187664, 0.45533916412187664, 0.6267816896715234, 0.4255579959931848, 0.4255579959931848, 0.4255579959931848, 0.3983971493130217, 0.3939524985037841, 0.788214837429453, 0.361829896747211, 0.360755169128293, 0.360755169128293, 0.360755169128293, 0.46675890847824, 0.3501566513484453, 0.35006148211293214, 0.3483016453010841, 0.340261251087488, 0.33871592739732725, 0.4473010710885809, 0.3261366545547049, 0.3926536522679131, 0.3240328091978938, 0.3240328091978938, 0.32579942190877065, 0.3148877658895648, 0.3148877658895648, 0.7358349500886616, 0.34982899972513465, 0.8035112528461107, 0.43426611735842574, 1.7639491068919717, 0.6591964418243806, 0.5588918663845319, 1.328621860077956, 0.7590544604514208, 1.2620719260050435, 0.6139596739398535, 0.46530437296464644, 0.5119135293939944, 0.4202614582474007, 0.433973952080169, 0.4013820920604715, 0.39253739843161173, 0.5580400465246661, 0.41120572305333014, 0.3609556576665349, 0.3573820856871147, 0.3548768987223602, 0.35041033966725244, 0.35041033966725244, 0.3498759833569172, 0.3485219846388158, 0.3452644841297844, 0.3446203814263955, 0.6186652559855563, 0.3418051136188254, 0.38838858661820036, 0.33599634663608896, 0.3346425519709493, 0.33398445829756407, 0.3337529310924002, 0.33115917085601415, 0.32411387392798024, 0.39665670161037536, 0.35042836740288846, 0.3227329342007521, 0.45238331347686933, 0.6210583798255707, 0.3917439826901199, 0.434808972900415, 0.4615223670979182, 0.5046362148345817, 0.46489512951767537, 0.6280985246246465, 0.6222780590033837, 2.1330687377158606, 0.8607301263792475, 1.6116719547245941, 0.6008283548151375, 0.6375262901010135, 0.5832341309577079, 0.5832226688217718, 0.5227234181475586, 0.5189297030690407, 0.44659604081933, 0.4444873254887725, 0.4383183202905422, 0.4383183202905422, 0.4331335755332425, 0.4251108693358733, 0.4261218564854367, 0.4163667914608395, 0.4680390533519062, 0.4382277287972919, 0.40771782728165196, 0.44634257408548106, 0.3975002182777577, 0.4375237732536837, 0.5337345525941616, 0.4027074216098224, 0.7495248184139448, 0.42020519044555016, 0.37405405679939685, 0.46814245396362786, 0.5238466132097793, 0.3659687749699082, 0.36811602128715865, 0.3540607884007047, 0.6225957719886466, 1.161339500170388, 0.6946650513746899, 5.859004592521593, 3.1645186786173145, 0.7978988072644239, 0.9520716231482228, 0.7736652181712507, 0.467577431767474, 0.43598954158510955, 0.4345724838052985, 0.42498533343193584, 0.6154189324459356, 0.3891444777042207, 0.37909991921877567, 0.37909991921877567, 0.36299921502909793, 0.4142652990112536, 0.4874399635892601, 0.3860706088495934, 0.3455189884543108, 0.3454597550512755, 0.4306263299564405, 0.3420003193744241, 0.4162750693050429, 0.42469358410286595, 0.33106806257718585, 0.33029748892300353, 0.32904269177471956, 0.4215652431390052, 0.37393396727521905, 0.3260130435460395, 0.36005999469534344, 0.32493135206213153, 0.3242095315420869, 0.32341224088169906, 0.31820902120842043, 0.5322686780002427, 0.4914750966822859, 0.4914750966822859, 0.425877356650088, 1.349830350637303, 0.41822191589036395, 0.41822191589036395, 1.4628711608381713, 0.4777508509887281, 1.7440160294607903, 1.110192320271835, 1.8965333782500442, 1.4262254835714003, 2.045057503264559, 0.525281234808717, 0.4985454364883317, 0.5089286596179181, 0.41473378907437963, 0.36705763334225305, 0.36323944278086173, 0.3498123268667164, 0.3475921526860041, 0.3463314650167134, 0.7601259994779945, 0.34139042611242015, 0.3478816096956392, 0.5106199403873977, 0.3370444234596805, 0.33529716711740887, 0.44933170059886407, 0.335187952037572, 0.33509982090556106, 0.33353503803045204, 0.32972385178528063, 0.32972385178528063, 0.3520348192356607, 0.4024065153335553, 0.4406002016337607, 0.3243167065524098, 0.3207873796235978, 0.3183980198155282, 0.318221804340607, 0.5539826486185663, 0.36894967486898766, 0.3987979254215238, 0.3935756297046507, 0.4743861292760213, 0.49770122227777525, 0.7674123756299955, 0.9256571664074277, 1.6116719547245941, 2.5258829379702528], \"Category\": [\"Default\", \"Default\", \"Default\", \"Default\", \"Default\", \"Default\", \"Default\", \"Default\", \"Default\", \"Default\", \"Default\", \"Default\", \"Default\", \"Default\", \"Default\", \"Default\", \"Default\", \"Default\", \"Default\", \"Default\", \"Default\", \"Default\", \"Default\", \"Default\", \"Default\", \"Default\", \"Default\", \"Default\", \"Default\", \"Default\", \"Topic1\", \"Topic1\", \"Topic1\", \"Topic1\", \"Topic1\", \"Topic1\", \"Topic1\", \"Topic1\", \"Topic1\", \"Topic1\", \"Topic1\", \"Topic1\", \"Topic1\", \"Topic1\", \"Topic1\", \"Topic1\", \"Topic1\", \"Topic1\", \"Topic1\", \"Topic1\", \"Topic1\", \"Topic1\", \"Topic1\", \"Topic1\", \"Topic1\", \"Topic1\", \"Topic1\", \"Topic1\", \"Topic1\", \"Topic1\", \"Topic2\", \"Topic2\", \"Topic2\", \"Topic2\", \"Topic2\", \"Topic2\", \"Topic2\", \"Topic2\", \"Topic2\", \"Topic2\", \"Topic2\", \"Topic2\", \"Topic2\", \"Topic2\", \"Topic2\", \"Topic2\", \"Topic2\", \"Topic2\", \"Topic2\", \"Topic2\", \"Topic2\", \"Topic2\", \"Topic2\", \"Topic2\", \"Topic2\", \"Topic2\", \"Topic2\", \"Topic2\", \"Topic2\", \"Topic2\", \"Topic2\", \"Topic2\", \"Topic2\", \"Topic2\", \"Topic2\", \"Topic2\", \"Topic2\", \"Topic2\", \"Topic2\", \"Topic3\", \"Topic3\", \"Topic3\", \"Topic3\", \"Topic3\", \"Topic3\", \"Topic3\", \"Topic3\", \"Topic3\", \"Topic3\", \"Topic3\", \"Topic3\", \"Topic3\", \"Topic3\", \"Topic3\", \"Topic3\", \"Topic3\", \"Topic3\", \"Topic3\", \"Topic3\", \"Topic3\", \"Topic3\", \"Topic3\", \"Topic3\", \"Topic3\", \"Topic3\", \"Topic3\", \"Topic3\", \"Topic3\", \"Topic3\", \"Topic3\", \"Topic3\", \"Topic3\", \"Topic3\", \"Topic3\", \"Topic3\", \"Topic3\", \"Topic3\", \"Topic3\", \"Topic3\", \"Topic3\", \"Topic3\", \"Topic3\", \"Topic3\", \"Topic4\", \"Topic4\", \"Topic4\", \"Topic4\", \"Topic4\", \"Topic4\", \"Topic4\", \"Topic4\", \"Topic4\", \"Topic4\", \"Topic4\", \"Topic4\", \"Topic4\", \"Topic4\", \"Topic4\", \"Topic4\", \"Topic4\", \"Topic4\", \"Topic4\", \"Topic4\", \"Topic4\", \"Topic4\", \"Topic4\", \"Topic4\", \"Topic4\", \"Topic4\", \"Topic4\", \"Topic4\", \"Topic4\", \"Topic4\", \"Topic4\", \"Topic4\", \"Topic4\", \"Topic4\", \"Topic4\", \"Topic4\", \"Topic4\", \"Topic4\", \"Topic4\", \"Topic4\", \"Topic4\", \"Topic4\", \"Topic5\", \"Topic5\", \"Topic5\", \"Topic5\", \"Topic5\", \"Topic5\", \"Topic5\", \"Topic5\", \"Topic5\", \"Topic5\", \"Topic5\", \"Topic5\", \"Topic5\", \"Topic5\", \"Topic5\", \"Topic5\", \"Topic5\", \"Topic5\", \"Topic5\", \"Topic5\", \"Topic5\", \"Topic5\", \"Topic5\", \"Topic5\", \"Topic5\", \"Topic5\", \"Topic5\", \"Topic5\", \"Topic5\", \"Topic5\", \"Topic5\", \"Topic5\", \"Topic5\", \"Topic5\", \"Topic5\", \"Topic5\", \"Topic5\", \"Topic5\", \"Topic5\", \"Topic5\", \"Topic5\", \"Topic5\", \"Topic5\", \"Topic5\", \"Topic5\", \"Topic6\", \"Topic6\", \"Topic6\", \"Topic6\", \"Topic6\", \"Topic6\", \"Topic6\", \"Topic6\", \"Topic6\", \"Topic6\", \"Topic6\", \"Topic6\", \"Topic6\", \"Topic6\", \"Topic6\", \"Topic6\", \"Topic6\", \"Topic6\", \"Topic6\", \"Topic6\", \"Topic6\", \"Topic6\", \"Topic6\", \"Topic6\", \"Topic6\", \"Topic6\", \"Topic6\", \"Topic6\", \"Topic6\", \"Topic6\", \"Topic6\", \"Topic6\", \"Topic6\", \"Topic6\", \"Topic6\", \"Topic6\", \"Topic6\", \"Topic6\", \"Topic6\", \"Topic6\", \"Topic6\", \"Topic6\", \"Topic6\", \"Topic6\", \"Topic7\", \"Topic7\", \"Topic7\", \"Topic7\", \"Topic7\", \"Topic7\", \"Topic7\", \"Topic7\", \"Topic7\", \"Topic7\", \"Topic7\", \"Topic7\", \"Topic7\", \"Topic7\", \"Topic7\", \"Topic7\", \"Topic7\", \"Topic7\", \"Topic7\", \"Topic7\", \"Topic7\", \"Topic7\", \"Topic7\", \"Topic7\", \"Topic7\", \"Topic7\", \"Topic7\", \"Topic7\", \"Topic7\", \"Topic7\", \"Topic7\", \"Topic7\", \"Topic7\", \"Topic7\", \"Topic7\", \"Topic7\", \"Topic7\", \"Topic7\", \"Topic7\", \"Topic7\", \"Topic8\", \"Topic8\", \"Topic8\", \"Topic8\", \"Topic8\", \"Topic8\", \"Topic8\", \"Topic8\", \"Topic8\", \"Topic8\", \"Topic8\", \"Topic8\", \"Topic8\", \"Topic8\", \"Topic8\", \"Topic8\", \"Topic8\", \"Topic8\", \"Topic8\", \"Topic8\", \"Topic8\", \"Topic8\", \"Topic8\", \"Topic8\", \"Topic8\", \"Topic8\", \"Topic8\", \"Topic8\", \"Topic8\", \"Topic8\", \"Topic8\", \"Topic8\", \"Topic8\", \"Topic8\", \"Topic8\", \"Topic8\", \"Topic8\", \"Topic8\", \"Topic9\", \"Topic9\", \"Topic9\", \"Topic9\", \"Topic9\", \"Topic9\", \"Topic9\", \"Topic9\", \"Topic9\", \"Topic9\", \"Topic9\", \"Topic9\", \"Topic9\", \"Topic9\", \"Topic9\", \"Topic9\", \"Topic9\", \"Topic9\", \"Topic9\", \"Topic9\", \"Topic9\", \"Topic9\", \"Topic9\", \"Topic9\", \"Topic9\", \"Topic9\", \"Topic9\", \"Topic9\", \"Topic9\", \"Topic9\", \"Topic9\", \"Topic9\", \"Topic9\", \"Topic9\", \"Topic9\", \"Topic9\", \"Topic9\", \"Topic9\", \"Topic9\", \"Topic9\", \"Topic9\", \"Topic9\", \"Topic10\", \"Topic10\", \"Topic10\", \"Topic10\", \"Topic10\", \"Topic10\", \"Topic10\", \"Topic10\", \"Topic10\", \"Topic10\", \"Topic10\", \"Topic10\", \"Topic10\", \"Topic10\", \"Topic10\", \"Topic10\", \"Topic10\", \"Topic10\", \"Topic10\", \"Topic10\", \"Topic10\", \"Topic10\", \"Topic10\", \"Topic10\", \"Topic10\", \"Topic10\", \"Topic10\", \"Topic10\", \"Topic10\", \"Topic10\", \"Topic10\", \"Topic10\", \"Topic10\", \"Topic10\", \"Topic10\", \"Topic10\", \"Topic10\", \"Topic10\", \"Topic10\", \"Topic10\", \"Topic10\", \"Topic10\", \"Topic10\", \"Topic10\", \"Topic10\", \"Topic11\", \"Topic11\", \"Topic11\", \"Topic11\", \"Topic11\", \"Topic11\", \"Topic11\", \"Topic11\", \"Topic11\", \"Topic11\", \"Topic11\", \"Topic11\", \"Topic11\", \"Topic11\", \"Topic11\", \"Topic11\", \"Topic11\", \"Topic11\", \"Topic11\", \"Topic11\", \"Topic11\", \"Topic11\", \"Topic11\", \"Topic11\", \"Topic11\", \"Topic11\", \"Topic11\", \"Topic11\", \"Topic11\", \"Topic11\", \"Topic11\", \"Topic11\", \"Topic11\", \"Topic11\", \"Topic11\", \"Topic11\", \"Topic11\", \"Topic11\", \"Topic11\", \"Topic12\", \"Topic12\", \"Topic12\", \"Topic12\", \"Topic12\", \"Topic12\", \"Topic12\", \"Topic12\", \"Topic12\", \"Topic12\", \"Topic12\", \"Topic12\", \"Topic12\", \"Topic12\", \"Topic12\", \"Topic12\", \"Topic12\", \"Topic12\", \"Topic12\", \"Topic12\", \"Topic12\", \"Topic12\", \"Topic12\", \"Topic12\", \"Topic12\", \"Topic12\", \"Topic12\", \"Topic12\", \"Topic12\", \"Topic12\", \"Topic12\", \"Topic12\", \"Topic12\", \"Topic12\", \"Topic12\", \"Topic12\", \"Topic12\", \"Topic12\", \"Topic12\", \"Topic12\", \"Topic12\", \"Topic12\", \"Topic13\", \"Topic13\", \"Topic13\", \"Topic13\", \"Topic13\", \"Topic13\", \"Topic13\", \"Topic13\", \"Topic13\", \"Topic13\", \"Topic13\", \"Topic13\", \"Topic13\", \"Topic13\", \"Topic13\", \"Topic13\", \"Topic13\", \"Topic13\", \"Topic13\", \"Topic13\", \"Topic13\", \"Topic13\", \"Topic13\", \"Topic13\", \"Topic13\", \"Topic13\", \"Topic13\", \"Topic13\", \"Topic13\", \"Topic13\", \"Topic13\", \"Topic13\", \"Topic13\", \"Topic13\", \"Topic13\", \"Topic13\", \"Topic13\", \"Topic13\", \"Topic13\", \"Topic14\", \"Topic14\", \"Topic14\", \"Topic14\", \"Topic14\", \"Topic14\", \"Topic14\", \"Topic14\", \"Topic14\", \"Topic14\", \"Topic14\", \"Topic14\", \"Topic14\", \"Topic14\", \"Topic14\", \"Topic14\", \"Topic14\", \"Topic14\", \"Topic14\", \"Topic14\", \"Topic14\", \"Topic14\", \"Topic14\", \"Topic14\", \"Topic14\", \"Topic14\", \"Topic14\", \"Topic14\", \"Topic14\", \"Topic14\", \"Topic14\", \"Topic14\", \"Topic14\", \"Topic14\", \"Topic14\", \"Topic14\", \"Topic14\", \"Topic14\", \"Topic14\", \"Topic14\", \"Topic14\", \"Topic14\", \"Topic15\", \"Topic15\", \"Topic15\", \"Topic15\", \"Topic15\", \"Topic15\", \"Topic15\", \"Topic15\", \"Topic15\", \"Topic15\", \"Topic15\", \"Topic15\", \"Topic15\", \"Topic15\", \"Topic15\", \"Topic15\", \"Topic15\", \"Topic15\", \"Topic15\", \"Topic15\", \"Topic15\", \"Topic15\", \"Topic15\", \"Topic15\", \"Topic15\", \"Topic15\", \"Topic15\", \"Topic15\", \"Topic15\", \"Topic15\", \"Topic15\", \"Topic15\", \"Topic15\", \"Topic15\", \"Topic15\", \"Topic15\", \"Topic15\", \"Topic15\", \"Topic15\", \"Topic15\", \"Topic15\", \"Topic15\", \"Topic15\", \"Topic15\", \"Topic15\", \"Topic16\", \"Topic16\", \"Topic16\", \"Topic16\", \"Topic16\", \"Topic16\", \"Topic16\", \"Topic16\", \"Topic16\", \"Topic16\", \"Topic16\", \"Topic16\", \"Topic16\", \"Topic16\", \"Topic16\", \"Topic16\", \"Topic16\", \"Topic16\", \"Topic16\", \"Topic16\", \"Topic16\", \"Topic16\", \"Topic16\", \"Topic16\", \"Topic16\", \"Topic16\", \"Topic16\", \"Topic16\", \"Topic16\", \"Topic16\", \"Topic16\", \"Topic16\", \"Topic16\", \"Topic16\", \"Topic16\", \"Topic16\", \"Topic16\", \"Topic16\", \"Topic16\", \"Topic16\", \"Topic17\", \"Topic17\", \"Topic17\", \"Topic17\", \"Topic17\", \"Topic17\", \"Topic17\", \"Topic17\", \"Topic17\", \"Topic17\", \"Topic17\", \"Topic17\", \"Topic17\", \"Topic17\", \"Topic17\", \"Topic17\", \"Topic17\", \"Topic17\", \"Topic17\", \"Topic17\", \"Topic17\", \"Topic17\", \"Topic17\", \"Topic17\", \"Topic17\", \"Topic17\", \"Topic17\", \"Topic17\", \"Topic17\", \"Topic17\", \"Topic17\", \"Topic17\", \"Topic17\", \"Topic17\", \"Topic17\", \"Topic17\", \"Topic17\", \"Topic17\", \"Topic17\", \"Topic17\", \"Topic17\", \"Topic17\", \"Topic18\", \"Topic18\", \"Topic18\", \"Topic18\", \"Topic18\", \"Topic18\", \"Topic18\", \"Topic18\", \"Topic18\", \"Topic18\", \"Topic18\", \"Topic18\", \"Topic18\", \"Topic18\", \"Topic18\", \"Topic18\", \"Topic18\", \"Topic18\", \"Topic18\", \"Topic18\", \"Topic18\", \"Topic18\", \"Topic18\", \"Topic18\", \"Topic18\", \"Topic18\", \"Topic18\", \"Topic18\", \"Topic18\", \"Topic18\", \"Topic18\", \"Topic18\", \"Topic18\", \"Topic18\", \"Topic18\", \"Topic18\", \"Topic18\", \"Topic19\", \"Topic19\", \"Topic19\", \"Topic19\", \"Topic19\", \"Topic19\", \"Topic19\", \"Topic19\", \"Topic19\", \"Topic19\", \"Topic19\", \"Topic19\", \"Topic19\", \"Topic19\", \"Topic19\", \"Topic19\", \"Topic19\", \"Topic19\", \"Topic19\", \"Topic19\", \"Topic19\", \"Topic19\", \"Topic19\", \"Topic19\", \"Topic19\", \"Topic19\", \"Topic19\", \"Topic19\", \"Topic19\", \"Topic19\", \"Topic19\", \"Topic19\", \"Topic19\", \"Topic19\", \"Topic19\", \"Topic19\", \"Topic19\", \"Topic19\", \"Topic19\", \"Topic19\", \"Topic19\", \"Topic19\", \"Topic19\", \"Topic19\", \"Topic20\", \"Topic20\", \"Topic20\", \"Topic20\", \"Topic20\", \"Topic20\", \"Topic20\", \"Topic20\", \"Topic20\", \"Topic20\", \"Topic20\", \"Topic20\", \"Topic20\", \"Topic20\", \"Topic20\", \"Topic20\", \"Topic20\", \"Topic20\", \"Topic20\", \"Topic20\", \"Topic20\", \"Topic20\", \"Topic20\", \"Topic20\", \"Topic20\", \"Topic20\", \"Topic20\", \"Topic20\", \"Topic20\", \"Topic20\", \"Topic20\", \"Topic20\", \"Topic20\", \"Topic20\", \"Topic20\", \"Topic20\", \"Topic20\", \"Topic20\"], \"logprob\": [30.0, 29.0, 28.0, 27.0, 26.0, 25.0, 24.0, 23.0, 22.0, 21.0, 20.0, 19.0, 18.0, 17.0, 16.0, 15.0, 14.0, 13.0, 12.0, 11.0, 10.0, 9.0, 8.0, 7.0, 6.0, 5.0, 4.0, 3.0, 2.0, 1.0, -4.3191, -4.905, -4.9989, -5.1687, -5.2564, -5.313, -5.3775, -5.4517, -5.5362, -5.5538, -5.6386, -5.8799, -5.8829, -5.8832, -5.9142, -5.9279, -5.9336, -5.9449, -5.9502, -6.015, -6.0518, -6.0958, -6.1083, -6.1127, -6.121, -6.1739, -6.2353, -6.2421, -6.2973, -6.3007, -7.2692, -7.3656, -7.3402, -7.4552, -7.4743, -7.1639, -7.5384, -7.5492, -6.893, -7.555, -7.5948, -7.6677, -7.6919, -7.6919, -7.703, -7.7453, -7.8078, -7.8156, -6.4324, -7.743, -7.5594, -7.7553, -7.5507, -6.9265, -6.5057, -7.6922, -7.8974, -8.0152, -8.0194, -8.033, -7.3613, -7.1089, -7.3474, -7.7197, -7.0703, -6.577, -7.0528, -7.6525, -7.6918, -7.0987, -7.4609, -7.4461, -7.5679, -7.7151, -7.5299, -7.7546, -7.7759, -7.9045, -7.1194, -8.0371, -8.0917, -8.1042, -7.4798, -7.9067, -8.1485, -8.0362, -8.0812, -7.2766, -8.2143, -8.2176, -8.2219, -8.2377, -8.1707, -8.2458, -8.0601, -8.2679, -8.2807, -8.2809, -7.583, -7.8085, -7.4999, -7.6496, -7.6625, -8.0024, -7.9176, -7.369, -7.9183, -7.949, -7.9948, -7.9175, -7.7928, -8.0332, -8.0236, -7.0639, -7.2502, -7.2639, -7.3569, -7.4122, -7.4701, -6.7115, -7.3297, -7.3655, -7.6428, -7.598, -7.6857, -7.7717, -7.5139, -7.9957, -7.8293, -8.1091, -8.1145, -8.1521, -7.4991, -8.2401, -8.2401, -8.0967, -8.2596, -8.304, -8.2037, -8.185, -7.5468, -8.3611, -8.2851, -8.0751, -7.3042, -7.5608, -7.0758, -6.7718, -7.1007, -7.5411, -8.0984, -7.957, -7.7961, -7.949, -7.9163, -7.8315, -7.875, -8.0038, -8.1173, -8.1313, -8.1887, -8.1975, -8.1604, -8.3247, -8.1128, -8.3846, -8.0115, -7.8234, -7.276, -8.3201, -8.3928, -8.4985, -8.5205, -8.3887, -8.5649, -8.5754, -8.5924, -8.5924, -8.5924, -8.5924, -8.5952, -7.9344, -8.5083, -8.602, -8.4274, -8.4116, -8.3636, -8.5086, -7.8326, -8.519, -8.4907, -7.695, -8.1766, -8.0246, -8.2267, -8.4047, -8.4767, -8.3596, -8.3636, -8.2787, -7.1806, -7.8953, -7.9245, -8.003, -6.721, -8.1732, -8.3032, -8.3772, -8.4207, -8.2483, -8.3125, -8.5001, -8.5441, -8.5525, -7.8605, -8.5769, -8.5968, -8.6193, -8.4667, -8.6374, -8.2974, -8.2974, -8.5513, -8.6063, -8.7285, -8.7541, -8.5025, -8.624, -8.7869, -8.7869, -6.9069, -8.3844, -8.4195, -8.4743, -8.2378, -8.2745, -7.9727, -8.3229, -8.5057, -8.3831, -8.4821, -8.3975, -8.5181, -8.4563, -7.8556, -7.3591, -8.029, -7.8885, -7.7669, -8.2725, -8.3212, -8.3446, -8.3503, -8.417, -8.4442, -8.505, -8.5188, -8.531, -8.5444, -8.5813, -8.6057, -8.6057, -8.6148, -8.6291, -8.6517, -8.5813, -8.6615, -8.6163, -8.5877, -8.7269, -8.7999, -8.6538, -8.8229, -8.2243, -8.3768, -8.2867, -7.989, -8.3481, -8.4134, -7.9428, -7.9713, -8.3874, -8.3841, -8.5906, -8.2455, -8.2455, -8.2802, -8.3216, -7.7138, -8.4399, -8.4574, -8.4574, -8.5569, -8.5569, -8.5785, -8.6376, -8.6614, -8.6416, -8.7449, -8.8044, -8.5301, -8.8267, -8.7785, -8.8528, -8.7157, -8.686, -8.936, -8.936, -8.936, -8.9434, -8.8287, -8.7616, -8.9099, -9.0335, -8.5183, -8.7386, -8.7152, -8.8134, -8.7426, -8.7411, -8.7897, -8.8192, -7.8314, -8.0071, -8.1428, -8.2872, -7.7781, -8.3816, -8.3816, -8.1783, -8.1866, -8.4947, -7.8733, -8.5531, -8.4878, -8.5944, -8.5818, -7.8791, -8.6312, -8.6438, -8.0334, -8.6792, -8.5086, -8.6867, -8.3435, -8.7337, -8.7813, -8.6651, -8.6651, -8.812, -7.8158, -8.6453, -7.7448, -8.316, -7.9918, -8.2222, -8.1473, -8.2193, -8.2171, -8.4499, -8.3104, -8.4782, -8.4566, -8.5487, -8.0097, -8.0097, -8.2468, -8.1357, -8.3342, -8.2103, -8.3386, -7.9617, -8.3557, -7.9378, -8.4926, -8.5138, -8.5274, -7.8195, -8.5743, -7.973, -8.5757, -8.603, -8.6334, -8.384, -8.7323, -8.7687, -8.8197, -8.8197, -8.4429, -8.8451, -8.8524, -8.8613, -8.8662, -8.6507, -8.0167, -8.503, -8.6047, -7.8584, -7.9055, -8.7008, -8.2978, -8.3366, -8.4115, -8.2611, -8.4255, -8.3961, -8.5093, -8.5627, -8.5695, -7.4533, -7.4533, -8.0157, -7.895, -8.1762, -8.2079, -7.8342, -8.2208, -7.7739, -8.2637, -7.9851, -8.3116, -8.3116, -8.3698, -7.9055, -8.2435, -8.5989, -8.5991, -8.611, -7.9224, -8.6891, -8.7019, -8.7019, -8.2529, -8.705, -8.4564, -8.6063, -8.6287, -8.7503, -7.9207, -8.328, -7.6208, -8.3331, -8.2323, -8.5933, -7.4629, -7.5274, -8.5499, -8.5807, -8.2449, -8.2666, -8.378, -8.2117, -8.4188, -8.4296, -8.514, -8.2781, -8.6139, -8.5595, -8.6699, -8.6775, -8.6829, -8.7023, -8.7023, -8.4128, -8.7685, -8.6878, -8.7815, -8.7815, -8.7842, -7.9428, -8.8025, -8.6732, -8.8237, -8.8237, -8.8242, -8.8533, -8.7209, -8.9089, -8.523, -8.4822, -8.3869, -8.733, -8.6709, -8.7041, -8.6148, -8.7499, -8.6779, -8.6273, -8.6963, -8.6983, -7.5783, -7.157, -7.7812, -7.7854, -7.8162, -7.82, -7.8243, -7.6791, -7.8343, -7.354, -8.0292, -8.0294, -7.6758, -8.0837, -8.104, -8.1183, -6.6051, -7.5604, -8.2925, -8.2925, -7.6646, -8.3696, -8.3696, -8.2393, -8.3225, -8.4525, -8.4738, -8.4312, -8.3647, -7.8149, -7.1257, -7.1279, -7.5292, -7.9712, -7.0959, -7.4537, -7.1552, -7.4141, -8.0291, -6.8083, -7.661, -7.7734, -7.8989, -7.906, -8.0371, -7.4861, -8.3532, -8.3532, -8.5459, -8.6298, -8.5906, -8.6813, -8.7473, -8.7521, -8.6668, -8.4888, -8.8167, -8.8439, -8.8489, -8.0541, -8.6567, -8.8792, -8.5299, -8.9076, -8.9131, -8.5675, -8.9682, -8.9682, -8.9968, -8.18, -8.372, -8.4042, -7.8348, -8.4683, -8.5572, -8.5383, -7.9551, -8.4076, -8.5472, -8.6781, -8.6453, -8.1791, -7.9516, -8.3187, -8.3022, -8.3141, -8.4713, -8.0511, -8.3313, -8.3685, -8.6284, -8.6353, -8.6371, -8.6637, -8.7043, -8.708, -8.7373, -8.7513, -8.8092, -8.5513, -8.7219, -8.7099, -7.9883, -8.8943, -8.8943, -7.9891, -8.9775, -9.0005, -9.0091, -9.0108, -9.0162, -8.7172, -8.5421, -8.4295, -8.7193, -8.7853, -8.5495, -8.3701, -8.6295, -8.5844, -7.9265, -8.4311, -8.5613, -8.5662, -8.6813, -8.6974, -8.0903, -8.2042, -8.4133, -8.4386, -8.4386, -8.1442, -8.5717, -8.5717, -8.5717, -8.7107, -8.7354, -8.1402, -8.9349, -8.9423, -8.9423, -8.9423, -8.7027, -9.0185, -9.0193, -9.0325, -9.0954, -9.1079, -8.8846, -9.2164, -9.0401, -9.2357, -9.2357, -9.2305, -9.3244, -9.3244, -8.5384, -9.2396, -8.7223, -9.1158, -8.6253, -8.9853, -9.0464, -8.8245, -8.9964, -8.9311, -8.0594, -8.3585, -8.3061, -8.5583, -8.5706, -8.6555, -8.7046, -8.456, -8.7664, -8.9024, -8.9275, -8.9454, -8.9783, -8.9783, -8.9823, -8.9925, -9.0175, -9.0225, -8.4437, -9.0447, -8.9398, -9.0922, -9.1036, -9.1092, -9.1112, -9.1336, -9.197, -8.998, -9.1242, -9.21, -8.8814, -8.612, -9.0286, -8.9902, -8.9614, -8.9338, -8.9926, -8.9039, -8.9827, -8.8899, -8.9953, -8.9969, -7.9113, -7.8614, -7.9582, -7.9583, -8.1386, -8.1511, -8.4246, -8.4402, -8.4613, -8.4613, -8.485, -8.5227, -8.5291, -8.5656, -8.4593, -8.5355, -8.6099, -8.5356, -8.6648, -8.5868, -8.4205, -8.708, -8.0951, -8.6839, -8.8037, -8.5978, -8.4863, -8.8564, -8.8538, -8.9396, -8.4972, -8.1663, -8.5403, -7.5739, -8.0448, -8.5601, -8.5724, -7.8117, -8.3292, -8.4551, -8.4616, -8.5066, -8.2191, -8.6955, -8.7556, -8.7556, -8.86, -8.7307, -8.5782, -8.8537, -8.9873, -8.9878, -8.7765, -9.015, -8.835, -8.8261, -9.1064, -9.1132, -9.1243, -8.8811, -9.0056, -9.1516, -9.0525, -9.1616, -9.1683, -9.1757, -9.2257, -8.7466, -8.8362, -8.8362, -8.9582, -8.1861, -8.9848, -8.9848, -8.3488, -8.9471, -8.5024, -8.7945, -8.7309, -8.8872, -8.9176, -8.0818, -8.1725, -8.1948, -8.5258, -8.8016, -8.8274, -8.9237, -8.9405, -8.9502, -8.1793, -8.9892, -8.9812, -8.6053, -9.0247, -9.0394, -8.7472, -9.0403, -9.0411, -9.0544, -9.0876, -9.0876, -9.0327, -8.9044, -8.8223, -9.1368, -9.1702, -9.1935, -9.1952, -8.6584, -9.078, -9.0104, -9.029, -8.899, -8.9195, -8.7084, -8.8595, -8.8576, -8.9928], \"loglift\": [30.0, 29.0, 28.0, 27.0, 26.0, 25.0, 24.0, 23.0, 22.0, 21.0, 20.0, 19.0, 18.0, 17.0, 16.0, 15.0, 14.0, 13.0, 12.0, 11.0, 10.0, 9.0, 8.0, 7.0, 6.0, 5.0, 4.0, 3.0, 2.0, 1.0, 0.326, 0.3259, 0.3258, 0.3257, 0.3257, 0.3257, 0.3256, 0.3256, 0.3256, 0.3255, 0.3255, 0.3253, 0.3253, 0.3253, 0.3253, 0.3253, 0.3252, 0.3252, 0.3252, 0.3252, 0.3251, 0.3251, 0.3251, 0.3251, 0.3251, 0.325, 0.3249, 0.3249, 0.3248, 0.3248, 3.3955, 3.3867, 3.3812, 3.3777, 3.3757, 3.3695, 3.3688, 3.3676, 3.3675, 3.3669, 3.3623, 3.3535, 3.3504, 3.3504, 3.349, 3.3435, 3.3349, 3.3338, 3.3327, 3.329, 3.3269, 3.3248, 3.3234, 3.3226, 3.3208, 3.3154, 3.3106, 3.3028, 3.3021, 3.2998, 3.2981, 3.2936, 3.2461, 3.2714, 3.0043, 2.7525, 2.7292, 3.0786, 1.9925, 3.5492, 3.512, 3.505, 3.4985, 3.4778, 3.4762, 3.4718, 3.4685, 3.4471, 3.4303, 3.4225, 3.4116, 3.4091, 3.4059, 3.4039, 3.3998, 3.3963, 3.3901, 3.3897, 3.3854, 3.3846, 3.3836, 3.3801, 3.38, 3.3782, 3.3736, 3.3731, 3.37, 3.37, 3.3699, 3.3638, 3.3544, 3.3215, 3.2831, 3.3268, 3.3046, 3.098, 3.2595, 3.2706, 3.247, 3.1513, 2.8989, 3.2273, 3.1822, 3.7908, 3.769, 3.7672, 3.7547, 3.7468, 3.7381, 3.7328, 3.7252, 3.7204, 3.7096, 3.7061, 3.7018, 3.6854, 3.6661, 3.6371, 3.6246, 3.6092, 3.6078, 3.598, 3.587, 3.574, 3.574, 3.5707, 3.5684, 3.5556, 3.5531, 3.5509, 3.5395, 3.5384, 3.5297, 3.5271, 3.5077, 3.4922, 3.4286, 3.3937, 3.3391, 3.4261, 3.4732, 3.3417, 2.336, 2.723, 1.8657, 3.8051, 3.7946, 3.7302, 3.7294, 3.7253, 3.708, 3.7052, 3.6826, 3.664, 3.6628, 3.6434, 3.6415, 3.6323, 3.6193, 3.614, 3.6052, 3.6018, 3.5934, 3.5861, 3.5762, 3.572, 3.5653, 3.5653, 3.5653, 3.5653, 3.5642, 3.5571, 3.5482, 3.543, 3.5384, 3.5357, 3.5125, 3.5381, 3.277, 3.5348, 3.5214, 3.1065, 3.3544, 3.2139, 3.1325, 3.3628, 3.4854, 3.1394, 3.1499, 2.4198, 4.0592, 3.9167, 3.8724, 3.8253, 3.7994, 3.7981, 3.7825, 3.7541, 3.7368, 3.7298, 3.7034, 3.7021, 3.6853, 3.6817, 3.6732, 3.671, 3.6622, 3.652, 3.6471, 3.6438, 3.6093, 3.6093, 3.6071, 3.6068, 3.6013, 3.5889, 3.5774, 3.5759, 3.5729, 3.5729, 3.5383, 3.5231, 3.5195, 3.4988, 3.3753, 3.3648, 3.0254, 3.278, 3.4642, 3.1369, 3.3282, 2.547, 3.2798, 2.0107, 3.9299, 3.8867, 3.8787, 3.8785, 3.8286, 3.7801, 3.7775, 3.7685, 3.7663, 3.74, 3.729, 3.701, 3.6978, 3.6925, 3.6868, 3.6706, 3.6597, 3.6597, 3.6556, 3.6491, 3.6388, 3.638, 3.6343, 3.6327, 3.6166, 3.6035, 3.5679, 3.5586, 3.5564, 3.5553, 3.5256, 3.5091, 3.2909, 3.3715, 3.3411, 2.423, 2.3582, 3.0056, 2.8569, 2.1792, 3.813, 3.813, 3.7999, 3.7845, 3.7473, 3.7376, 3.7303, 3.7303, 3.6878, 3.6878, 3.6782, 3.6512, 3.6405, 3.628, 3.6007, 3.5714, 3.5699, 3.5601, 3.5555, 3.5468, 3.5438, 3.5044, 3.5032, 3.5032, 3.5032, 3.4993, 3.4805, 3.4705, 3.4638, 3.45, 3.3666, 3.3713, 3.2766, 3.0823, 2.7705, 2.7392, 2.2603, 2.0526, 3.8887, 3.8259, 3.8156, 3.7798, 3.7695, 3.7622, 3.7622, 3.7477, 3.7295, 3.7157, 3.6967, 3.6905, 3.6839, 3.6721, 3.6708, 3.6686, 3.6554, 3.6496, 3.6473, 3.6331, 3.6325, 3.6296, 3.6156, 3.6071, 3.5838, 3.5735, 3.5735, 3.5684, 3.5569, 3.5503, 3.4899, 3.5184, 3.4746, 3.5032, 3.4089, 3.397, 2.901, 3.2472, 2.9946, 3.1629, 2.1409, 2.0757, 3.9302, 3.9302, 3.8468, 3.8319, 3.8124, 3.7991, 3.7764, 3.7736, 3.754, 3.7483, 3.7465, 3.7371, 3.7311, 3.7266, 3.7099, 3.7074, 3.6986, 3.6966, 3.6824, 3.6382, 3.6343, 3.6161, 3.5899, 3.5899, 3.5898, 3.5766, 3.5728, 3.5681, 3.5652, 3.5608, 3.5165, 3.5188, 3.5281, 3.256, 3.2379, 3.5246, 3.218, 3.0437, 3.0451, 2.5087, 2.8085, 1.8995, 2.7424, 2.8715, 1.8022, 4.0815, 4.0815, 3.9301, 3.8775, 3.8747, 3.8631, 3.8598, 3.8583, 3.8459, 3.8421, 3.8393, 3.8235, 3.8235, 3.7992, 3.7637, 3.7628, 3.7, 3.6999, 3.6914, 3.6892, 3.657, 3.6508, 3.6508, 3.6493, 3.6492, 3.6488, 3.6372, 3.6364, 3.6267, 3.6226, 3.5902, 3.3836, 3.5328, 3.4705, 3.6039, 2.5399, 2.2951, 3.4156, 3.2785, 3.8602, 3.8518, 3.8071, 3.7957, 3.7899, 3.7853, 3.7483, 3.7303, 3.7022, 3.6799, 3.6754, 3.6716, 3.6689, 3.6594, 3.6594, 3.63, 3.626, 3.6256, 3.6194, 3.6194, 3.618, 3.6141, 3.6085, 3.6001, 3.5974, 3.5974, 3.5972, 3.5817, 3.5662, 3.5517, 3.5486, 3.5052, 3.4433, 3.5259, 3.4275, 3.3599, 3.0972, 3.4414, 2.9671, 2.4227, 2.933, 2.6948, 4.0714, 4.0626, 4.0181, 4.017, 4.0081, 4.007, 3.9955, 3.9946, 3.9613, 3.9481, 3.9417, 3.9416, 3.9402, 3.923, 3.9159, 3.9109, 3.8686, 3.8649, 3.8454, 3.8454, 3.8354, 3.8142, 3.8142, 3.8122, 3.7968, 3.7789, 3.7696, 3.7556, 3.7506, 3.7502, 3.5971, 3.4874, 3.2978, 3.4366, 2.5843, 2.6217, 2.1375, 1.6399, 2.4378, 4.2308, 4.0671, 4.0362, 3.9987, 3.9965, 3.9536, 3.8756, 3.8338, 3.8338, 3.749, 3.7092, 3.7024, 3.6788, 3.6502, 3.648, 3.6325, 3.6257, 3.6142, 3.5996, 3.5969, 3.5954, 3.5919, 3.5805, 3.5677, 3.5648, 3.5618, 3.5498, 3.5308, 3.5308, 3.5144, 3.4963, 3.4918, 3.4905, 3.4091, 3.4746, 3.4824, 3.3649, 2.7761, 3.0599, 3.1811, 3.3204, 1.5213, 3.9699, 3.9198, 3.9114, 3.8891, 3.8554, 3.842, 3.8334, 3.8179, 3.77, 3.7644, 3.7608, 3.7514, 3.7461, 3.7246, 3.7227, 3.7069, 3.6993, 3.6674, 3.6593, 3.6481, 3.6479, 3.641, 3.619, 3.619, 3.6138, 3.57, 3.5561, 3.5509, 3.5499, 3.5422, 3.5419, 3.5106, 3.4564, 3.4978, 3.5038, 3.4135, 3.115, 3.3505, 3.274, 2.1016, 2.8469, 2.9218, 2.638, 2.9639, 3.1372, 4.0259, 3.8941, 3.8874, 3.8754, 3.8754, 3.8503, 3.81, 3.81, 3.81, 3.7369, 3.7234, 3.6251, 3.609, 3.6045, 3.6045, 3.6045, 3.5866, 3.5582, 3.5577, 3.5495, 3.51, 3.502, 3.4473, 3.4314, 3.4221, 3.4185, 3.4185, 3.4183, 3.3584, 3.3584, 3.2957, 3.338, 3.0238, 3.2456, 2.3344, 2.9587, 3.0627, 2.4186, 2.8066, 2.3635, 3.9557, 3.9339, 3.8909, 3.8359, 3.7915, 3.7846, 3.7579, 3.6546, 3.6496, 3.6439, 3.6288, 3.6179, 3.5977, 3.5977, 3.5952, 3.5889, 3.5733, 3.5701, 3.5639, 3.5561, 3.5332, 3.5257, 3.5184, 3.5148, 3.5135, 3.4989, 3.4569, 3.454, 3.4517, 3.4483, 3.4392, 3.3916, 3.4359, 3.37, 3.3392, 3.2774, 3.3006, 3.0885, 3.019, 1.8798, 2.682, 2.0532, 4.1254, 4.1161, 4.1083, 4.1083, 4.0374, 4.0322, 3.9088, 3.898, 3.8908, 3.8908, 3.8791, 3.86, 3.8513, 3.8379, 3.8273, 3.8169, 3.8146, 3.7984, 3.7851, 3.7671, 3.7346, 3.7289, 3.7205, 3.7104, 3.707, 3.6885, 3.6876, 3.6761, 3.6729, 3.6261, 3.504, 3.2115, 3.3513, 2.1854, 2.3305, 3.193, 3.0041, 3.9723, 3.9583, 3.9023, 3.8991, 3.8764, 3.7937, 3.7756, 3.7417, 3.7417, 3.6807, 3.6778, 3.6677, 3.6254, 3.6027, 3.6024, 3.5933, 3.5852, 3.5687, 3.5576, 3.5264, 3.5219, 3.5146, 3.51, 3.5054, 3.4965, 3.4963, 3.4899, 3.4854, 3.4804, 3.4466, 3.4113, 3.4015, 3.4015, 3.4228, 3.0412, 3.4143, 3.4143, 2.7981, 3.3189, 2.4688, 2.6283, 2.1564, 2.2851, 1.8943, 4.0894, 4.0509, 4.008, 3.8816, 3.7279, 3.7126, 3.654, 3.6435, 3.6374, 3.6222, 3.6129, 3.602, 3.5941, 3.5901, 3.5807, 3.5801, 3.5801, 3.5796, 3.5709, 3.5492, 3.5492, 3.5387, 3.5332, 3.5246, 3.5166, 3.4941, 3.4783, 3.4771, 3.4596, 3.4464, 3.4362, 3.4308, 3.3741, 3.3055, 3.0837, 2.7451, 2.1924, 1.608]}, \"token.table\": {\"Topic\": [13, 2, 13, 3, 13, 4, 13, 13, 2, 2, 3, 1, 13, 1, 13, 11, 6, 4, 1, 1, 4, 3, 1, 6, 1, 4, 1, 2, 1, 2, 1, 2, 1, 2, 1, 4, 2, 1, 1, 13, 3, 4, 1, 13, 2, 5, 3, 1, 14, 4, 13, 2, 1, 11, 2, 8, 4, 3, 4, 4, 5, 1, 4, 5, 1, 2, 9, 4, 9, 7, 1, 6, 1, 3, 4, 1, 13, 11, 4, 1, 11, 3, 2, 3, 9, 3, 3, 13, 1, 1, 18, 9, 1, 1, 4, 3, 3, 3, 4, 1, 4, 1, 4, 5, 1, 3, 1, 1, 2, 1, 13, 3, 3, 3, 2, 1, 7, 3, 1, 7, 13, 14, 3, 5, 2, 1, 3, 3, 4, 2, 4, 4, 4, 1, 2, 1, 1, 13, 1, 6, 1, 5, 1, 4, 3, 2, 3, 3, 2, 5, 3, 3, 5, 2, 5, 4, 2, 1, 3, 2, 2, 2, 1, 2, 1, 6, 10, 2, 4, 4, 10, 13, 4, 2, 2, 2, 3, 3, 3, 9, 1, 13, 13, 2, 3, 1, 13, 4, 4, 3, 4, 3, 1, 5, 1, 1, 1, 2, 3, 1, 1, 1, 3, 3, 7, 5, 1, 1, 13, 14, 9, 2, 5, 4, 3, 1, 4, 1, 4, 4, 3, 2, 4, 2, 2, 2, 3, 13, 3, 4, 3, 2, 2, 4, 1, 4, 1, 3, 3, 7, 4, 1, 1, 1, 1, 4, 1, 14, 1, 6, 5, 1, 2, 1, 2, 11, 2, 3, 1, 13, 14, 3, 3, 2, 1, 1, 1, 2, 1, 1, 2, 4, 1, 1, 11, 1, 1, 11, 2, 2], \"Freq\": [1.3397717943063705, 0.6394045357463755, 1.3166069595575116, 1.0749938607217142, 1.157684491853265, 1.077689942413588, 1.0926658325448761, 1.3457965270693972, 0.7266829370056885, 0.6341887093254419, 0.8051470176403668, 0.8561915150176815, 0.10702393937721019, 0.4964208703046278, 0.4964208703046278, 1.007582349025278, 1.3293042340426013, 1.1504051864928004, 0.9446274574080271, 0.7458130873460423, 0.7999082951781421, 0.8300007040533969, 0.33890533090748975, 0.33890533090748975, 1.0002166561405592, 0.643229881505028, 0.999427831767181, 0.8451229346871408, 0.5237498186095642, 0.5237498186095642, 0.17166425385818282, 0.8583212692909141, 0.18253826588803615, 0.9126913294401807, 0.997072185542954, 1.3508983855327583, 0.8140286698930755, 0.9961012025014362, 0.7023213457316794, 0.23410711524389313, 0.42510888057449264, 0.42510888057449264, 0.34869217719859325, 0.6973843543971865, 0.6028273679285991, 0.9308999293812373, 0.6306882827168692, 1.0003709467072355, 0.7532259384816864, 0.6088182802273268, 0.9730040952791774, 0.9742078735710117, 0.681155086357194, 1.1814317147289526, 0.5272778277821363, 0.9359780115268168, 0.6015791402503566, 0.8203320624773726, 0.6431103716547575, 0.6598637798763378, 0.6585430103686071, 1.0019712954021325, 0.6222543521810655, 0.9648010418569545, 0.9957472326260343, 0.5890466107133937, 1.020485057540017, 1.3330501570913833, 1.2126048105958067, 1.2709001542755363, 0.7892298032969818, 0.7500901258056802, 0.9993029691524362, 0.6926562802688425, 0.7268286567913124, 0.40174244943117543, 0.40174244943117543, 1.0969576433024761, 0.6433843244716382, 0.9885258956269304, 1.007582349025278, 0.5101776240718433, 0.8232390162095427, 0.863310181455468, 1.043617853829484, 0.5589448463266005, 1.131354465721202, 0.7351516882078264, 1.0503411462819279, 0.8533872812426154, 0.17067745624852307, 1.0206853694530853, 0.6835871994544187, 1.0008357658847975, 0.8394744079851824, 1.1240971214007944, 0.9762773854355169, 0.5938208072716733, 0.623486273056505, 0.997492256595783, 0.869510536624304, 0.8729005588841147, 0.17458011177682295, 1.133842889088251, 1.000382863262944, 0.7535770444404897, 0.7239024120314861, 0.7916514952354423, 0.15833029904708845, 0.9273902516312902, 0.08430820469375365, 0.7515995120612032, 1.023660498961328, 0.945444062986605, 1.0917363925167989, 0.9389895442312727, 0.31299651474375756, 1.1315047409769579, 0.7808511273345254, 1.2945951945010103, 1.0384714953415657, 0.6137063877444752, 1.094611385479288, 0.531520807369427, 0.6807152886894245, 0.998874035809625, 0.5733892252751697, 0.9106732819808433, 1.2104504872205197, 0.9213232224990666, 1.3941017884681948, 0.4889838052982293, 1.0207614025743754, 1.0000909648129792, 1.0860704070124854, 1.0259062894309892, 1.000184637171876, 0.798338349428798, 0.36533705958146795, 0.7306741191629359, 1.000250396850716, 1.281890945634469, 0.9993896260572529, 0.6771202535812577, 1.0813669738419274, 1.075725541948454, 0.5629896389754893, 0.7011514038410727, 0.5849640036603555, 1.3762864430591153, 0.7658224689488962, 1.1203215829264237, 1.2296709452425745, 0.48394653103100604, 0.48394653103100604, 0.5711398393978274, 0.6852551861119667, 0.7918023317450961, 0.8454943334411357, 0.7402635393070991, 0.8396360828973312, 1.0535224058857107, 0.8932377077984304, 0.6156949177625071, 0.7591060479758029, 1.3094580754910063, 1.0190254599088955, 0.2562149176865312, 0.5124298353730624, 0.6919212531972564, 0.6617393082033727, 1.3077967675358142, 1.045233626624603, 0.6156949177625071, 0.4688081458972687, 0.8441118815361561, 0.986018486478449, 0.7523848411150823, 0.9345610652492982, 0.7462915887590232, 0.4472964990777948, 0.4472964990777948, 1.3126253626575037, 0.5946934015018894, 1.1014856495813494, 0.9954984223062328, 1.349510596305803, 0.7065526057427617, 1.2495516361428338, 1.021206734646747, 0.7956363940058723, 1.052872159987116, 1.0003537951540704, 1.3899293955445786, 0.7923478681325202, 0.8107373979695385, 0.664193271536279, 1.0159617723416798, 0.909478780288904, 0.9999369957314694, 0.9990073235958719, 0.9980664988833527, 0.7157923528417692, 0.7050157351250785, 0.7546707678064832, 1.1528814562715495, 0.5835761119861173, 0.8731698162559236, 1.1301872434669635, 1.3261980899742363, 0.8567604891382988, 0.6216825602828943, 1.115503077481349, 1.2578482635870327, 1.1487910383282072, 1.0000495462257974, 0.9321994183619375, 0.7432781239237048, 0.24775937464123493, 1.3321409212322384, 1.077772322355803, 0.45104697270422944, 1.2319774496644809, 1.1308444204485735, 0.9987769271178076, 0.8356075951626903, 0.43362916666073514, 0.9030201772071665, 0.7401758279810375, 1.11120064442392, 0.8388462161802142, 0.8111669804262798, 0.3595526128499944, 0.7191052256999888, 0.9480114686227107, 0.9291409666903313, 0.5583206393807179, 1.161804344186959, 0.7351621690875262, 1.0705040488062372, 1.2152922151844552, 0.9111181842236604, 0.998840385422524, 1.0002632106692704, 0.999799059788388, 1.3321409212322384, 1.0009144062635533, 1.2222668892827517, 0.9987686914773668, 1.0064229096467765, 0.7491817407133174, 0.5552298361254818, 0.44418386890038547, 0.23394182424280643, 0.7018254727284193, 0.5928064200569678, 0.7860729863822301, 0.7370428704087412, 0.7884464259682961, 0.1576892851936592, 0.8473391669053056, 0.6321948625515089, 0.7250308763785831, 0.6449483196034846, 0.9054726872521569, 0.7526596016878163, 0.8006413158250799, 1.040777957266982, 0.9994673327676765, 1.0002159800057837, 0.33706663044501484, 0.6741332608900297, 0.5669097799323539, 0.8708551911995888, 0.2177137977998972, 1.0009909996927795, 0.9090751996156448, 0.18181503992312895, 0.74083383851005, 0.893355300710288], \"Term\": [\"0358\", \"1920\", \"30602\", \"3com\", \"542\", \"68040\", \"706\", \"7415\", \"absolutes\", \"adl\", \"ahl\", \"ai\", \"ai\", \"aisun3\", \"aisun3\", \"ak296\", \"alexia\", \"alfalfa\", \"alleg\", \"allegheny\", \"almanac\", \"alomar\", \"amanda\", \"amanda\", \"and\", \"angmar\", \"are\", \"argic\", \"armenia\", \"armenia\", \"armenian\", \"armenian\", \"armenians\", \"armenians\", \"as\", \"asphaug\", \"astein\", \"at\", \"athens\", \"athens\", \"ati\", \"ati\", \"ax\", \"ax\", \"azerbaijan\", \"babb\", \"baerga\", \"be\", \"bears\", \"beauchaine\", \"beck\", \"behanna\", \"betz\", \"bison\", \"blah\", \"bmug\", \"bobbe\", \"bone\", \"bony\", \"bony1\", \"breaker\", \"but\", \"c650\", \"cacs\", \"can\", \"cellar\", \"centaur\", \"chimps\", \"claire\", \"cns\", \"cnsvax\", \"cobb\", \"com\", \"convex\", \"cosmo\", \"covington\", \"covington\", \"crohn\", \"cruel\", \"curves\", \"daker\", \"dal\", \"dbd\", \"det\", \"diablo\", \"dma\", \"dougb\", \"dresden\", \"dsd\", \"dyer\", \"dyer\", \"eau\", \"econ\", \"edu\", \"egalon\", \"eliot\", \"enzo\", \"eskimo\", \"feustel\", \"for\", \"fourd\", \"fpu\", \"fpu\", \"fraering\", \"from\", \"gainey\", \"gehrels\", \"genocide\", \"genocide\", \"georgia\", \"georgia\", \"gilmour\", \"gloves\", \"glutamate\", \"gnv\", \"grass\", \"grass\", \"gt0523e\", \"gvg\", \"gvg47\", \"gwu\", \"halat\", \"hamer\", \"handheld\", \"hasan\", \"have\", \"hcf\", \"helmets\", \"hemul\", \"hernlem\", \"herringshaw\", \"hulman\", \"ico\", \"if\", \"ifas\", \"ifi\", \"in\", \"inf\", \"intercon\", \"intercon\", \"is\", \"iscp\", \"it\", \"jake\", \"jartsu\", \"jayne\", \"jays\", \"jhunix\", \"journalism\", \"jr0930\", \"kadie\", \"karn\", \"krillean\", \"ksu\", \"ksu\", \"kth\", \"kulikauskas\", \"kurt\", \"laurentian\", \"lebanese\", \"lebanon\", \"liar\", \"lib\", \"linknet\", \"lippard\", \"lis\", \"liverpool\", \"livesey\", \"livesey\", \"livni\", \"louisville\", \"louray\", \"magellan\", \"magpie\", \"maine\", \"manes\", \"maven\", \"maynard\", \"mbeaving\", \"mcmaster\", \"mcovingt\", \"mcovingt\", \"metzger\", \"mozumder\", \"mule\", \"my\", \"n4tmi\", \"nada\", \"nathaniel\", \"needles\", \"nextwork\", \"nichols\", \"not\", \"nuet_ke\", \"numlock\", \"nye\", \"nyeda\", \"nysernet\", \"obp\", \"of\", \"on\", \"or\", \"parr\", \"pegasus\", \"petch\", \"pgf\", \"philips\", \"photography\", \"pmetzger\", \"pooh\", \"proton\", \"psilink\", \"qazi\", \"queens\", \"rauser\", \"re\", \"rickert\", \"risc\", \"risc\", \"rmt6r\", \"rri\", \"sabbath\", \"sank\", \"sdpa\", \"sera\", \"serdar\", \"sfu\", \"shearson\", \"sherri\", \"slee01\", \"snichols\", \"snm6394\", \"solntze\", \"solntze\", \"spdcc\", \"srl\", \"steam\", \"steph\", \"superstition\", \"svoboda\", \"tdawson\", \"teenagers\", \"that\", \"the\", \"they\", \"thigpen\", \"this\", \"thomasp\", \"to\", \"towers\", \"tufts\", \"turkish\", \"turkish\", \"turks\", \"turks\", \"ubc\", \"ufl\", \"ug\", \"uga\", \"uga\", \"uio\", \"umanitoba\", \"uoregon\", \"urartu\", \"valley\", \"vcd\", \"viamar\", \"villages\", \"was\", \"with\", \"wpd\", \"wpd\", \"wv\", \"yfn\", \"yfn\", \"you\", \"ysu\", \"ysu\", \"zionism\", \"zuma\"]}, \"R\": 30, \"lambda.step\": 0.01, \"plot.opts\": {\"xlab\": \"PC1\", \"ylab\": \"PC2\"}, \"topic.order\": [4, 7, 13, 20, 9, 19, 8, 18, 12, 11, 17, 2, 10, 3, 1, 5, 15, 14, 6, 16]};\n",
       "\n",
       "function LDAvis_load_lib(url, callback){\n",
       "  var s = document.createElement('script');\n",
       "  s.src = url;\n",
       "  s.async = true;\n",
       "  s.onreadystatechange = s.onload = callback;\n",
       "  s.onerror = function(){console.warn(\"failed to load library \" + url);};\n",
       "  document.getElementsByTagName(\"head\")[0].appendChild(s);\n",
       "}\n",
       "\n",
       "if(typeof(LDAvis) !== \"undefined\"){\n",
       "   // already loaded: just create the visualization\n",
       "   !function(LDAvis){\n",
       "       new LDAvis(\"#\" + \"ldavis_el5061471403551874357761840137962\", ldavis_el5061471403551874357761840137962_data);\n",
       "   }(LDAvis);\n",
       "}else if(typeof define === \"function\" && define.amd){\n",
       "   // require.js is available: use it to load d3/LDAvis\n",
       "   require.config({paths: {d3: \"https://d3js.org/d3.v5\"}});\n",
       "   require([\"d3\"], function(d3){\n",
       "      window.d3 = d3;\n",
       "      LDAvis_load_lib(\"https://cdn.jsdelivr.net/gh/bmabey/pyLDAvis@3.3.1/pyLDAvis/js/ldavis.v3.0.0.js\", function(){\n",
       "        new LDAvis(\"#\" + \"ldavis_el5061471403551874357761840137962\", ldavis_el5061471403551874357761840137962_data);\n",
       "      });\n",
       "    });\n",
       "}else{\n",
       "    // require.js not available: dynamically load d3 & LDAvis\n",
       "    LDAvis_load_lib(\"https://d3js.org/d3.v5.js\", function(){\n",
       "         LDAvis_load_lib(\"https://cdn.jsdelivr.net/gh/bmabey/pyLDAvis@3.3.1/pyLDAvis/js/ldavis.v3.0.0.js\", function(){\n",
       "                 new LDAvis(\"#\" + \"ldavis_el5061471403551874357761840137962\", ldavis_el5061471403551874357761840137962_data);\n",
       "            })\n",
       "         });\n",
       "}\n",
       "</script>"
      ],
      "text/plain": [
       "PreparedData(topic_coordinates=              x         y  topics  cluster       Freq\n",
       "topic                                                \n",
       "3      0.308228  0.284840       1        1  72.167069\n",
       "6      0.022534 -0.090680       2        1   3.058936\n",
       "12    -0.073877 -0.053421       3        1   2.625435\n",
       "19    -0.032397  0.042074       4        1   2.013814\n",
       "8      0.021261 -0.034705       5        1   1.696641\n",
       "18     0.009191 -0.026355       6        1   1.423072\n",
       "7     -0.007749  0.017428       7        1   1.418986\n",
       "17    -0.027316 -0.037973       8        1   1.402285\n",
       "11    -0.047260  0.002215       9        1   1.399680\n",
       "10     0.003320  0.005012      10        1   1.326154\n",
       "16     0.014343 -0.004818      11        1   1.322416\n",
       "1     -0.017728  0.005593      12        1   1.298752\n",
       "9     -0.044319 -0.014075      13        1   1.290551\n",
       "2     -0.031793  0.007776      14        1   1.261935\n",
       "0     -0.013078 -0.030712      15        1   1.127869\n",
       "4     -0.022226 -0.007463      16        1   1.088953\n",
       "14    -0.017831 -0.020672      17        1   1.045894\n",
       "13    -0.028812 -0.016562      18        1   1.033028\n",
       "5     -0.009725 -0.016152      19        1   1.015381\n",
       "15    -0.004765 -0.011351      20        1   0.983148, topic_info=         Term        Freq       Total Category  logprob  loglift\n",
       "114455    the  974.000000  974.000000  Default  30.0000  30.0000\n",
       "115475     to  542.000000  542.000000  Default  29.0000  29.0000\n",
       "89362      of  494.000000  494.000000  Default  28.0000  28.0000\n",
       "28146     and  416.000000  416.000000  Default  27.0000  27.0000\n",
       "66608      in  381.000000  381.000000  Default  26.0000  26.0000\n",
       "...       ...         ...         ...      ...      ...      ...\n",
       "82227    ming    0.133403    0.497701  Topic20  -8.9195   3.3055\n",
       "68604    isis    0.164765    0.767412  Topic20  -8.7084   3.0837\n",
       "34786   brake    0.141655    0.925657  Topic20  -8.8595   2.7451\n",
       "111259     su    0.141923    1.611672  Topic20  -8.8576   2.1924\n",
       "73843    kurt    0.123984    2.525883  Topic20  -8.9928   1.6080\n",
       "\n",
       "[847 rows x 6 columns], token_table=        Topic      Freq     Term\n",
       "term                            \n",
       "875        13  1.339772     0358\n",
       "6216        2  0.639405     1920\n",
       "11475      13  1.316607    30602\n",
       "12655       3  1.074994     3com\n",
       "15266      13  1.157684      542\n",
       "...       ...       ...      ...\n",
       "128402      1  1.000991      you\n",
       "128529      1  0.909075      ysu\n",
       "128529     11  0.181815      ysu\n",
       "129427      2  0.740834  zionism\n",
       "129935      2  0.893355     zuma\n",
       "\n",
       "[280 rows x 3 columns], R=30, lambda_step=0.01, plot_opts={'xlab': 'PC1', 'ylab': 'PC2'}, topic_order=[4, 7, 13, 20, 9, 19, 8, 18, 12, 11, 17, 2, 10, 3, 1, 5, 15, 14, 6, 16])"
      ]
     },
     "execution_count": 108,
     "metadata": {},
     "output_type": "execute_result"
    }
   ],
   "source": [
    "import pyLDAvis.sklearn\n",
    "pyLDAvis.sklearn.prepare(latent, vectors, vectorizer, mds='mmds')"
   ]
  },
  {
   "cell_type": "markdown",
   "metadata": {},
   "source": [
    "## Evaluation des performances\n",
    "\n",
    "Les performances sont très dures à évaluer en clustering... Ce qui explique que cette évaluation est souvent, au moins partiellement, qualitative (=étudiée à l'oeil, sur des exemples ou des paramètres). \n",
    "Afin d'éviter de faire n'importe quoi, il faut aussi réfléchir à des métriques quantitatives.\n",
    "\n",
    "### Qualitatif\n",
    "\n",
    "Analyser le vocabulaire des différents clusters\n",
    "1. En terme de mots les plus fréquents, les plus probables ou de dimensions des vecteurs propres les plus fortes.\n",
    "1. En terme de mots discriminants\n",
    "    - construction de critère de contraste (type odd's ratio) entre la présence dans une classe et présence dans les autres classe\n",
    "1. Affichage \n",
    "    - des 10 ou 20 mots critiques de chaque classe ```print```\n",
    "    - sous la forme de word cloud\n",
    "    - affichage interactif avancé: http://www.kennyshirley.com/LDAvis/\n",
    "        - pour une version intégrable dans un notebook: https://github.com/bmabey/pyLDAvis\n",
    "        - merci de l'utiliser **après avoir compris le principe de réduction de la dimensionalité pour les clusters**\n",
    "    \n",
    "### Quantitatif\n",
    "\n",
    "Pour donner des chiffres, il faut des étiquettes. C'est rarement le cas sur des jeux de données industriels... Mais c'est bon dans un cadre académique comme 20 newsgroups!\n",
    "\n",
    "**Problème:** Comme nos algorithmes sont non supervisés, les sorties (bien que catégorielles) ne sont pas alignées avec l'encodage des étiquettes du jeu de données. Il faut trouver des astuces.\n",
    "\n",
    "1. Etude basique sur la taille des clusters\n",
    "    - est ce qu'une classe n'a pas tout attrapé?\n",
    "1. Pureté = extraction de la classe majoritaire dans un cluster + calcul de la pureté du cluster\n",
    "    - 1 score par cluster par défaut\n",
    "    - agrégation par somme pondérée sur la taille des clusters\n",
    "1. Indice de Rand  https://fr.wikipedia.org/wiki/Indice_de_Rand\n",
    "1. Métrique adaptée à une hypothèse spécifique\n"
   ]
  },
  {
   "cell_type": "code",
   "execution_count": null,
   "metadata": {},
   "outputs": [],
   "source": []
  },
  {
   "cell_type": "markdown",
   "metadata": {},
   "source": [
    "## Vers une version plus évoluée des algorithmes\n",
    "\n",
    "1. Si l'un des clusters attiré toutes les données: êtes-vous capable de supprimer ce cluster et de simplement répartir les échantillons dans les autres catégories?\n",
    "\n",
    "1. Si vous avez une idée vague des thématiques que vous souhaitez voir isolées... \n",
    "    - trouver 10 mots dans chaque catégories\n",
    "    - biaiser l'initialisation pour attirer ces classes\n",
    "\n",
    "1. Si vous mettez un utilisateur dans la boucle\n",
    "    - passer en mode supervisé multiclasse et exploiter les feedbacks de l'utilisateur pour forcer le passage d'un document dans la classe d'à coté \n",
    "        - Naive Bayes, SVM ou autre...\n",
    "    - réfléchir à une approche active qui sélectionne les documents les plus intéressants à montrer à l'utilisateur pour lui demander un étiquetage."
   ]
  },
  {
   "cell_type": "code",
   "execution_count": null,
   "metadata": {},
   "outputs": [],
   "source": []
  }
 ],
 "metadata": {
  "kernelspec": {
   "display_name": "Python 3.9.12 ('base')",
   "language": "python",
   "name": "python3"
  },
  "language_info": {
   "codemirror_mode": {
    "name": "ipython",
    "version": 3
   },
   "file_extension": ".py",
   "mimetype": "text/x-python",
   "name": "python",
   "nbconvert_exporter": "python",
   "pygments_lexer": "ipython3",
   "version": "3.9.12"
  },
  "vscode": {
   "interpreter": {
    "hash": "bc5a6fcd42aefd11aead72b01bc4e6842c205ebb69c94514e1be95f4dbf05863"
   }
  }
 },
 "nbformat": 4,
 "nbformat_minor": 2
}
